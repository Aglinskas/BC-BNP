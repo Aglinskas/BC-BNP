{
 "cells": [
  {
   "cell_type": "code",
   "execution_count": null,
   "metadata": {},
   "outputs": [],
   "source": [
    "import theano\n",
    "import bokeh\n",
    "import pymc3 as pm\n",
    "import numpy as np\n",
    "import theano.tensor as tt\n",
    "from matplotlib import pyplot as plt\n",
    "\n",
    "print('Running on PyMC3 v{}'.format(pm.__version__))\n",
    "\n",
    "from datetime import datetime\n",
    "import pickle # python3\n",
    "import os\n",
    "now = datetime.now\n",
    "\n",
    "t_start = now()\n",
    "print('hello')\n",
    "print(t_start)\n",
    "\n",
    "import multiprocessing\n",
    "ncores = multiprocessing.cpu_count()\n",
    "print('numcores: {}'.format(ncores))\n",
    "#%%"
   ]
  },
  {
   "cell_type": "code",
   "execution_count": null,
   "metadata": {},
   "outputs": [],
   "source": [
    "m = [1,2,3];sd=[1,1,1];cov=np.eye(len(sd))*sd;\n",
    "data1=pm.MvNormal.dist(mu=m,cov=cov).random(size=2000)\n",
    "\n",
    "m = [7,8,9];sd=[1,1,1];cov=np.eye(len(sd))*sd;\n",
    "data2=pm.MvNormal.dist(mu=m,cov=cov).random(size=1000)\n",
    "\n",
    "#m = [15,16,17];sd=[1,1,1];cov=np.eye(len(sd))*sd;\n",
    "#data3=pm.MvNormal.dist(mu=m,cov=cov).random(size=100)\n",
    "\n",
    "data=np.vstack((data1,data2))\n",
    "\n",
    "nsamples=data.shape[0]\n",
    "ndim=data.shape[1]\n",
    "\n",
    "print('Multivariate Data, 2 clusters, 123 ; 789,100 each')"
   ]
  },
  {
   "cell_type": "code",
   "execution_count": null,
   "metadata": {},
   "outputs": [],
   "source": [
    "# Working model, inferring mus \n",
    "\n",
    "def stick_breaking(beta):\n",
    "    portion_remaining = tt.concatenate([[1], tt.extra_ops.cumprod(1 - beta)[:-1]])\n",
    "    return beta * portion_remaining\n",
    "\n",
    "infinity=5\n",
    "with pm.Model() as model:\n",
    "    alpha = pm.Gamma('alpha', 1., 1.)\n",
    "    #beta = pm.Beta('beta', 1., alpha, shape=infinity)\n",
    "    w = pm.Deterministic('w', stick_breaking(pm.Beta.dist(alpha=1,beta=alpha,shape=infinity).random()))\n",
    "    w = w/tt.sum(w) # make sure it sums to 1, not .9999\n",
    "    \n",
    "    mus=[pm.Uniform('mu{}'.format(i),0,10,shape=ndim) for i in range(infinity)]\n",
    "    components = [pm.MvNormal.dist(mu=mus[i], cov=np.eye(ndim), shape=data.shape) for i in range(infinity)]\n",
    "    \n",
    "    like = pm.Mixture('like', w=w, comp_dists = components, observed=data, shape=(infinity,data.shape[0],data.shape[1]))\n",
    "    \n",
    "print('model defined')"
   ]
  },
  {
   "cell_type": "code",
   "execution_count": null,
   "metadata": {
    "scrolled": false
   },
   "outputs": [],
   "source": [
    "with model:\n",
    "    approx = pm.fit(method='asvgd', callbacks=[pm.callbacks.CheckParametersConvergence(diff='absolute')]);\n",
    "\n",
    "trace = approx.sample(5000);\n",
    "print(pm.summary(trace));"
   ]
  },
  {
   "cell_type": "code",
   "execution_count": null,
   "metadata": {},
   "outputs": [],
   "source": [
    "plt.bar(np.arange(infinity),trace['w'].mean(axis=0));"
   ]
  },
  {
   "cell_type": "code",
   "execution_count": null,
   "metadata": {},
   "outputs": [],
   "source": [
    "pm.plot_posterior(data=trace,var_names=['mu0','mu1','mu2','mu3','mu4'],backend=\"matplotlib\");\n",
    "#pm.plot_posterior(data=trace,var_names=['mu1'],backend=\"matplotlib\");\n",
    "#pm.plot_posterior(data=trace,var_names=['mu2'],backend=\"matplotlib\");\n",
    "#pm.plot_posterior(data=trace,var_names=['mu3'],backend=\"matplotlib\");\n",
    "#pm.plot_posterior(data=trace,var_names=['mu4'],backend=\"matplotlib\");"
   ]
  },
  {
   "cell_type": "code",
   "execution_count": null,
   "metadata": {},
   "outputs": [],
   "source": []
  },
  {
   "cell_type": "code",
   "execution_count": null,
   "metadata": {},
   "outputs": [],
   "source": []
  },
  {
   "cell_type": "code",
   "execution_count": null,
   "metadata": {},
   "outputs": [],
   "source": []
  },
  {
   "cell_type": "code",
   "execution_count": null,
   "metadata": {},
   "outputs": [],
   "source": []
  },
  {
   "cell_type": "code",
   "execution_count": null,
   "metadata": {},
   "outputs": [],
   "source": []
  },
  {
   "cell_type": "code",
   "execution_count": null,
   "metadata": {},
   "outputs": [],
   "source": []
  },
  {
   "cell_type": "code",
   "execution_count": null,
   "metadata": {},
   "outputs": [],
   "source": [
    "#with model:\n",
    "#    trace = pm.sample(draws=5000,cores=8,tune=500)    "
   ]
  },
  {
   "cell_type": "code",
   "execution_count": null,
   "metadata": {},
   "outputs": [],
   "source": [
    "#with model:\n",
    "#    trace = pm.find_MAP()"
   ]
  },
  {
   "cell_type": "code",
   "execution_count": null,
   "metadata": {},
   "outputs": [],
   "source": []
  },
  {
   "cell_type": "code",
   "execution_count": null,
   "metadata": {},
   "outputs": [],
   "source": []
  },
  {
   "cell_type": "code",
   "execution_count": null,
   "metadata": {},
   "outputs": [],
   "source": []
  },
  {
   "cell_type": "code",
   "execution_count": null,
   "metadata": {},
   "outputs": [],
   "source": []
  },
  {
   "cell_type": "code",
   "execution_count": null,
   "metadata": {},
   "outputs": [],
   "source": []
  },
  {
   "cell_type": "code",
   "execution_count": null,
   "metadata": {},
   "outputs": [],
   "source": []
  },
  {
   "cell_type": "code",
   "execution_count": null,
   "metadata": {},
   "outputs": [],
   "source": []
  },
  {
   "cell_type": "code",
   "execution_count": null,
   "metadata": {},
   "outputs": [],
   "source": []
  },
  {
   "cell_type": "code",
   "execution_count": null,
   "metadata": {},
   "outputs": [],
   "source": []
  },
  {
   "cell_type": "code",
   "execution_count": null,
   "metadata": {},
   "outputs": [],
   "source": []
  },
  {
   "cell_type": "code",
   "execution_count": null,
   "metadata": {},
   "outputs": [],
   "source": []
  },
  {
   "cell_type": "code",
   "execution_count": null,
   "metadata": {},
   "outputs": [],
   "source": []
  },
  {
   "cell_type": "code",
   "execution_count": null,
   "metadata": {},
   "outputs": [],
   "source": []
  },
  {
   "cell_type": "code",
   "execution_count": null,
   "metadata": {},
   "outputs": [],
   "source": []
  },
  {
   "cell_type": "code",
   "execution_count": null,
   "metadata": {},
   "outputs": [],
   "source": []
  },
  {
   "cell_type": "code",
   "execution_count": null,
   "metadata": {},
   "outputs": [],
   "source": []
  },
  {
   "cell_type": "code",
   "execution_count": null,
   "metadata": {},
   "outputs": [],
   "source": []
  },
  {
   "cell_type": "code",
   "execution_count": null,
   "metadata": {},
   "outputs": [],
   "source": []
  },
  {
   "cell_type": "code",
   "execution_count": null,
   "metadata": {},
   "outputs": [],
   "source": []
  }
 ],
 "metadata": {
  "kernelspec": {
   "display_name": "Python 3",
   "language": "python",
   "name": "python3"
  },
  "language_info": {
   "codemirror_mode": {
    "name": "ipython",
    "version": 3
   },
   "file_extension": ".py",
   "mimetype": "text/x-python",
   "name": "python",
   "nbconvert_exporter": "python",
   "pygments_lexer": "ipython3",
   "version": "3.7.4"
  }
 },
 "nbformat": 4,
 "nbformat_minor": 2
}
