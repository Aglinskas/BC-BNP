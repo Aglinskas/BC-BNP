{
 "cells": [
  {
   "cell_type": "code",
   "execution_count": 6,
   "metadata": {},
   "outputs": [
    {
     "name": "stdout",
     "output_type": "stream",
     "text": [
      "/Users/aidasaglinskas/Desktop/2D-and-3D-Deep-Autoencoder/code\n"
     ]
    }
   ],
   "source": [
    "cd '/Users/aidasaglinskas/Desktop/2D-and-3D-Deep-Autoencoder/code/'"
   ]
  },
  {
   "cell_type": "code",
   "execution_count": 14,
   "metadata": {},
   "outputs": [],
   "source": [
    "from lasagne.layers import InputLayer, NINLayer, flatten, reshape, Upscale3DLayer, DenseLayer\n",
    "from lasagne.layers import get_output, get_output_shape, get_all_params, get_all_layers \n",
    "from lasagne.nonlinearities import LeakyRectify as lrelu\n",
    "from lasagne.nonlinearities import rectify as relu\n",
    "from lasagne.nonlinearities import sigmoid\n",
    "from lasagne.objectives import binary_crossentropy as bce\n",
    "from lasagne.objectives import squared_error\n",
    "from lasagne.updates import adam"
   ]
  },
  {
   "cell_type": "code",
   "execution_count": 15,
   "metadata": {},
   "outputs": [],
   "source": [
    "try:\n",
    "    from lasagne.layers import Conv3DLayer\n",
    "except ImportError:\n",
    "    from lasagne.layers.dnn import Conv3DDNNLayer as Conv3DLayer"
   ]
  },
  {
   "cell_type": "code",
   "execution_count": 16,
   "metadata": {},
   "outputs": [],
   "source": [
    "from TransposedConv3DLayer import TransposedConv3DLayer as Deconv3D"
   ]
  },
  {
   "cell_type": "code",
   "execution_count": 18,
   "metadata": {},
   "outputs": [],
   "source": [
    "#import theano.tensor.nnet.abstract_conv.BaseAbstractConv"
   ]
  },
  {
   "cell_type": "code",
   "execution_count": 19,
   "metadata": {},
   "outputs": [
    {
     "name": "stdout",
     "output_type": "stream",
     "text": [
      "imported succesfully\n"
     ]
    }
   ],
   "source": [
    "import numpy as np\n",
    "import theano\n",
    "from theano import tensor as T\n",
    "import time\n",
    "import matplotlib\n",
    "matplotlib.use('Agg') \n",
    "from matplotlib import pyplot as plt\n",
    "import scipy.io\n",
    "from scipy import misc\n",
    "from skimage.io import imsave\n",
    "\n",
    "print('imported succesfully')"
   ]
  },
  {
   "cell_type": "code",
   "execution_count": 22,
   "metadata": {},
   "outputs": [],
   "source": [
    "floatX=theano.config.floatX\n",
    "\n",
    "inPath = '' #path to dataset\n",
    "\n",
    "outPath = '' #path to where you want the results to be saved\n",
    "\n",
    "def get_args():\n",
    "    print ('getting args...')\n",
    "\n",
    "def save_args():\n",
    "    print ('saving args...')\n",
    "\n",
    "def build_net(nz=200):\n",
    "\n",
    "    input_depth=160\n",
    "    input_rows=64\n",
    "    input_columns=64\n",
    "\n",
    "    #Encoder \n",
    "\n",
    "    enc = InputLayer(shape=(None,1,input_depth,input_rows,input_columns)) #5D tensor\n",
    "    enc = Conv3DLayer(incoming=enc, num_filters=64, filter_size=5,stride=2, nonlinearity=lrelu(0.2),pad=2)\n",
    "    enc = Conv3DLayer(incoming=enc, num_filters=128, filter_size=5,stride=2, nonlinearity=lrelu(0.2),pad=2)\n",
    "    enc = Conv3DLayer(incoming=enc, num_filters=256, filter_size=5,stride=2, nonlinearity=lrelu(0.2),pad=2)\n",
    "    enc = Conv3DLayer(incoming=enc, num_filters=256, filter_size=5,stride=2, nonlinearity=lrelu(0.2),pad=2)\n",
    "    enc = reshape(incoming=enc, shape=(-1,256*4*4*10))\n",
    "    enc = DenseLayer(incoming=enc, num_units=nz, nonlinearity=sigmoid)\n",
    "\n",
    "    #Decoder \n",
    "\n",
    "    dec = InputLayer(shape=(None,nz))\n",
    "    dec = DenseLayer(incoming=dec, num_units=256*4*4*10)\n",
    "    dec = reshape(incoming=dec, shape=(-1,256,10,4,4))\n",
    "    dec=Deconv3D(incoming=dec, num_filters=256, filter_size=4 ,stride=2, crop=1,nonlinearity=relu)\n",
    "    dec=Deconv3D(incoming=dec, num_filters=128, filter_size=4 ,stride=2, crop=1,nonlinearity=relu)\n",
    "    dec=Deconv3D(incoming=dec, num_filters=64, filter_size=4 ,stride=2, crop=1,nonlinearity=relu)\n",
    "    dec=Deconv3D(incoming=dec, num_filters=1, filter_size=4 ,stride=2, crop=1,nonlinearity=sigmoid)\n",
    "\n",
    "\n",
    "\n",
    "    return enc,dec"
   ]
  },
  {
   "cell_type": "code",
   "execution_count": 37,
   "metadata": {},
   "outputs": [],
   "source": [
    "infn = '/Users/aidasaglinskas/Desktop/anatomical.npy'\n",
    "dataArr = np.load(infn)"
   ]
  },
  {
   "cell_type": "code",
   "execution_count": 38,
   "metadata": {},
   "outputs": [
    {
     "data": {
      "text/plain": [
       "(131, 1, 160, 64, 64)"
      ]
     },
     "execution_count": 38,
     "metadata": {},
     "output_type": "execute_result"
    }
   ],
   "source": [
    "dataArr.shape"
   ]
  },
  {
   "cell_type": "code",
   "execution_count": 23,
   "metadata": {},
   "outputs": [
    {
     "name": "stdout",
     "output_type": "stream",
     "text": [
      "(None, 1, 160, 64, 64)\n",
      "(None, 64, 80, 32, 32)\n",
      "(None, 128, 40, 16, 16)\n",
      "(None, 256, 20, 8, 8)\n",
      "(None, 256, 10, 4, 4)\n",
      "(None, 40960)\n",
      "(None, 200)\n",
      "(None, 200)\n",
      "(None, 40960)\n",
      "(None, 256, 10, 4, 4)\n",
      "(None, 256, 20, 8, 8)\n",
      "(None, 128, 40, 16, 16)\n",
      "(None, 64, 80, 32, 32)\n",
      "(None, 1, 160, 64, 64)\n"
     ]
    }
   ],
   "source": [
    "enc, dec = build_net()\n",
    "for l in get_all_layers(enc):\n",
    "    print (get_output_shape(l))\n",
    "for l in get_all_layers(dec):\n",
    "    print (get_output_shape(l))"
   ]
  },
  {
   "cell_type": "code",
   "execution_count": 59,
   "metadata": {},
   "outputs": [],
   "source": [
    "def prep_train(alpha=0.0002, beta=0.5, nz=200):\n",
    "\n",
    "    E,D=build_net(nz=nz)\n",
    "\n",
    "    #x=T.Tensor5('x') \n",
    "    x=T.tensor5('x') \n",
    "    #x = T.Tensor(dtype='int64',name='x',broadcastable=[True]) # Aidas hax\n",
    "\n",
    "    # x -> symbolic variable, input to the computational graph\n",
    "\n",
    "    #Get outputs z=E(x), x_hat=D(z)\n",
    "\n",
    "    encoding = get_output(E,x)\n",
    "\n",
    "    decoding = get_output(D,encoding)\n",
    "\n",
    "    #Get parameters of E and D\n",
    "\n",
    "    params_e=get_all_params(E, trainable=True)\n",
    "\n",
    "    params_d=get_all_params(D, trainable=True)\n",
    "\n",
    "    params = params_e + params_d\n",
    "\n",
    "    #Calculate cost and updates\n",
    "\n",
    "    cost = T.mean(squared_error(x,decoding))\n",
    "\n",
    "    grad=T.grad(cost,params)\n",
    "\n",
    "    updates = adam(grad,params, learning_rate=alpha , beta1=beta)\t\n",
    "\n",
    "    train = theano.function(inputs=[x], outputs=cost, updates=updates)\n",
    "\n",
    "    rec = theano.function(inputs=[x], outputs=decoding)\n",
    "\n",
    "    test = theano.function(inputs=[x], outputs=cost)\n",
    "\n",
    "    #theano.function returns an actual python function used to evaluate our real data\n",
    "\n",
    "    return train ,test, rec, E, D"
   ]
  },
  {
   "cell_type": "code",
   "execution_count": 42,
   "metadata": {},
   "outputs": [],
   "source": []
  },
  {
   "cell_type": "code",
   "execution_count": 26,
   "metadata": {},
   "outputs": [],
   "source": [
    "def train( trainData, testData, nz=200, alpha=0.00005, beta=0.5, batchSize=4, epoch=500):\n",
    "\n",
    "    train, test, rec, E, D = prep_train(nz=nz, alpha=alpha)\n",
    "\n",
    "    print (np.shape(trainData) )\n",
    "\n",
    "    sn,sc,sz,sx,sy=np.shape(trainData) \n",
    "\n",
    "    print (sn,sc,sz,sx,sy)\n",
    "\n",
    "    batches=int(np.floor(float(sn)/batchSize))\n",
    "\n",
    "    #initialize arrays to store the cost functions\n",
    "\n",
    "    trainCost_=[]\n",
    "\n",
    "    testCost_=[]\n",
    "\n",
    "    print ('batches=',batches)\n",
    "\n",
    "    timer=time.time()\n",
    "\n",
    "    print ('epoch  \\t batch  \\t  train  \\t  cost  \\t    test  \\t   cost   \\t  time (s)')\n",
    "\n",
    "    for e in range(epoch):\n",
    "\n",
    "        for b in range(batches):\n",
    "\n",
    "            trainCost=train(trainData[b*batchSize:(b+1)*batchSize]) \n",
    "\n",
    "            testCost=test(testData[:10]) #test first 10 images\n",
    "\n",
    "            print (e , '\\t', b ,'\\t', trainCost ,'\\t' ,testCost ,'\\t' ,time.time()-timer)\n",
    "\n",
    "            timer=time.time()\n",
    "\n",
    "            trainCost_.append(trainCost)\n",
    "\n",
    "            testCost_.append(testCost)\n",
    "\n",
    "            #save results every 10 interations\n",
    "\n",
    "            if b%10==0:\n",
    "\n",
    "                # create a montage to visualize how close the decoded images are to the input images\n",
    "                # the chosen method here creates a montage of 2x3 images with 3 real images on top of 3 decoded ones, but other ways to visualize the results can be used\n",
    "\n",
    "                x_test1=x_test[0:20:7,:,:,:]\n",
    "\n",
    "                montageRow1 = np.hstack(x_test1[:3].reshape(-1,160,64,64).swapaxes(1,3))\n",
    "\n",
    "                REC=rec(x_test1[:3,:,:,:,:])\n",
    "\n",
    "                montageRow2 = np.hstack(REC[:3].reshape(-1,160,64,64).swapaxes(1,3))\n",
    "\n",
    "                montage = np.vstack((montageRow1, montageRow2))\n",
    "\n",
    "                scipy.io.savemat(outPath + 'montageREC'+str(e)+'.mat',(dict(montage=montage)))\n",
    "\n",
    "\n",
    "            # save plot of the cost functions\n",
    "\n",
    "            plt.plot(range(e*batches+b),trainCost_[:e*batches + b])\n",
    "\n",
    "            plt.plot(range(e*batches+b),testCost_[:e*batches + b]) \n",
    "\n",
    "            plt.legend()\n",
    "\n",
    "            plt.xlabel('Iterations')\n",
    "\n",
    "            plt.ylabel('Cost Function')\n",
    "\n",
    "            plt.savefig(outPath + 'cost_regular_{}.png'.format(e))\n",
    "\n",
    "    return test, rec, E, D"
   ]
  },
  {
   "cell_type": "code",
   "execution_count": 46,
   "metadata": {},
   "outputs": [
    {
     "ename": "FileNotFoundError",
     "evalue": "[Errno 2] No such file or directory: ''",
     "output_type": "error",
     "traceback": [
      "\u001b[0;31m---------------------------------------------------------------------------\u001b[0m",
      "\u001b[0;31mFileNotFoundError\u001b[0m                         Traceback (most recent call last)",
      "\u001b[0;32m<ipython-input-46-a3a6a3970c61>\u001b[0m in \u001b[0;36m<module>\u001b[0;34m\u001b[0m\n\u001b[1;32m      5\u001b[0m \u001b[0;31m# LOAD DATA\u001b[0m\u001b[0;34m\u001b[0m\u001b[0;34m\u001b[0m\u001b[0;34m\u001b[0m\u001b[0m\n\u001b[1;32m      6\u001b[0m \u001b[0;34m\u001b[0m\u001b[0m\n\u001b[0;32m----> 7\u001b[0;31m \u001b[0mdata\u001b[0m\u001b[0;34m=\u001b[0m\u001b[0mnp\u001b[0m\u001b[0;34m.\u001b[0m\u001b[0mload\u001b[0m\u001b[0;34m(\u001b[0m\u001b[0minPath\u001b[0m\u001b[0;34m,\u001b[0m\u001b[0mmmap_mode\u001b[0m\u001b[0;34m=\u001b[0m\u001b[0;34m'r'\u001b[0m\u001b[0;34m)\u001b[0m\u001b[0;34m.\u001b[0m\u001b[0mastype\u001b[0m\u001b[0;34m(\u001b[0m\u001b[0mfloatX\u001b[0m\u001b[0;34m)\u001b[0m\u001b[0;34m\u001b[0m\u001b[0;34m\u001b[0m\u001b[0m\n\u001b[0m\u001b[1;32m      8\u001b[0m \u001b[0;34m\u001b[0m\u001b[0m\n\u001b[1;32m      9\u001b[0m \u001b[0mdata\u001b[0m\u001b[0;34m=\u001b[0m\u001b[0mnp\u001b[0m\u001b[0;34m.\u001b[0m\u001b[0mtranspose\u001b[0m\u001b[0;34m(\u001b[0m\u001b[0mdata\u001b[0m\u001b[0;34m,\u001b[0m\u001b[0;34m(\u001b[0m\u001b[0;36m0\u001b[0m\u001b[0;34m,\u001b[0m\u001b[0;36m2\u001b[0m\u001b[0;34m,\u001b[0m\u001b[0;36m1\u001b[0m\u001b[0;34m,\u001b[0m\u001b[0;36m3\u001b[0m\u001b[0;34m,\u001b[0m\u001b[0;36m4\u001b[0m\u001b[0;34m)\u001b[0m\u001b[0;34m)\u001b[0m\u001b[0;34m\u001b[0m\u001b[0;34m\u001b[0m\u001b[0m\n",
      "\u001b[0;32m~/opt/anaconda3/envs/py3/lib/python3.7/site-packages/numpy/lib/npyio.py\u001b[0m in \u001b[0;36mload\u001b[0;34m(file, mmap_mode, allow_pickle, fix_imports, encoding)\u001b[0m\n\u001b[1;32m    426\u001b[0m         \u001b[0mown_fid\u001b[0m \u001b[0;34m=\u001b[0m \u001b[0;32mFalse\u001b[0m\u001b[0;34m\u001b[0m\u001b[0;34m\u001b[0m\u001b[0m\n\u001b[1;32m    427\u001b[0m     \u001b[0;32melse\u001b[0m\u001b[0;34m:\u001b[0m\u001b[0;34m\u001b[0m\u001b[0;34m\u001b[0m\u001b[0m\n\u001b[0;32m--> 428\u001b[0;31m         \u001b[0mfid\u001b[0m \u001b[0;34m=\u001b[0m \u001b[0mopen\u001b[0m\u001b[0;34m(\u001b[0m\u001b[0mos_fspath\u001b[0m\u001b[0;34m(\u001b[0m\u001b[0mfile\u001b[0m\u001b[0;34m)\u001b[0m\u001b[0;34m,\u001b[0m \u001b[0;34m\"rb\"\u001b[0m\u001b[0;34m)\u001b[0m\u001b[0;34m\u001b[0m\u001b[0;34m\u001b[0m\u001b[0m\n\u001b[0m\u001b[1;32m    429\u001b[0m         \u001b[0mown_fid\u001b[0m \u001b[0;34m=\u001b[0m \u001b[0;32mTrue\u001b[0m\u001b[0;34m\u001b[0m\u001b[0;34m\u001b[0m\u001b[0m\n\u001b[1;32m    430\u001b[0m \u001b[0;34m\u001b[0m\u001b[0m\n",
      "\u001b[0;31mFileNotFoundError\u001b[0m: [Errno 2] No such file or directory: ''"
     ]
    }
   ],
   "source": [
    "def test(x, rec):\n",
    "\n",
    "    return rec(x)\n",
    "\n",
    "# LOAD DATA\n",
    "\n",
    "data=np.load(inPath,mmap_mode='r').astype(floatX)\n",
    "\n",
    "data=np.transpose(data,(0,2,1,3,4))\n",
    "\n",
    "sn,sc,sz,sx,sy=np.shape(data) \n",
    "\n",
    "# normalize input dataset\n",
    "\n",
    "for n in range(sn):\n",
    "\n",
    "    for j in range(sz):\n",
    "\n",
    "        data[n,:,j,:,:]=data[n,:,j,:,:]/data[n,:,j,:,:].max()\n",
    "\n",
    "# create training and testing datasets\n",
    "\n",
    "x_train=data[20:,:,:,:,:]\n",
    "\n",
    "x_test=data[:20,:,:,:,:]\n",
    "\n",
    "test, rec, E, D =train(x_train, x_test) \n",
    "\n",
    "# Save example reconstructions at the end of the iterations\n",
    "\n",
    "REC = rec(x_test[:10])\n",
    "\n",
    "print (np.shape(REC), np.shape(x_test[:10]))\n",
    "\n",
    "fig=plt.figure()\n",
    "\n",
    "newDir=''\n",
    "\n",
    "montageRow1 = np.hstack(x_test[:3].reshape(-1,160,64,64).swapaxes(1,3))\n",
    "\n",
    "montageRow2 = np.hstack(REC[:3].reshape(-1,160,64,64).swapaxes(1,3))\n",
    "\n",
    "montage = np.vstack((montageRow1, montageRow2))\n",
    "\n",
    "print ('montage shape is ',montage.shape)\n",
    "\n",
    "np.save(outPath + 'montageREC.npy',montage)\n",
    "\n",
    "scipy.io.savemat(outPath + 'montageREC.mat',(dict(montage=montage))) "
   ]
  },
  {
   "cell_type": "code",
   "execution_count": null,
   "metadata": {},
   "outputs": [],
   "source": []
  },
  {
   "cell_type": "code",
   "execution_count": null,
   "metadata": {},
   "outputs": [],
   "source": []
  },
  {
   "cell_type": "code",
   "execution_count": 60,
   "metadata": {
    "scrolled": false
   },
   "outputs": [
    {
     "name": "stderr",
     "output_type": "stream",
     "text": [
      "ERROR (theano.gof.opt): Optimization failure due to: constant_folding\n",
      "ERROR (theano.gof.opt): node: Elemwise{Cast{float64}}(TensorConstant{(1, 1, 1, .. 1) of 0.5})\n",
      "ERROR (theano.gof.opt): TRACEBACK:\n",
      "ERROR (theano.gof.opt): Traceback (most recent call last):\n",
      "  File \"/Users/aidasaglinskas/opt/anaconda3/envs/py3/lib/python3.7/site-packages/theano/gof/opt.py\", line 2034, in process_node\n",
      "    replacements = lopt.transform(node)\n",
      "  File \"/Users/aidasaglinskas/opt/anaconda3/envs/py3/lib/python3.7/site-packages/theano/tensor/opt.py\", line 6516, in constant_folding\n",
      "    no_recycling=[], impl=impl)\n",
      "  File \"/Users/aidasaglinskas/opt/anaconda3/envs/py3/lib/python3.7/site-packages/theano/gof/op.py\", line 955, in make_thunk\n",
      "    no_recycling)\n",
      "  File \"/Users/aidasaglinskas/opt/anaconda3/envs/py3/lib/python3.7/site-packages/theano/gof/op.py\", line 858, in make_c_thunk\n",
      "    output_storage=node_output_storage)\n",
      "  File \"/Users/aidasaglinskas/opt/anaconda3/envs/py3/lib/python3.7/site-packages/theano/gof/cc.py\", line 1217, in make_thunk\n",
      "    keep_lock=keep_lock)\n",
      "  File \"/Users/aidasaglinskas/opt/anaconda3/envs/py3/lib/python3.7/site-packages/theano/gof/cc.py\", line 1157, in __compile__\n",
      "    keep_lock=keep_lock)\n",
      "  File \"/Users/aidasaglinskas/opt/anaconda3/envs/py3/lib/python3.7/site-packages/theano/gof/cc.py\", line 1624, in cthunk_factory\n",
      "    key=key, lnk=self, keep_lock=keep_lock)\n",
      "  File \"/Users/aidasaglinskas/opt/anaconda3/envs/py3/lib/python3.7/site-packages/theano/gof/cmodule.py\", line 1189, in module_from_key\n",
      "    module = lnk.compile_cmodule(location)\n",
      "  File \"/Users/aidasaglinskas/opt/anaconda3/envs/py3/lib/python3.7/site-packages/theano/gof/cc.py\", line 1527, in compile_cmodule\n",
      "    preargs=preargs)\n",
      "  File \"/Users/aidasaglinskas/opt/anaconda3/envs/py3/lib/python3.7/site-packages/theano/gof/cmodule.py\", line 2411, in compile_str\n",
      "    (status, compile_stderr.replace('\\n', '. ')))\n",
      "Exception: (\"Compilation failed (return status=1): /Users/aidasaglinskas/.theano/compiledir_Darwin-19.4.0-x86_64-i386-64bit-i386-3.7.7-64/tmp0qizophq/mod.cpp:414:27: error: non-constant-expression cannot be narrowed from type 'npy_intp' (aka 'long') to 'int' in initializer list [-Wc++11-narrowing].     int init_totals[5] = {V1_n0, V1_n1, V1_n2, V1_n3, V1_n4};.                           ^~~~~. /Users/aidasaglinskas/.theano/compiledir_Darwin-19.4.0-x86_64-i386-64bit-i386-3.7.7-64/tmp0qizophq/mod.cpp:414:27: note: insert an explicit cast to silence this issue.     int init_totals[5] = {V1_n0, V1_n1, V1_n2, V1_n3, V1_n4};.                           ^~~~~.                           static_cast<int>( ). /Users/aidasaglinskas/.theano/compiledir_Darwin-19.4.0-x86_64-i386-64bit-i386-3.7.7-64/tmp0qizophq/mod.cpp:414:34: error: non-constant-expression cannot be narrowed from type 'npy_intp' (aka 'long') to 'int' in initializer list [-Wc++11-narrowing].     int init_totals[5] = {V1_n0, V1_n1, V1_n2, V1_n3, V1_n4};.                                  ^~~~~. /Users/aidasaglinskas/.theano/compiledir_Darwin-19.4.0-x86_64-i386-64bit-i386-3.7.7-64/tmp0qizophq/mod.cpp:414:34: note: insert an explicit cast to silence this issue.     int init_totals[5] = {V1_n0, V1_n1, V1_n2, V1_n3, V1_n4};.                                  ^~~~~.                                  static_cast<int>( ). /Users/aidasaglinskas/.theano/compiledir_Darwin-19.4.0-x86_64-i386-64bit-i386-3.7.7-64/tmp0qizophq/mod.cpp:414:41: error: non-constant-expression cannot be narrowed from type 'npy_intp' (aka 'long') to 'int' in initializer list [-Wc++11-narrowing].     int init_totals[5] = {V1_n0, V1_n1, V1_n2, V1_n3, V1_n4};.                                         ^~~~~. /Users/aidasaglinskas/.theano/compiledir_Darwin-19.4.0-x86_64-i386-64bit-i386-3.7.7-64/tmp0qizophq/mod.cpp:414:41: note: insert an explicit cast to silence this issue.     int init_totals[5] = {V1_n0, V1_n1, V1_n2, V1_n3, V1_n4};.                                         ^~~~~.                                         static_cast<int>( ). /Users/aidasaglinskas/.theano/compiledir_Darwin-19.4.0-x86_64-i386-64bit-i386-3.7.7-64/tmp0qizophq/mod.cpp:414:48: error: non-constant-expression cannot be narrowed from type 'npy_intp' (aka 'long') to 'int' in initializer list [-Wc++11-narrowing].     int init_totals[5] = {V1_n0, V1_n1, V1_n2, V1_n3, V1_n4};.                                                ^~~~~. /Users/aidasaglinskas/.theano/compiledir_Darwin-19.4.0-x86_64-i386-64bit-i386-3.7.7-64/tmp0qizophq/mod.cpp:414:48: note: insert an explicit cast to silence this issue.     int init_totals[5] = {V1_n0, V1_n1, V1_n2, V1_n3, V1_n4};.                                                ^~~~~.                                                static_cast<int>( ). /Users/aidasaglinskas/.theano/compiledir_Darwin-19.4.0-x86_64-i386-64bit-i386-3.7.7-64/tmp0qizophq/mod.cpp:414:55: error: non-constant-expression cannot be narrowed from type 'npy_intp' (aka 'long') to 'int' in initializer list [-Wc++11-narrowing].     int init_totals[5] = {V1_n0, V1_n1, V1_n2, V1_n3, V1_n4};.                                                       ^~~~~. /Users/aidasaglinskas/.theano/compiledir_Darwin-19.4.0-x86_64-i386-64bit-i386-3.7.7-64/tmp0qizophq/mod.cpp:414:55: note: insert an explicit cast to silence this issue.     int init_totals[5] = {V1_n0, V1_n1, V1_n2, V1_n3, V1_n4};.                                                       ^~~~~.                                                       static_cast<int>( ). /Users/aidasaglinskas/.theano/compiledir_Darwin-19.4.0-x86_64-i386-64bit-i386-3.7.7-64/tmp0qizophq/mod.cpp:436:1: error: non-constant-expression cannot be narrowed from type 'ssize_t' (aka 'long') to 'int' in initializer list [-Wc++11-narrowing]. V1_stride0, V1_stride1, V1_stride2, V1_stride3, V1_stride4. ^~~~~~~~~~. /Users/aidasaglinskas/.theano/compiledir_Darwin-19.4.0-x86_64-i386-64bit-i386-3.7.7-64/tmp0qizophq/mod.cpp:436:1: note: insert an explicit cast to silence this issue. V1_stride0, V1_stride1, V1_stride2, V1_stride3, V1_stride4. ^~~~~~~~~~. static_cast<int>( ). /Users/aidasaglinskas/.theano/compiledir_Darwin-19.4.0-x86_64-i386-64bit-i386-3.7.7-64/tmp0qizophq/mod.cpp:436:13: error: non-constant-expression cannot be narrowed from type 'ssize_t' (aka 'long') to 'int' in initializer list [-Wc++11-narrowing]. V1_stride0, V1_stride1, V1_stride2, V1_stride3, V1_stride4.             ^~~~~~~~~~. /Users/aidasaglinskas/.theano/compiledir_Darwin-19.4.0-x86_64-i386-64bit-i386-3.7.7-64/tmp0qizophq/mod.cpp:436:13: note: insert an explicit cast to silence this issue. V1_stride0, V1_stride1, V1_stride2, V1_stride3, V1_stride4.             ^~~~~~~~~~.             static_cast<int>( ). /Users/aidasaglinskas/.theano/compiledir_Darwin-19.4.0-x86_64-i386-64bit-i386-3.7.7-64/tmp0qizophq/mod.cpp:436:25: error: non-constant-expression cannot be narrowed from type 'ssize_t' (aka 'long') to 'int' in initializer list [-Wc++11-narrowing]. V1_stride0, V1_stride1, V1_stride2, V1_stride3, V1_stride4.                         ^~~~~~~~~~. /Users/aidasaglinskas/.theano/compiledir_Darwin-19.4.0-x86_64-i386-64bit-i386-3.7.7-64/tmp0qizophq/mod.cpp:436:25: note: insert an explicit cast to silence this issue. V1_stride0, V1_stride1, V1_stride2, V1_stride3, V1_stride4.                         ^~~~~~~~~~.                         static_cast<int>( ). /Users/aidasaglinskas/.theano/compiledir_Darwin-19.4.0-x86_64-i386-64bit-i386-3.7.7-64/tmp0qizophq/mod.cpp:436:37: error: non-constant-expression cannot be narrowed from type 'ssize_t' (aka 'long') to 'int' in initializer list [-Wc++11-narrowing]. V1_stride0, V1_stride1, V1_stride2, V1_stride3, V1_stride4.                                     ^~~~~~~~~~. /Users/aidasaglinskas/.theano/compiledir_Darwin-19.4.0-x86_64-i386-64bit-i386-3.7.7-64/tmp0qizophq/mod.cpp:436:37: note: insert an explicit cast to silence this issue. V1_stride0, V1_stride1, V1_stride2, V1_stride3, V1_stride4.                                     ^~~~~~~~~~.                                     static_cast<int>( ). /Users/aidasaglinskas/.theano/compiledir_Darwin-19.4.0-x86_64-i386-64bit-i386-3.7.7-64/tmp0qizophq/mod.cpp:436:49: error: non-constant-expression cannot be narrowed from type 'ssize_t' (aka 'long') to 'int' in initializer list [-Wc++11-narrowing]. V1_stride0, V1_stride1, V1_stride2, V1_stride3, V1_stride4.                                                 ^~~~~~~~~~. /Users/aidasaglinskas/.theano/compiledir_Darwin-19.4.0-x86_64-i386-64bit-i386-3.7.7-64/tmp0qizophq/mod.cpp:436:49: note: insert an explicit cast to silence this issue. V1_stride0, V1_stride1, V1_stride2, V1_stride3, V1_stride4.                                                 ^~~~~~~~~~.                                                 static_cast<int>( ). 10 errors generated.. \", '[Elemwise{Cast{float64}}(TensorConstant{(1, 1, 1, .. 1) of 0.5})]')\n",
      "\n"
     ]
    },
    {
     "name": "stdout",
     "output_type": "stream",
     "text": [
      "\n",
      "You can find the C code in this temporary file: /var/folders/m7/h5wbg21x40sfshpzz979230c0000gn/T/theano_compilation_error_m25ilzx9\n"
     ]
    },
    {
     "name": "stderr",
     "output_type": "stream",
     "text": [
      "ERROR (theano.gof.opt): Optimization failure due to: constant_folding\n",
      "ERROR (theano.gof.opt): node: Elemwise{Cast{float64}}(TensorConstant{(1, 1) of 0.5})\n",
      "ERROR (theano.gof.opt): TRACEBACK:\n",
      "ERROR (theano.gof.opt): Traceback (most recent call last):\n",
      "  File \"/Users/aidasaglinskas/opt/anaconda3/envs/py3/lib/python3.7/site-packages/theano/gof/opt.py\", line 2034, in process_node\n",
      "    replacements = lopt.transform(node)\n",
      "  File \"/Users/aidasaglinskas/opt/anaconda3/envs/py3/lib/python3.7/site-packages/theano/tensor/opt.py\", line 6516, in constant_folding\n",
      "    no_recycling=[], impl=impl)\n",
      "  File \"/Users/aidasaglinskas/opt/anaconda3/envs/py3/lib/python3.7/site-packages/theano/gof/op.py\", line 955, in make_thunk\n",
      "    no_recycling)\n",
      "  File \"/Users/aidasaglinskas/opt/anaconda3/envs/py3/lib/python3.7/site-packages/theano/gof/op.py\", line 858, in make_c_thunk\n",
      "    output_storage=node_output_storage)\n",
      "  File \"/Users/aidasaglinskas/opt/anaconda3/envs/py3/lib/python3.7/site-packages/theano/gof/cc.py\", line 1217, in make_thunk\n",
      "    keep_lock=keep_lock)\n",
      "  File \"/Users/aidasaglinskas/opt/anaconda3/envs/py3/lib/python3.7/site-packages/theano/gof/cc.py\", line 1157, in __compile__\n",
      "    keep_lock=keep_lock)\n",
      "  File \"/Users/aidasaglinskas/opt/anaconda3/envs/py3/lib/python3.7/site-packages/theano/gof/cc.py\", line 1624, in cthunk_factory\n",
      "    key=key, lnk=self, keep_lock=keep_lock)\n",
      "  File \"/Users/aidasaglinskas/opt/anaconda3/envs/py3/lib/python3.7/site-packages/theano/gof/cmodule.py\", line 1189, in module_from_key\n",
      "    module = lnk.compile_cmodule(location)\n",
      "  File \"/Users/aidasaglinskas/opt/anaconda3/envs/py3/lib/python3.7/site-packages/theano/gof/cc.py\", line 1527, in compile_cmodule\n",
      "    preargs=preargs)\n",
      "  File \"/Users/aidasaglinskas/opt/anaconda3/envs/py3/lib/python3.7/site-packages/theano/gof/cmodule.py\", line 2411, in compile_str\n",
      "    (status, compile_stderr.replace('\\n', '. ')))\n",
      "Exception: (\"Compilation failed (return status=1): /Users/aidasaglinskas/.theano/compiledir_Darwin-19.4.0-x86_64-i386-64bit-i386-3.7.7-64/tmp63_o10m5/mod.cpp:360:27: error: non-constant-expression cannot be narrowed from type 'npy_intp' (aka 'long') to 'int' in initializer list [-Wc++11-narrowing].     int init_totals[2] = {V1_n0, V1_n1};.                           ^~~~~. /Users/aidasaglinskas/.theano/compiledir_Darwin-19.4.0-x86_64-i386-64bit-i386-3.7.7-64/tmp63_o10m5/mod.cpp:360:27: note: insert an explicit cast to silence this issue.     int init_totals[2] = {V1_n0, V1_n1};.                           ^~~~~.                           static_cast<int>( ). /Users/aidasaglinskas/.theano/compiledir_Darwin-19.4.0-x86_64-i386-64bit-i386-3.7.7-64/tmp63_o10m5/mod.cpp:360:34: error: non-constant-expression cannot be narrowed from type 'npy_intp' (aka 'long') to 'int' in initializer list [-Wc++11-narrowing].     int init_totals[2] = {V1_n0, V1_n1};.                                  ^~~~~. /Users/aidasaglinskas/.theano/compiledir_Darwin-19.4.0-x86_64-i386-64bit-i386-3.7.7-64/tmp63_o10m5/mod.cpp:360:34: note: insert an explicit cast to silence this issue.     int init_totals[2] = {V1_n0, V1_n1};.                                  ^~~~~.                                  static_cast<int>( ). /Users/aidasaglinskas/.theano/compiledir_Darwin-19.4.0-x86_64-i386-64bit-i386-3.7.7-64/tmp63_o10m5/mod.cpp:373:1: error: non-constant-expression cannot be narrowed from type 'ssize_t' (aka 'long') to 'int' in initializer list [-Wc++11-narrowing]. V1_stride0, V1_stride1. ^~~~~~~~~~. /Users/aidasaglinskas/.theano/compiledir_Darwin-19.4.0-x86_64-i386-64bit-i386-3.7.7-64/tmp63_o10m5/mod.cpp:373:1: note: insert an explicit cast to silence this issue. V1_stride0, V1_stride1. ^~~~~~~~~~. static_cast<int>( ). /Users/aidasaglinskas/.theano/compiledir_Darwin-19.4.0-x86_64-i386-64bit-i386-3.7.7-64/tmp63_o10m5/mod.cpp:373:13: error: non-constant-expression cannot be narrowed from type 'ssize_t' (aka 'long') to 'int' in initializer list [-Wc++11-narrowing]. V1_stride0, V1_stride1.             ^~~~~~~~~~. /Users/aidasaglinskas/.theano/compiledir_Darwin-19.4.0-x86_64-i386-64bit-i386-3.7.7-64/tmp63_o10m5/mod.cpp:373:13: note: insert an explicit cast to silence this issue. V1_stride0, V1_stride1.             ^~~~~~~~~~.             static_cast<int>( ). 4 errors generated.. \", '[Elemwise{Cast{float64}}(TensorConstant{(1, 1) of 0.5})]')\n",
      "\n"
     ]
    },
    {
     "name": "stdout",
     "output_type": "stream",
     "text": [
      "\n",
      "You can find the C code in this temporary file: /var/folders/m7/h5wbg21x40sfshpzz979230c0000gn/T/theano_compilation_error_9cal9tat\n"
     ]
    },
    {
     "name": "stderr",
     "output_type": "stream",
     "text": [
      "ERROR (theano.gof.opt): Optimization failure due to: constant_folding\n",
      "ERROR (theano.gof.opt): node: Elemwise{Cast{float64}}(TensorConstant{(1, 1, 1, .. 1) of 0.5})\n",
      "ERROR (theano.gof.opt): TRACEBACK:\n",
      "ERROR (theano.gof.opt): Traceback (most recent call last):\n",
      "  File \"/Users/aidasaglinskas/opt/anaconda3/envs/py3/lib/python3.7/site-packages/theano/gof/opt.py\", line 2034, in process_node\n",
      "    replacements = lopt.transform(node)\n",
      "  File \"/Users/aidasaglinskas/opt/anaconda3/envs/py3/lib/python3.7/site-packages/theano/tensor/opt.py\", line 6516, in constant_folding\n",
      "    no_recycling=[], impl=impl)\n",
      "  File \"/Users/aidasaglinskas/opt/anaconda3/envs/py3/lib/python3.7/site-packages/theano/gof/op.py\", line 955, in make_thunk\n",
      "    no_recycling)\n",
      "  File \"/Users/aidasaglinskas/opt/anaconda3/envs/py3/lib/python3.7/site-packages/theano/gof/op.py\", line 858, in make_c_thunk\n",
      "    output_storage=node_output_storage)\n",
      "  File \"/Users/aidasaglinskas/opt/anaconda3/envs/py3/lib/python3.7/site-packages/theano/gof/cc.py\", line 1217, in make_thunk\n",
      "    keep_lock=keep_lock)\n",
      "  File \"/Users/aidasaglinskas/opt/anaconda3/envs/py3/lib/python3.7/site-packages/theano/gof/cc.py\", line 1157, in __compile__\n",
      "    keep_lock=keep_lock)\n",
      "  File \"/Users/aidasaglinskas/opt/anaconda3/envs/py3/lib/python3.7/site-packages/theano/gof/cc.py\", line 1624, in cthunk_factory\n",
      "    key=key, lnk=self, keep_lock=keep_lock)\n",
      "  File \"/Users/aidasaglinskas/opt/anaconda3/envs/py3/lib/python3.7/site-packages/theano/gof/cmodule.py\", line 1189, in module_from_key\n",
      "    module = lnk.compile_cmodule(location)\n",
      "  File \"/Users/aidasaglinskas/opt/anaconda3/envs/py3/lib/python3.7/site-packages/theano/gof/cc.py\", line 1527, in compile_cmodule\n",
      "    preargs=preargs)\n",
      "  File \"/Users/aidasaglinskas/opt/anaconda3/envs/py3/lib/python3.7/site-packages/theano/gof/cmodule.py\", line 2411, in compile_str\n",
      "    (status, compile_stderr.replace('\\n', '. ')))\n",
      "Exception: (\"Compilation failed (return status=1): /Users/aidasaglinskas/.theano/compiledir_Darwin-19.4.0-x86_64-i386-64bit-i386-3.7.7-64/tmp5jytcalj/mod.cpp:414:27: error: non-constant-expression cannot be narrowed from type 'npy_intp' (aka 'long') to 'int' in initializer list [-Wc++11-narrowing].     int init_totals[5] = {V1_n0, V1_n1, V1_n2, V1_n3, V1_n4};.                           ^~~~~. /Users/aidasaglinskas/.theano/compiledir_Darwin-19.4.0-x86_64-i386-64bit-i386-3.7.7-64/tmp5jytcalj/mod.cpp:414:27: note: insert an explicit cast to silence this issue.     int init_totals[5] = {V1_n0, V1_n1, V1_n2, V1_n3, V1_n4};.                           ^~~~~.                           static_cast<int>( ). /Users/aidasaglinskas/.theano/compiledir_Darwin-19.4.0-x86_64-i386-64bit-i386-3.7.7-64/tmp5jytcalj/mod.cpp:414:34: error: non-constant-expression cannot be narrowed from type 'npy_intp' (aka 'long') to 'int' in initializer list [-Wc++11-narrowing].     int init_totals[5] = {V1_n0, V1_n1, V1_n2, V1_n3, V1_n4};.                                  ^~~~~. /Users/aidasaglinskas/.theano/compiledir_Darwin-19.4.0-x86_64-i386-64bit-i386-3.7.7-64/tmp5jytcalj/mod.cpp:414:34: note: insert an explicit cast to silence this issue.     int init_totals[5] = {V1_n0, V1_n1, V1_n2, V1_n3, V1_n4};.                                  ^~~~~.                                  static_cast<int>( ). /Users/aidasaglinskas/.theano/compiledir_Darwin-19.4.0-x86_64-i386-64bit-i386-3.7.7-64/tmp5jytcalj/mod.cpp:414:41: error: non-constant-expression cannot be narrowed from type 'npy_intp' (aka 'long') to 'int' in initializer list [-Wc++11-narrowing].     int init_totals[5] = {V1_n0, V1_n1, V1_n2, V1_n3, V1_n4};.                                         ^~~~~. /Users/aidasaglinskas/.theano/compiledir_Darwin-19.4.0-x86_64-i386-64bit-i386-3.7.7-64/tmp5jytcalj/mod.cpp:414:41: note: insert an explicit cast to silence this issue.     int init_totals[5] = {V1_n0, V1_n1, V1_n2, V1_n3, V1_n4};.                                         ^~~~~.                                         static_cast<int>( ). /Users/aidasaglinskas/.theano/compiledir_Darwin-19.4.0-x86_64-i386-64bit-i386-3.7.7-64/tmp5jytcalj/mod.cpp:414:48: error: non-constant-expression cannot be narrowed from type 'npy_intp' (aka 'long') to 'int' in initializer list [-Wc++11-narrowing].     int init_totals[5] = {V1_n0, V1_n1, V1_n2, V1_n3, V1_n4};.                                                ^~~~~. /Users/aidasaglinskas/.theano/compiledir_Darwin-19.4.0-x86_64-i386-64bit-i386-3.7.7-64/tmp5jytcalj/mod.cpp:414:48: note: insert an explicit cast to silence this issue.     int init_totals[5] = {V1_n0, V1_n1, V1_n2, V1_n3, V1_n4};.                                                ^~~~~.                                                static_cast<int>( ). /Users/aidasaglinskas/.theano/compiledir_Darwin-19.4.0-x86_64-i386-64bit-i386-3.7.7-64/tmp5jytcalj/mod.cpp:414:55: error: non-constant-expression cannot be narrowed from type 'npy_intp' (aka 'long') to 'int' in initializer list [-Wc++11-narrowing].     int init_totals[5] = {V1_n0, V1_n1, V1_n2, V1_n3, V1_n4};.                                                       ^~~~~. /Users/aidasaglinskas/.theano/compiledir_Darwin-19.4.0-x86_64-i386-64bit-i386-3.7.7-64/tmp5jytcalj/mod.cpp:414:55: note: insert an explicit cast to silence this issue.     int init_totals[5] = {V1_n0, V1_n1, V1_n2, V1_n3, V1_n4};.                                                       ^~~~~.                                                       static_cast<int>( ). /Users/aidasaglinskas/.theano/compiledir_Darwin-19.4.0-x86_64-i386-64bit-i386-3.7.7-64/tmp5jytcalj/mod.cpp:436:1: error: non-constant-expression cannot be narrowed from type 'ssize_t' (aka 'long') to 'int' in initializer list [-Wc++11-narrowing]. V1_stride0, V1_stride1, V1_stride2, V1_stride3, V1_stride4. ^~~~~~~~~~. /Users/aidasaglinskas/.theano/compiledir_Darwin-19.4.0-x86_64-i386-64bit-i386-3.7.7-64/tmp5jytcalj/mod.cpp:436:1: note: insert an explicit cast to silence this issue. V1_stride0, V1_stride1, V1_stride2, V1_stride3, V1_stride4. ^~~~~~~~~~. static_cast<int>( ). /Users/aidasaglinskas/.theano/compiledir_Darwin-19.4.0-x86_64-i386-64bit-i386-3.7.7-64/tmp5jytcalj/mod.cpp:436:13: error: non-constant-expression cannot be narrowed from type 'ssize_t' (aka 'long') to 'int' in initializer list [-Wc++11-narrowing]. V1_stride0, V1_stride1, V1_stride2, V1_stride3, V1_stride4.             ^~~~~~~~~~. /Users/aidasaglinskas/.theano/compiledir_Darwin-19.4.0-x86_64-i386-64bit-i386-3.7.7-64/tmp5jytcalj/mod.cpp:436:13: note: insert an explicit cast to silence this issue. V1_stride0, V1_stride1, V1_stride2, V1_stride3, V1_stride4.             ^~~~~~~~~~.             static_cast<int>( ). /Users/aidasaglinskas/.theano/compiledir_Darwin-19.4.0-x86_64-i386-64bit-i386-3.7.7-64/tmp5jytcalj/mod.cpp:436:25: error: non-constant-expression cannot be narrowed from type 'ssize_t' (aka 'long') to 'int' in initializer list [-Wc++11-narrowing]. V1_stride0, V1_stride1, V1_stride2, V1_stride3, V1_stride4.                         ^~~~~~~~~~. /Users/aidasaglinskas/.theano/compiledir_Darwin-19.4.0-x86_64-i386-64bit-i386-3.7.7-64/tmp5jytcalj/mod.cpp:436:25: note: insert an explicit cast to silence this issue. V1_stride0, V1_stride1, V1_stride2, V1_stride3, V1_stride4.                         ^~~~~~~~~~.                         static_cast<int>( ). /Users/aidasaglinskas/.theano/compiledir_Darwin-19.4.0-x86_64-i386-64bit-i386-3.7.7-64/tmp5jytcalj/mod.cpp:436:37: error: non-constant-expression cannot be narrowed from type 'ssize_t' (aka 'long') to 'int' in initializer list [-Wc++11-narrowing]. V1_stride0, V1_stride1, V1_stride2, V1_stride3, V1_stride4.                                     ^~~~~~~~~~. /Users/aidasaglinskas/.theano/compiledir_Darwin-19.4.0-x86_64-i386-64bit-i386-3.7.7-64/tmp5jytcalj/mod.cpp:436:37: note: insert an explicit cast to silence this issue. V1_stride0, V1_stride1, V1_stride2, V1_stride3, V1_stride4.                                     ^~~~~~~~~~.                                     static_cast<int>( ). /Users/aidasaglinskas/.theano/compiledir_Darwin-19.4.0-x86_64-i386-64bit-i386-3.7.7-64/tmp5jytcalj/mod.cpp:436:49: error: non-constant-expression cannot be narrowed from type 'ssize_t' (aka 'long') to 'int' in initializer list [-Wc++11-narrowing]. V1_stride0, V1_stride1, V1_stride2, V1_stride3, V1_stride4.                                                 ^~~~~~~~~~. /Users/aidasaglinskas/.theano/compiledir_Darwin-19.4.0-x86_64-i386-64bit-i386-3.7.7-64/tmp5jytcalj/mod.cpp:436:49: note: insert an explicit cast to silence this issue. V1_stride0, V1_stride1, V1_stride2, V1_stride3, V1_stride4.                                                 ^~~~~~~~~~.                                                 static_cast<int>( ). 10 errors generated.. \", '[Elemwise{Cast{float64}}(TensorConstant{(1, 1, 1, .. 1) of 0.5})]')\n",
      "\n"
     ]
    },
    {
     "name": "stdout",
     "output_type": "stream",
     "text": [
      "\n",
      "You can find the C code in this temporary file: /var/folders/m7/h5wbg21x40sfshpzz979230c0000gn/T/theano_compilation_error_bujp4ami\n"
     ]
    },
    {
     "name": "stderr",
     "output_type": "stream",
     "text": [
      "ERROR (theano.gof.opt): Optimization failure due to: constant_folding\n",
      "ERROR (theano.gof.opt): node: Elemwise{Cast{float64}}(TensorConstant{(1, 1) of 0.5})\n",
      "ERROR (theano.gof.opt): TRACEBACK:\n",
      "ERROR (theano.gof.opt): Traceback (most recent call last):\n",
      "  File \"/Users/aidasaglinskas/opt/anaconda3/envs/py3/lib/python3.7/site-packages/theano/gof/opt.py\", line 2034, in process_node\n",
      "    replacements = lopt.transform(node)\n",
      "  File \"/Users/aidasaglinskas/opt/anaconda3/envs/py3/lib/python3.7/site-packages/theano/tensor/opt.py\", line 6516, in constant_folding\n",
      "    no_recycling=[], impl=impl)\n",
      "  File \"/Users/aidasaglinskas/opt/anaconda3/envs/py3/lib/python3.7/site-packages/theano/gof/op.py\", line 955, in make_thunk\n",
      "    no_recycling)\n",
      "  File \"/Users/aidasaglinskas/opt/anaconda3/envs/py3/lib/python3.7/site-packages/theano/gof/op.py\", line 858, in make_c_thunk\n",
      "    output_storage=node_output_storage)\n",
      "  File \"/Users/aidasaglinskas/opt/anaconda3/envs/py3/lib/python3.7/site-packages/theano/gof/cc.py\", line 1217, in make_thunk\n",
      "    keep_lock=keep_lock)\n",
      "  File \"/Users/aidasaglinskas/opt/anaconda3/envs/py3/lib/python3.7/site-packages/theano/gof/cc.py\", line 1157, in __compile__\n",
      "    keep_lock=keep_lock)\n",
      "  File \"/Users/aidasaglinskas/opt/anaconda3/envs/py3/lib/python3.7/site-packages/theano/gof/cc.py\", line 1624, in cthunk_factory\n",
      "    key=key, lnk=self, keep_lock=keep_lock)\n",
      "  File \"/Users/aidasaglinskas/opt/anaconda3/envs/py3/lib/python3.7/site-packages/theano/gof/cmodule.py\", line 1189, in module_from_key\n",
      "    module = lnk.compile_cmodule(location)\n",
      "  File \"/Users/aidasaglinskas/opt/anaconda3/envs/py3/lib/python3.7/site-packages/theano/gof/cc.py\", line 1527, in compile_cmodule\n",
      "    preargs=preargs)\n",
      "  File \"/Users/aidasaglinskas/opt/anaconda3/envs/py3/lib/python3.7/site-packages/theano/gof/cmodule.py\", line 2411, in compile_str\n",
      "    (status, compile_stderr.replace('\\n', '. ')))\n",
      "Exception: (\"Compilation failed (return status=1): /Users/aidasaglinskas/.theano/compiledir_Darwin-19.4.0-x86_64-i386-64bit-i386-3.7.7-64/tmpd80qx83_/mod.cpp:360:27: error: non-constant-expression cannot be narrowed from type 'npy_intp' (aka 'long') to 'int' in initializer list [-Wc++11-narrowing].     int init_totals[2] = {V1_n0, V1_n1};.                           ^~~~~. /Users/aidasaglinskas/.theano/compiledir_Darwin-19.4.0-x86_64-i386-64bit-i386-3.7.7-64/tmpd80qx83_/mod.cpp:360:27: note: insert an explicit cast to silence this issue.     int init_totals[2] = {V1_n0, V1_n1};.                           ^~~~~.                           static_cast<int>( ). /Users/aidasaglinskas/.theano/compiledir_Darwin-19.4.0-x86_64-i386-64bit-i386-3.7.7-64/tmpd80qx83_/mod.cpp:360:34: error: non-constant-expression cannot be narrowed from type 'npy_intp' (aka 'long') to 'int' in initializer list [-Wc++11-narrowing].     int init_totals[2] = {V1_n0, V1_n1};.                                  ^~~~~. /Users/aidasaglinskas/.theano/compiledir_Darwin-19.4.0-x86_64-i386-64bit-i386-3.7.7-64/tmpd80qx83_/mod.cpp:360:34: note: insert an explicit cast to silence this issue.     int init_totals[2] = {V1_n0, V1_n1};.                                  ^~~~~.                                  static_cast<int>( ). /Users/aidasaglinskas/.theano/compiledir_Darwin-19.4.0-x86_64-i386-64bit-i386-3.7.7-64/tmpd80qx83_/mod.cpp:373:1: error: non-constant-expression cannot be narrowed from type 'ssize_t' (aka 'long') to 'int' in initializer list [-Wc++11-narrowing]. V1_stride0, V1_stride1. ^~~~~~~~~~. /Users/aidasaglinskas/.theano/compiledir_Darwin-19.4.0-x86_64-i386-64bit-i386-3.7.7-64/tmpd80qx83_/mod.cpp:373:1: note: insert an explicit cast to silence this issue. V1_stride0, V1_stride1. ^~~~~~~~~~. static_cast<int>( ). /Users/aidasaglinskas/.theano/compiledir_Darwin-19.4.0-x86_64-i386-64bit-i386-3.7.7-64/tmpd80qx83_/mod.cpp:373:13: error: non-constant-expression cannot be narrowed from type 'ssize_t' (aka 'long') to 'int' in initializer list [-Wc++11-narrowing]. V1_stride0, V1_stride1.             ^~~~~~~~~~. /Users/aidasaglinskas/.theano/compiledir_Darwin-19.4.0-x86_64-i386-64bit-i386-3.7.7-64/tmpd80qx83_/mod.cpp:373:13: note: insert an explicit cast to silence this issue. V1_stride0, V1_stride1.             ^~~~~~~~~~.             static_cast<int>( ). 4 errors generated.. \", '[Elemwise{Cast{float64}}(TensorConstant{(1, 1) of 0.5})]')\n",
      "\n"
     ]
    },
    {
     "name": "stdout",
     "output_type": "stream",
     "text": [
      "\n",
      "You can find the C code in this temporary file: /var/folders/m7/h5wbg21x40sfshpzz979230c0000gn/T/theano_compilation_error_k6imkmhq\n"
     ]
    },
    {
     "name": "stderr",
     "output_type": "stream",
     "text": [
      "ERROR (theano.gof.opt): Optimization failure due to: constant_folding\n",
      "ERROR (theano.gof.opt): node: Elemwise{Cast{float64}}(TensorConstant{(1, 1, 1, .. 1) of 0.5})\n",
      "ERROR (theano.gof.opt): TRACEBACK:\n",
      "ERROR (theano.gof.opt): Traceback (most recent call last):\n",
      "  File \"/Users/aidasaglinskas/opt/anaconda3/envs/py3/lib/python3.7/site-packages/theano/gof/opt.py\", line 2034, in process_node\n",
      "    replacements = lopt.transform(node)\n",
      "  File \"/Users/aidasaglinskas/opt/anaconda3/envs/py3/lib/python3.7/site-packages/theano/tensor/opt.py\", line 6516, in constant_folding\n",
      "    no_recycling=[], impl=impl)\n",
      "  File \"/Users/aidasaglinskas/opt/anaconda3/envs/py3/lib/python3.7/site-packages/theano/gof/op.py\", line 955, in make_thunk\n",
      "    no_recycling)\n",
      "  File \"/Users/aidasaglinskas/opt/anaconda3/envs/py3/lib/python3.7/site-packages/theano/gof/op.py\", line 858, in make_c_thunk\n",
      "    output_storage=node_output_storage)\n",
      "  File \"/Users/aidasaglinskas/opt/anaconda3/envs/py3/lib/python3.7/site-packages/theano/gof/cc.py\", line 1217, in make_thunk\n",
      "    keep_lock=keep_lock)\n",
      "  File \"/Users/aidasaglinskas/opt/anaconda3/envs/py3/lib/python3.7/site-packages/theano/gof/cc.py\", line 1157, in __compile__\n",
      "    keep_lock=keep_lock)\n",
      "  File \"/Users/aidasaglinskas/opt/anaconda3/envs/py3/lib/python3.7/site-packages/theano/gof/cc.py\", line 1624, in cthunk_factory\n",
      "    key=key, lnk=self, keep_lock=keep_lock)\n",
      "  File \"/Users/aidasaglinskas/opt/anaconda3/envs/py3/lib/python3.7/site-packages/theano/gof/cmodule.py\", line 1189, in module_from_key\n",
      "    module = lnk.compile_cmodule(location)\n",
      "  File \"/Users/aidasaglinskas/opt/anaconda3/envs/py3/lib/python3.7/site-packages/theano/gof/cc.py\", line 1527, in compile_cmodule\n",
      "    preargs=preargs)\n",
      "  File \"/Users/aidasaglinskas/opt/anaconda3/envs/py3/lib/python3.7/site-packages/theano/gof/cmodule.py\", line 2411, in compile_str\n",
      "    (status, compile_stderr.replace('\\n', '. ')))\n",
      "Exception: (\"Compilation failed (return status=1): /Users/aidasaglinskas/.theano/compiledir_Darwin-19.4.0-x86_64-i386-64bit-i386-3.7.7-64/tmpmgzw4rok/mod.cpp:414:27: error: non-constant-expression cannot be narrowed from type 'npy_intp' (aka 'long') to 'int' in initializer list [-Wc++11-narrowing].     int init_totals[5] = {V1_n0, V1_n1, V1_n2, V1_n3, V1_n4};.                           ^~~~~. /Users/aidasaglinskas/.theano/compiledir_Darwin-19.4.0-x86_64-i386-64bit-i386-3.7.7-64/tmpmgzw4rok/mod.cpp:414:27: note: insert an explicit cast to silence this issue.     int init_totals[5] = {V1_n0, V1_n1, V1_n2, V1_n3, V1_n4};.                           ^~~~~.                           static_cast<int>( ). /Users/aidasaglinskas/.theano/compiledir_Darwin-19.4.0-x86_64-i386-64bit-i386-3.7.7-64/tmpmgzw4rok/mod.cpp:414:34: error: non-constant-expression cannot be narrowed from type 'npy_intp' (aka 'long') to 'int' in initializer list [-Wc++11-narrowing].     int init_totals[5] = {V1_n0, V1_n1, V1_n2, V1_n3, V1_n4};.                                  ^~~~~. /Users/aidasaglinskas/.theano/compiledir_Darwin-19.4.0-x86_64-i386-64bit-i386-3.7.7-64/tmpmgzw4rok/mod.cpp:414:34: note: insert an explicit cast to silence this issue.     int init_totals[5] = {V1_n0, V1_n1, V1_n2, V1_n3, V1_n4};.                                  ^~~~~.                                  static_cast<int>( ). /Users/aidasaglinskas/.theano/compiledir_Darwin-19.4.0-x86_64-i386-64bit-i386-3.7.7-64/tmpmgzw4rok/mod.cpp:414:41: error: non-constant-expression cannot be narrowed from type 'npy_intp' (aka 'long') to 'int' in initializer list [-Wc++11-narrowing].     int init_totals[5] = {V1_n0, V1_n1, V1_n2, V1_n3, V1_n4};.                                         ^~~~~. /Users/aidasaglinskas/.theano/compiledir_Darwin-19.4.0-x86_64-i386-64bit-i386-3.7.7-64/tmpmgzw4rok/mod.cpp:414:41: note: insert an explicit cast to silence this issue.     int init_totals[5] = {V1_n0, V1_n1, V1_n2, V1_n3, V1_n4};.                                         ^~~~~.                                         static_cast<int>( ). /Users/aidasaglinskas/.theano/compiledir_Darwin-19.4.0-x86_64-i386-64bit-i386-3.7.7-64/tmpmgzw4rok/mod.cpp:414:48: error: non-constant-expression cannot be narrowed from type 'npy_intp' (aka 'long') to 'int' in initializer list [-Wc++11-narrowing].     int init_totals[5] = {V1_n0, V1_n1, V1_n2, V1_n3, V1_n4};.                                                ^~~~~. /Users/aidasaglinskas/.theano/compiledir_Darwin-19.4.0-x86_64-i386-64bit-i386-3.7.7-64/tmpmgzw4rok/mod.cpp:414:48: note: insert an explicit cast to silence this issue.     int init_totals[5] = {V1_n0, V1_n1, V1_n2, V1_n3, V1_n4};.                                                ^~~~~.                                                static_cast<int>( ). /Users/aidasaglinskas/.theano/compiledir_Darwin-19.4.0-x86_64-i386-64bit-i386-3.7.7-64/tmpmgzw4rok/mod.cpp:414:55: error: non-constant-expression cannot be narrowed from type 'npy_intp' (aka 'long') to 'int' in initializer list [-Wc++11-narrowing].     int init_totals[5] = {V1_n0, V1_n1, V1_n2, V1_n3, V1_n4};.                                                       ^~~~~. /Users/aidasaglinskas/.theano/compiledir_Darwin-19.4.0-x86_64-i386-64bit-i386-3.7.7-64/tmpmgzw4rok/mod.cpp:414:55: note: insert an explicit cast to silence this issue.     int init_totals[5] = {V1_n0, V1_n1, V1_n2, V1_n3, V1_n4};.                                                       ^~~~~.                                                       static_cast<int>( ). /Users/aidasaglinskas/.theano/compiledir_Darwin-19.4.0-x86_64-i386-64bit-i386-3.7.7-64/tmpmgzw4rok/mod.cpp:436:1: error: non-constant-expression cannot be narrowed from type 'ssize_t' (aka 'long') to 'int' in initializer list [-Wc++11-narrowing]. V1_stride0, V1_stride1, V1_stride2, V1_stride3, V1_stride4. ^~~~~~~~~~. /Users/aidasaglinskas/.theano/compiledir_Darwin-19.4.0-x86_64-i386-64bit-i386-3.7.7-64/tmpmgzw4rok/mod.cpp:436:1: note: insert an explicit cast to silence this issue. V1_stride0, V1_stride1, V1_stride2, V1_stride3, V1_stride4. ^~~~~~~~~~. static_cast<int>( ). /Users/aidasaglinskas/.theano/compiledir_Darwin-19.4.0-x86_64-i386-64bit-i386-3.7.7-64/tmpmgzw4rok/mod.cpp:436:13: error: non-constant-expression cannot be narrowed from type 'ssize_t' (aka 'long') to 'int' in initializer list [-Wc++11-narrowing]. V1_stride0, V1_stride1, V1_stride2, V1_stride3, V1_stride4.             ^~~~~~~~~~. /Users/aidasaglinskas/.theano/compiledir_Darwin-19.4.0-x86_64-i386-64bit-i386-3.7.7-64/tmpmgzw4rok/mod.cpp:436:13: note: insert an explicit cast to silence this issue. V1_stride0, V1_stride1, V1_stride2, V1_stride3, V1_stride4.             ^~~~~~~~~~.             static_cast<int>( ). /Users/aidasaglinskas/.theano/compiledir_Darwin-19.4.0-x86_64-i386-64bit-i386-3.7.7-64/tmpmgzw4rok/mod.cpp:436:25: error: non-constant-expression cannot be narrowed from type 'ssize_t' (aka 'long') to 'int' in initializer list [-Wc++11-narrowing]. V1_stride0, V1_stride1, V1_stride2, V1_stride3, V1_stride4.                         ^~~~~~~~~~. /Users/aidasaglinskas/.theano/compiledir_Darwin-19.4.0-x86_64-i386-64bit-i386-3.7.7-64/tmpmgzw4rok/mod.cpp:436:25: note: insert an explicit cast to silence this issue. V1_stride0, V1_stride1, V1_stride2, V1_stride3, V1_stride4.                         ^~~~~~~~~~.                         static_cast<int>( ). /Users/aidasaglinskas/.theano/compiledir_Darwin-19.4.0-x86_64-i386-64bit-i386-3.7.7-64/tmpmgzw4rok/mod.cpp:436:37: error: non-constant-expression cannot be narrowed from type 'ssize_t' (aka 'long') to 'int' in initializer list [-Wc++11-narrowing]. V1_stride0, V1_stride1, V1_stride2, V1_stride3, V1_stride4.                                     ^~~~~~~~~~. /Users/aidasaglinskas/.theano/compiledir_Darwin-19.4.0-x86_64-i386-64bit-i386-3.7.7-64/tmpmgzw4rok/mod.cpp:436:37: note: insert an explicit cast to silence this issue. V1_stride0, V1_stride1, V1_stride2, V1_stride3, V1_stride4.                                     ^~~~~~~~~~.                                     static_cast<int>( ). /Users/aidasaglinskas/.theano/compiledir_Darwin-19.4.0-x86_64-i386-64bit-i386-3.7.7-64/tmpmgzw4rok/mod.cpp:436:49: error: non-constant-expression cannot be narrowed from type 'ssize_t' (aka 'long') to 'int' in initializer list [-Wc++11-narrowing]. V1_stride0, V1_stride1, V1_stride2, V1_stride3, V1_stride4.                                                 ^~~~~~~~~~. /Users/aidasaglinskas/.theano/compiledir_Darwin-19.4.0-x86_64-i386-64bit-i386-3.7.7-64/tmpmgzw4rok/mod.cpp:436:49: note: insert an explicit cast to silence this issue. V1_stride0, V1_stride1, V1_stride2, V1_stride3, V1_stride4.                                                 ^~~~~~~~~~.                                                 static_cast<int>( ). 10 errors generated.. \", '[Elemwise{Cast{float64}}(TensorConstant{(1, 1, 1, .. 1) of 0.5})]')\n",
      "\n"
     ]
    },
    {
     "name": "stdout",
     "output_type": "stream",
     "text": [
      "\n",
      "You can find the C code in this temporary file: /var/folders/m7/h5wbg21x40sfshpzz979230c0000gn/T/theano_compilation_error_nbu39_vq\n"
     ]
    },
    {
     "name": "stderr",
     "output_type": "stream",
     "text": [
      "ERROR (theano.gof.opt): Optimization failure due to: constant_folding\n",
      "ERROR (theano.gof.opt): node: Elemwise{Cast{float64}}(TensorConstant{(1, 1) of 0.5})\n",
      "ERROR (theano.gof.opt): TRACEBACK:\n",
      "ERROR (theano.gof.opt): Traceback (most recent call last):\n",
      "  File \"/Users/aidasaglinskas/opt/anaconda3/envs/py3/lib/python3.7/site-packages/theano/gof/opt.py\", line 2034, in process_node\n",
      "    replacements = lopt.transform(node)\n",
      "  File \"/Users/aidasaglinskas/opt/anaconda3/envs/py3/lib/python3.7/site-packages/theano/tensor/opt.py\", line 6516, in constant_folding\n",
      "    no_recycling=[], impl=impl)\n",
      "  File \"/Users/aidasaglinskas/opt/anaconda3/envs/py3/lib/python3.7/site-packages/theano/gof/op.py\", line 955, in make_thunk\n",
      "    no_recycling)\n",
      "  File \"/Users/aidasaglinskas/opt/anaconda3/envs/py3/lib/python3.7/site-packages/theano/gof/op.py\", line 858, in make_c_thunk\n",
      "    output_storage=node_output_storage)\n",
      "  File \"/Users/aidasaglinskas/opt/anaconda3/envs/py3/lib/python3.7/site-packages/theano/gof/cc.py\", line 1217, in make_thunk\n",
      "    keep_lock=keep_lock)\n",
      "  File \"/Users/aidasaglinskas/opt/anaconda3/envs/py3/lib/python3.7/site-packages/theano/gof/cc.py\", line 1157, in __compile__\n",
      "    keep_lock=keep_lock)\n",
      "  File \"/Users/aidasaglinskas/opt/anaconda3/envs/py3/lib/python3.7/site-packages/theano/gof/cc.py\", line 1624, in cthunk_factory\n",
      "    key=key, lnk=self, keep_lock=keep_lock)\n",
      "  File \"/Users/aidasaglinskas/opt/anaconda3/envs/py3/lib/python3.7/site-packages/theano/gof/cmodule.py\", line 1189, in module_from_key\n",
      "    module = lnk.compile_cmodule(location)\n",
      "  File \"/Users/aidasaglinskas/opt/anaconda3/envs/py3/lib/python3.7/site-packages/theano/gof/cc.py\", line 1527, in compile_cmodule\n",
      "    preargs=preargs)\n",
      "  File \"/Users/aidasaglinskas/opt/anaconda3/envs/py3/lib/python3.7/site-packages/theano/gof/cmodule.py\", line 2411, in compile_str\n",
      "    (status, compile_stderr.replace('\\n', '. ')))\n",
      "Exception: (\"Compilation failed (return status=1): /Users/aidasaglinskas/.theano/compiledir_Darwin-19.4.0-x86_64-i386-64bit-i386-3.7.7-64/tmpcuumx09j/mod.cpp:360:27: error: non-constant-expression cannot be narrowed from type 'npy_intp' (aka 'long') to 'int' in initializer list [-Wc++11-narrowing].     int init_totals[2] = {V1_n0, V1_n1};.                           ^~~~~. /Users/aidasaglinskas/.theano/compiledir_Darwin-19.4.0-x86_64-i386-64bit-i386-3.7.7-64/tmpcuumx09j/mod.cpp:360:27: note: insert an explicit cast to silence this issue.     int init_totals[2] = {V1_n0, V1_n1};.                           ^~~~~.                           static_cast<int>( ). /Users/aidasaglinskas/.theano/compiledir_Darwin-19.4.0-x86_64-i386-64bit-i386-3.7.7-64/tmpcuumx09j/mod.cpp:360:34: error: non-constant-expression cannot be narrowed from type 'npy_intp' (aka 'long') to 'int' in initializer list [-Wc++11-narrowing].     int init_totals[2] = {V1_n0, V1_n1};.                                  ^~~~~. /Users/aidasaglinskas/.theano/compiledir_Darwin-19.4.0-x86_64-i386-64bit-i386-3.7.7-64/tmpcuumx09j/mod.cpp:360:34: note: insert an explicit cast to silence this issue.     int init_totals[2] = {V1_n0, V1_n1};.                                  ^~~~~.                                  static_cast<int>( ). /Users/aidasaglinskas/.theano/compiledir_Darwin-19.4.0-x86_64-i386-64bit-i386-3.7.7-64/tmpcuumx09j/mod.cpp:373:1: error: non-constant-expression cannot be narrowed from type 'ssize_t' (aka 'long') to 'int' in initializer list [-Wc++11-narrowing]. V1_stride0, V1_stride1. ^~~~~~~~~~. /Users/aidasaglinskas/.theano/compiledir_Darwin-19.4.0-x86_64-i386-64bit-i386-3.7.7-64/tmpcuumx09j/mod.cpp:373:1: note: insert an explicit cast to silence this issue. V1_stride0, V1_stride1. ^~~~~~~~~~. static_cast<int>( ). /Users/aidasaglinskas/.theano/compiledir_Darwin-19.4.0-x86_64-i386-64bit-i386-3.7.7-64/tmpcuumx09j/mod.cpp:373:13: error: non-constant-expression cannot be narrowed from type 'ssize_t' (aka 'long') to 'int' in initializer list [-Wc++11-narrowing]. V1_stride0, V1_stride1.             ^~~~~~~~~~. /Users/aidasaglinskas/.theano/compiledir_Darwin-19.4.0-x86_64-i386-64bit-i386-3.7.7-64/tmpcuumx09j/mod.cpp:373:13: note: insert an explicit cast to silence this issue. V1_stride0, V1_stride1.             ^~~~~~~~~~.             static_cast<int>( ). 4 errors generated.. \", '[Elemwise{Cast{float64}}(TensorConstant{(1, 1) of 0.5})]')\n",
      "\n"
     ]
    },
    {
     "name": "stdout",
     "output_type": "stream",
     "text": [
      "\n",
      "You can find the C code in this temporary file: /var/folders/m7/h5wbg21x40sfshpzz979230c0000gn/T/theano_compilation_error_dgnvec0_\n"
     ]
    },
    {
     "name": "stderr",
     "output_type": "stream",
     "text": [
      "ERROR (theano.gof.opt): Optimization failure due to: constant_folding\n",
      "ERROR (theano.gof.opt): node: Elemwise{Cast{float64}}(TensorConstant{(1, 1, 1, .. 1) of 0.5})\n",
      "ERROR (theano.gof.opt): TRACEBACK:\n",
      "ERROR (theano.gof.opt): Traceback (most recent call last):\n",
      "  File \"/Users/aidasaglinskas/opt/anaconda3/envs/py3/lib/python3.7/site-packages/theano/gof/opt.py\", line 2034, in process_node\n",
      "    replacements = lopt.transform(node)\n",
      "  File \"/Users/aidasaglinskas/opt/anaconda3/envs/py3/lib/python3.7/site-packages/theano/tensor/opt.py\", line 6516, in constant_folding\n",
      "    no_recycling=[], impl=impl)\n",
      "  File \"/Users/aidasaglinskas/opt/anaconda3/envs/py3/lib/python3.7/site-packages/theano/gof/op.py\", line 955, in make_thunk\n",
      "    no_recycling)\n",
      "  File \"/Users/aidasaglinskas/opt/anaconda3/envs/py3/lib/python3.7/site-packages/theano/gof/op.py\", line 858, in make_c_thunk\n",
      "    output_storage=node_output_storage)\n",
      "  File \"/Users/aidasaglinskas/opt/anaconda3/envs/py3/lib/python3.7/site-packages/theano/gof/cc.py\", line 1217, in make_thunk\n",
      "    keep_lock=keep_lock)\n",
      "  File \"/Users/aidasaglinskas/opt/anaconda3/envs/py3/lib/python3.7/site-packages/theano/gof/cc.py\", line 1157, in __compile__\n",
      "    keep_lock=keep_lock)\n",
      "  File \"/Users/aidasaglinskas/opt/anaconda3/envs/py3/lib/python3.7/site-packages/theano/gof/cc.py\", line 1624, in cthunk_factory\n",
      "    key=key, lnk=self, keep_lock=keep_lock)\n",
      "  File \"/Users/aidasaglinskas/opt/anaconda3/envs/py3/lib/python3.7/site-packages/theano/gof/cmodule.py\", line 1189, in module_from_key\n",
      "    module = lnk.compile_cmodule(location)\n",
      "  File \"/Users/aidasaglinskas/opt/anaconda3/envs/py3/lib/python3.7/site-packages/theano/gof/cc.py\", line 1527, in compile_cmodule\n",
      "    preargs=preargs)\n",
      "  File \"/Users/aidasaglinskas/opt/anaconda3/envs/py3/lib/python3.7/site-packages/theano/gof/cmodule.py\", line 2411, in compile_str\n",
      "    (status, compile_stderr.replace('\\n', '. ')))\n",
      "Exception: (\"Compilation failed (return status=1): /Users/aidasaglinskas/.theano/compiledir_Darwin-19.4.0-x86_64-i386-64bit-i386-3.7.7-64/tmpyoondda4/mod.cpp:414:27: error: non-constant-expression cannot be narrowed from type 'npy_intp' (aka 'long') to 'int' in initializer list [-Wc++11-narrowing].     int init_totals[5] = {V1_n0, V1_n1, V1_n2, V1_n3, V1_n4};.                           ^~~~~. /Users/aidasaglinskas/.theano/compiledir_Darwin-19.4.0-x86_64-i386-64bit-i386-3.7.7-64/tmpyoondda4/mod.cpp:414:27: note: insert an explicit cast to silence this issue.     int init_totals[5] = {V1_n0, V1_n1, V1_n2, V1_n3, V1_n4};.                           ^~~~~.                           static_cast<int>( ). /Users/aidasaglinskas/.theano/compiledir_Darwin-19.4.0-x86_64-i386-64bit-i386-3.7.7-64/tmpyoondda4/mod.cpp:414:34: error: non-constant-expression cannot be narrowed from type 'npy_intp' (aka 'long') to 'int' in initializer list [-Wc++11-narrowing].     int init_totals[5] = {V1_n0, V1_n1, V1_n2, V1_n3, V1_n4};.                                  ^~~~~. /Users/aidasaglinskas/.theano/compiledir_Darwin-19.4.0-x86_64-i386-64bit-i386-3.7.7-64/tmpyoondda4/mod.cpp:414:34: note: insert an explicit cast to silence this issue.     int init_totals[5] = {V1_n0, V1_n1, V1_n2, V1_n3, V1_n4};.                                  ^~~~~.                                  static_cast<int>( ). /Users/aidasaglinskas/.theano/compiledir_Darwin-19.4.0-x86_64-i386-64bit-i386-3.7.7-64/tmpyoondda4/mod.cpp:414:41: error: non-constant-expression cannot be narrowed from type 'npy_intp' (aka 'long') to 'int' in initializer list [-Wc++11-narrowing].     int init_totals[5] = {V1_n0, V1_n1, V1_n2, V1_n3, V1_n4};.                                         ^~~~~. /Users/aidasaglinskas/.theano/compiledir_Darwin-19.4.0-x86_64-i386-64bit-i386-3.7.7-64/tmpyoondda4/mod.cpp:414:41: note: insert an explicit cast to silence this issue.     int init_totals[5] = {V1_n0, V1_n1, V1_n2, V1_n3, V1_n4};.                                         ^~~~~.                                         static_cast<int>( ). /Users/aidasaglinskas/.theano/compiledir_Darwin-19.4.0-x86_64-i386-64bit-i386-3.7.7-64/tmpyoondda4/mod.cpp:414:48: error: non-constant-expression cannot be narrowed from type 'npy_intp' (aka 'long') to 'int' in initializer list [-Wc++11-narrowing].     int init_totals[5] = {V1_n0, V1_n1, V1_n2, V1_n3, V1_n4};.                                                ^~~~~. /Users/aidasaglinskas/.theano/compiledir_Darwin-19.4.0-x86_64-i386-64bit-i386-3.7.7-64/tmpyoondda4/mod.cpp:414:48: note: insert an explicit cast to silence this issue.     int init_totals[5] = {V1_n0, V1_n1, V1_n2, V1_n3, V1_n4};.                                                ^~~~~.                                                static_cast<int>( ). /Users/aidasaglinskas/.theano/compiledir_Darwin-19.4.0-x86_64-i386-64bit-i386-3.7.7-64/tmpyoondda4/mod.cpp:414:55: error: non-constant-expression cannot be narrowed from type 'npy_intp' (aka 'long') to 'int' in initializer list [-Wc++11-narrowing].     int init_totals[5] = {V1_n0, V1_n1, V1_n2, V1_n3, V1_n4};.                                                       ^~~~~. /Users/aidasaglinskas/.theano/compiledir_Darwin-19.4.0-x86_64-i386-64bit-i386-3.7.7-64/tmpyoondda4/mod.cpp:414:55: note: insert an explicit cast to silence this issue.     int init_totals[5] = {V1_n0, V1_n1, V1_n2, V1_n3, V1_n4};.                                                       ^~~~~.                                                       static_cast<int>( ). /Users/aidasaglinskas/.theano/compiledir_Darwin-19.4.0-x86_64-i386-64bit-i386-3.7.7-64/tmpyoondda4/mod.cpp:436:1: error: non-constant-expression cannot be narrowed from type 'ssize_t' (aka 'long') to 'int' in initializer list [-Wc++11-narrowing]. V1_stride0, V1_stride1, V1_stride2, V1_stride3, V1_stride4. ^~~~~~~~~~. /Users/aidasaglinskas/.theano/compiledir_Darwin-19.4.0-x86_64-i386-64bit-i386-3.7.7-64/tmpyoondda4/mod.cpp:436:1: note: insert an explicit cast to silence this issue. V1_stride0, V1_stride1, V1_stride2, V1_stride3, V1_stride4. ^~~~~~~~~~. static_cast<int>( ). /Users/aidasaglinskas/.theano/compiledir_Darwin-19.4.0-x86_64-i386-64bit-i386-3.7.7-64/tmpyoondda4/mod.cpp:436:13: error: non-constant-expression cannot be narrowed from type 'ssize_t' (aka 'long') to 'int' in initializer list [-Wc++11-narrowing]. V1_stride0, V1_stride1, V1_stride2, V1_stride3, V1_stride4.             ^~~~~~~~~~. /Users/aidasaglinskas/.theano/compiledir_Darwin-19.4.0-x86_64-i386-64bit-i386-3.7.7-64/tmpyoondda4/mod.cpp:436:13: note: insert an explicit cast to silence this issue. V1_stride0, V1_stride1, V1_stride2, V1_stride3, V1_stride4.             ^~~~~~~~~~.             static_cast<int>( ). /Users/aidasaglinskas/.theano/compiledir_Darwin-19.4.0-x86_64-i386-64bit-i386-3.7.7-64/tmpyoondda4/mod.cpp:436:25: error: non-constant-expression cannot be narrowed from type 'ssize_t' (aka 'long') to 'int' in initializer list [-Wc++11-narrowing]. V1_stride0, V1_stride1, V1_stride2, V1_stride3, V1_stride4.                         ^~~~~~~~~~. /Users/aidasaglinskas/.theano/compiledir_Darwin-19.4.0-x86_64-i386-64bit-i386-3.7.7-64/tmpyoondda4/mod.cpp:436:25: note: insert an explicit cast to silence this issue. V1_stride0, V1_stride1, V1_stride2, V1_stride3, V1_stride4.                         ^~~~~~~~~~.                         static_cast<int>( ). /Users/aidasaglinskas/.theano/compiledir_Darwin-19.4.0-x86_64-i386-64bit-i386-3.7.7-64/tmpyoondda4/mod.cpp:436:37: error: non-constant-expression cannot be narrowed from type 'ssize_t' (aka 'long') to 'int' in initializer list [-Wc++11-narrowing]. V1_stride0, V1_stride1, V1_stride2, V1_stride3, V1_stride4.                                     ^~~~~~~~~~. /Users/aidasaglinskas/.theano/compiledir_Darwin-19.4.0-x86_64-i386-64bit-i386-3.7.7-64/tmpyoondda4/mod.cpp:436:37: note: insert an explicit cast to silence this issue. V1_stride0, V1_stride1, V1_stride2, V1_stride3, V1_stride4.                                     ^~~~~~~~~~.                                     static_cast<int>( ). /Users/aidasaglinskas/.theano/compiledir_Darwin-19.4.0-x86_64-i386-64bit-i386-3.7.7-64/tmpyoondda4/mod.cpp:436:49: error: non-constant-expression cannot be narrowed from type 'ssize_t' (aka 'long') to 'int' in initializer list [-Wc++11-narrowing]. V1_stride0, V1_stride1, V1_stride2, V1_stride3, V1_stride4.                                                 ^~~~~~~~~~. /Users/aidasaglinskas/.theano/compiledir_Darwin-19.4.0-x86_64-i386-64bit-i386-3.7.7-64/tmpyoondda4/mod.cpp:436:49: note: insert an explicit cast to silence this issue. V1_stride0, V1_stride1, V1_stride2, V1_stride3, V1_stride4.                                                 ^~~~~~~~~~.                                                 static_cast<int>( ). 10 errors generated.. \", '[Elemwise{Cast{float64}}(TensorConstant{(1, 1, 1, .. 1) of 0.5})]')\n",
      "\n"
     ]
    },
    {
     "name": "stdout",
     "output_type": "stream",
     "text": [
      "\n",
      "You can find the C code in this temporary file: /var/folders/m7/h5wbg21x40sfshpzz979230c0000gn/T/theano_compilation_error_7_rvqk4u\n"
     ]
    },
    {
     "name": "stderr",
     "output_type": "stream",
     "text": [
      "ERROR (theano.gof.opt): Optimization failure due to: constant_folding\n",
      "ERROR (theano.gof.opt): node: Elemwise{Cast{float64}}(TensorConstant{(1, 1) of 0.5})\n",
      "ERROR (theano.gof.opt): TRACEBACK:\n",
      "ERROR (theano.gof.opt): Traceback (most recent call last):\n",
      "  File \"/Users/aidasaglinskas/opt/anaconda3/envs/py3/lib/python3.7/site-packages/theano/gof/opt.py\", line 2034, in process_node\n",
      "    replacements = lopt.transform(node)\n",
      "  File \"/Users/aidasaglinskas/opt/anaconda3/envs/py3/lib/python3.7/site-packages/theano/tensor/opt.py\", line 6516, in constant_folding\n",
      "    no_recycling=[], impl=impl)\n",
      "  File \"/Users/aidasaglinskas/opt/anaconda3/envs/py3/lib/python3.7/site-packages/theano/gof/op.py\", line 955, in make_thunk\n",
      "    no_recycling)\n",
      "  File \"/Users/aidasaglinskas/opt/anaconda3/envs/py3/lib/python3.7/site-packages/theano/gof/op.py\", line 858, in make_c_thunk\n",
      "    output_storage=node_output_storage)\n",
      "  File \"/Users/aidasaglinskas/opt/anaconda3/envs/py3/lib/python3.7/site-packages/theano/gof/cc.py\", line 1217, in make_thunk\n",
      "    keep_lock=keep_lock)\n",
      "  File \"/Users/aidasaglinskas/opt/anaconda3/envs/py3/lib/python3.7/site-packages/theano/gof/cc.py\", line 1157, in __compile__\n",
      "    keep_lock=keep_lock)\n",
      "  File \"/Users/aidasaglinskas/opt/anaconda3/envs/py3/lib/python3.7/site-packages/theano/gof/cc.py\", line 1624, in cthunk_factory\n",
      "    key=key, lnk=self, keep_lock=keep_lock)\n",
      "  File \"/Users/aidasaglinskas/opt/anaconda3/envs/py3/lib/python3.7/site-packages/theano/gof/cmodule.py\", line 1189, in module_from_key\n",
      "    module = lnk.compile_cmodule(location)\n",
      "  File \"/Users/aidasaglinskas/opt/anaconda3/envs/py3/lib/python3.7/site-packages/theano/gof/cc.py\", line 1527, in compile_cmodule\n",
      "    preargs=preargs)\n",
      "  File \"/Users/aidasaglinskas/opt/anaconda3/envs/py3/lib/python3.7/site-packages/theano/gof/cmodule.py\", line 2411, in compile_str\n",
      "    (status, compile_stderr.replace('\\n', '. ')))\n",
      "Exception: (\"Compilation failed (return status=1): /Users/aidasaglinskas/.theano/compiledir_Darwin-19.4.0-x86_64-i386-64bit-i386-3.7.7-64/tmp44kxdrpo/mod.cpp:360:27: error: non-constant-expression cannot be narrowed from type 'npy_intp' (aka 'long') to 'int' in initializer list [-Wc++11-narrowing].     int init_totals[2] = {V1_n0, V1_n1};.                           ^~~~~. /Users/aidasaglinskas/.theano/compiledir_Darwin-19.4.0-x86_64-i386-64bit-i386-3.7.7-64/tmp44kxdrpo/mod.cpp:360:27: note: insert an explicit cast to silence this issue.     int init_totals[2] = {V1_n0, V1_n1};.                           ^~~~~.                           static_cast<int>( ). /Users/aidasaglinskas/.theano/compiledir_Darwin-19.4.0-x86_64-i386-64bit-i386-3.7.7-64/tmp44kxdrpo/mod.cpp:360:34: error: non-constant-expression cannot be narrowed from type 'npy_intp' (aka 'long') to 'int' in initializer list [-Wc++11-narrowing].     int init_totals[2] = {V1_n0, V1_n1};.                                  ^~~~~. /Users/aidasaglinskas/.theano/compiledir_Darwin-19.4.0-x86_64-i386-64bit-i386-3.7.7-64/tmp44kxdrpo/mod.cpp:360:34: note: insert an explicit cast to silence this issue.     int init_totals[2] = {V1_n0, V1_n1};.                                  ^~~~~.                                  static_cast<int>( ). /Users/aidasaglinskas/.theano/compiledir_Darwin-19.4.0-x86_64-i386-64bit-i386-3.7.7-64/tmp44kxdrpo/mod.cpp:373:1: error: non-constant-expression cannot be narrowed from type 'ssize_t' (aka 'long') to 'int' in initializer list [-Wc++11-narrowing]. V1_stride0, V1_stride1. ^~~~~~~~~~. /Users/aidasaglinskas/.theano/compiledir_Darwin-19.4.0-x86_64-i386-64bit-i386-3.7.7-64/tmp44kxdrpo/mod.cpp:373:1: note: insert an explicit cast to silence this issue. V1_stride0, V1_stride1. ^~~~~~~~~~. static_cast<int>( ). /Users/aidasaglinskas/.theano/compiledir_Darwin-19.4.0-x86_64-i386-64bit-i386-3.7.7-64/tmp44kxdrpo/mod.cpp:373:13: error: non-constant-expression cannot be narrowed from type 'ssize_t' (aka 'long') to 'int' in initializer list [-Wc++11-narrowing]. V1_stride0, V1_stride1.             ^~~~~~~~~~. /Users/aidasaglinskas/.theano/compiledir_Darwin-19.4.0-x86_64-i386-64bit-i386-3.7.7-64/tmp44kxdrpo/mod.cpp:373:13: note: insert an explicit cast to silence this issue. V1_stride0, V1_stride1.             ^~~~~~~~~~.             static_cast<int>( ). 4 errors generated.. \", '[Elemwise{Cast{float64}}(TensorConstant{(1, 1) of 0.5})]')\n",
      "\n"
     ]
    },
    {
     "name": "stdout",
     "output_type": "stream",
     "text": [
      "\n",
      "You can find the C code in this temporary file: /var/folders/m7/h5wbg21x40sfshpzz979230c0000gn/T/theano_compilation_error_pf1doh3x\n"
     ]
    },
    {
     "name": "stderr",
     "output_type": "stream",
     "text": [
      "ERROR (theano.gof.opt): Optimization failure due to: constant_folding\n",
      "ERROR (theano.gof.opt): node: Elemwise{Cast{float64}}(TensorConstant{(1, 1, 1, .. 1) of 0.5})\n",
      "ERROR (theano.gof.opt): TRACEBACK:\n",
      "ERROR (theano.gof.opt): Traceback (most recent call last):\n",
      "  File \"/Users/aidasaglinskas/opt/anaconda3/envs/py3/lib/python3.7/site-packages/theano/gof/opt.py\", line 2034, in process_node\n",
      "    replacements = lopt.transform(node)\n",
      "  File \"/Users/aidasaglinskas/opt/anaconda3/envs/py3/lib/python3.7/site-packages/theano/tensor/opt.py\", line 6516, in constant_folding\n",
      "    no_recycling=[], impl=impl)\n",
      "  File \"/Users/aidasaglinskas/opt/anaconda3/envs/py3/lib/python3.7/site-packages/theano/gof/op.py\", line 955, in make_thunk\n",
      "    no_recycling)\n",
      "  File \"/Users/aidasaglinskas/opt/anaconda3/envs/py3/lib/python3.7/site-packages/theano/gof/op.py\", line 858, in make_c_thunk\n",
      "    output_storage=node_output_storage)\n",
      "  File \"/Users/aidasaglinskas/opt/anaconda3/envs/py3/lib/python3.7/site-packages/theano/gof/cc.py\", line 1217, in make_thunk\n",
      "    keep_lock=keep_lock)\n",
      "  File \"/Users/aidasaglinskas/opt/anaconda3/envs/py3/lib/python3.7/site-packages/theano/gof/cc.py\", line 1157, in __compile__\n",
      "    keep_lock=keep_lock)\n",
      "  File \"/Users/aidasaglinskas/opt/anaconda3/envs/py3/lib/python3.7/site-packages/theano/gof/cc.py\", line 1624, in cthunk_factory\n",
      "    key=key, lnk=self, keep_lock=keep_lock)\n",
      "  File \"/Users/aidasaglinskas/opt/anaconda3/envs/py3/lib/python3.7/site-packages/theano/gof/cmodule.py\", line 1189, in module_from_key\n",
      "    module = lnk.compile_cmodule(location)\n",
      "  File \"/Users/aidasaglinskas/opt/anaconda3/envs/py3/lib/python3.7/site-packages/theano/gof/cc.py\", line 1527, in compile_cmodule\n",
      "    preargs=preargs)\n",
      "  File \"/Users/aidasaglinskas/opt/anaconda3/envs/py3/lib/python3.7/site-packages/theano/gof/cmodule.py\", line 2411, in compile_str\n",
      "    (status, compile_stderr.replace('\\n', '. ')))\n",
      "Exception: (\"Compilation failed (return status=1): /Users/aidasaglinskas/.theano/compiledir_Darwin-19.4.0-x86_64-i386-64bit-i386-3.7.7-64/tmp9__trek7/mod.cpp:414:27: error: non-constant-expression cannot be narrowed from type 'npy_intp' (aka 'long') to 'int' in initializer list [-Wc++11-narrowing].     int init_totals[5] = {V1_n0, V1_n1, V1_n2, V1_n3, V1_n4};.                           ^~~~~. /Users/aidasaglinskas/.theano/compiledir_Darwin-19.4.0-x86_64-i386-64bit-i386-3.7.7-64/tmp9__trek7/mod.cpp:414:27: note: insert an explicit cast to silence this issue.     int init_totals[5] = {V1_n0, V1_n1, V1_n2, V1_n3, V1_n4};.                           ^~~~~.                           static_cast<int>( ). /Users/aidasaglinskas/.theano/compiledir_Darwin-19.4.0-x86_64-i386-64bit-i386-3.7.7-64/tmp9__trek7/mod.cpp:414:34: error: non-constant-expression cannot be narrowed from type 'npy_intp' (aka 'long') to 'int' in initializer list [-Wc++11-narrowing].     int init_totals[5] = {V1_n0, V1_n1, V1_n2, V1_n3, V1_n4};.                                  ^~~~~. /Users/aidasaglinskas/.theano/compiledir_Darwin-19.4.0-x86_64-i386-64bit-i386-3.7.7-64/tmp9__trek7/mod.cpp:414:34: note: insert an explicit cast to silence this issue.     int init_totals[5] = {V1_n0, V1_n1, V1_n2, V1_n3, V1_n4};.                                  ^~~~~.                                  static_cast<int>( ). /Users/aidasaglinskas/.theano/compiledir_Darwin-19.4.0-x86_64-i386-64bit-i386-3.7.7-64/tmp9__trek7/mod.cpp:414:41: error: non-constant-expression cannot be narrowed from type 'npy_intp' (aka 'long') to 'int' in initializer list [-Wc++11-narrowing].     int init_totals[5] = {V1_n0, V1_n1, V1_n2, V1_n3, V1_n4};.                                         ^~~~~. /Users/aidasaglinskas/.theano/compiledir_Darwin-19.4.0-x86_64-i386-64bit-i386-3.7.7-64/tmp9__trek7/mod.cpp:414:41: note: insert an explicit cast to silence this issue.     int init_totals[5] = {V1_n0, V1_n1, V1_n2, V1_n3, V1_n4};.                                         ^~~~~.                                         static_cast<int>( ). /Users/aidasaglinskas/.theano/compiledir_Darwin-19.4.0-x86_64-i386-64bit-i386-3.7.7-64/tmp9__trek7/mod.cpp:414:48: error: non-constant-expression cannot be narrowed from type 'npy_intp' (aka 'long') to 'int' in initializer list [-Wc++11-narrowing].     int init_totals[5] = {V1_n0, V1_n1, V1_n2, V1_n3, V1_n4};.                                                ^~~~~. /Users/aidasaglinskas/.theano/compiledir_Darwin-19.4.0-x86_64-i386-64bit-i386-3.7.7-64/tmp9__trek7/mod.cpp:414:48: note: insert an explicit cast to silence this issue.     int init_totals[5] = {V1_n0, V1_n1, V1_n2, V1_n3, V1_n4};.                                                ^~~~~.                                                static_cast<int>( ). /Users/aidasaglinskas/.theano/compiledir_Darwin-19.4.0-x86_64-i386-64bit-i386-3.7.7-64/tmp9__trek7/mod.cpp:414:55: error: non-constant-expression cannot be narrowed from type 'npy_intp' (aka 'long') to 'int' in initializer list [-Wc++11-narrowing].     int init_totals[5] = {V1_n0, V1_n1, V1_n2, V1_n3, V1_n4};.                                                       ^~~~~. /Users/aidasaglinskas/.theano/compiledir_Darwin-19.4.0-x86_64-i386-64bit-i386-3.7.7-64/tmp9__trek7/mod.cpp:414:55: note: insert an explicit cast to silence this issue.     int init_totals[5] = {V1_n0, V1_n1, V1_n2, V1_n3, V1_n4};.                                                       ^~~~~.                                                       static_cast<int>( ). /Users/aidasaglinskas/.theano/compiledir_Darwin-19.4.0-x86_64-i386-64bit-i386-3.7.7-64/tmp9__trek7/mod.cpp:436:1: error: non-constant-expression cannot be narrowed from type 'ssize_t' (aka 'long') to 'int' in initializer list [-Wc++11-narrowing]. V1_stride0, V1_stride1, V1_stride2, V1_stride3, V1_stride4. ^~~~~~~~~~. /Users/aidasaglinskas/.theano/compiledir_Darwin-19.4.0-x86_64-i386-64bit-i386-3.7.7-64/tmp9__trek7/mod.cpp:436:1: note: insert an explicit cast to silence this issue. V1_stride0, V1_stride1, V1_stride2, V1_stride3, V1_stride4. ^~~~~~~~~~. static_cast<int>( ). /Users/aidasaglinskas/.theano/compiledir_Darwin-19.4.0-x86_64-i386-64bit-i386-3.7.7-64/tmp9__trek7/mod.cpp:436:13: error: non-constant-expression cannot be narrowed from type 'ssize_t' (aka 'long') to 'int' in initializer list [-Wc++11-narrowing]. V1_stride0, V1_stride1, V1_stride2, V1_stride3, V1_stride4.             ^~~~~~~~~~. /Users/aidasaglinskas/.theano/compiledir_Darwin-19.4.0-x86_64-i386-64bit-i386-3.7.7-64/tmp9__trek7/mod.cpp:436:13: note: insert an explicit cast to silence this issue. V1_stride0, V1_stride1, V1_stride2, V1_stride3, V1_stride4.             ^~~~~~~~~~.             static_cast<int>( ). /Users/aidasaglinskas/.theano/compiledir_Darwin-19.4.0-x86_64-i386-64bit-i386-3.7.7-64/tmp9__trek7/mod.cpp:436:25: error: non-constant-expression cannot be narrowed from type 'ssize_t' (aka 'long') to 'int' in initializer list [-Wc++11-narrowing]. V1_stride0, V1_stride1, V1_stride2, V1_stride3, V1_stride4.                         ^~~~~~~~~~. /Users/aidasaglinskas/.theano/compiledir_Darwin-19.4.0-x86_64-i386-64bit-i386-3.7.7-64/tmp9__trek7/mod.cpp:436:25: note: insert an explicit cast to silence this issue. V1_stride0, V1_stride1, V1_stride2, V1_stride3, V1_stride4.                         ^~~~~~~~~~.                         static_cast<int>( ). /Users/aidasaglinskas/.theano/compiledir_Darwin-19.4.0-x86_64-i386-64bit-i386-3.7.7-64/tmp9__trek7/mod.cpp:436:37: error: non-constant-expression cannot be narrowed from type 'ssize_t' (aka 'long') to 'int' in initializer list [-Wc++11-narrowing]. V1_stride0, V1_stride1, V1_stride2, V1_stride3, V1_stride4.                                     ^~~~~~~~~~. /Users/aidasaglinskas/.theano/compiledir_Darwin-19.4.0-x86_64-i386-64bit-i386-3.7.7-64/tmp9__trek7/mod.cpp:436:37: note: insert an explicit cast to silence this issue. V1_stride0, V1_stride1, V1_stride2, V1_stride3, V1_stride4.                                     ^~~~~~~~~~.                                     static_cast<int>( ). /Users/aidasaglinskas/.theano/compiledir_Darwin-19.4.0-x86_64-i386-64bit-i386-3.7.7-64/tmp9__trek7/mod.cpp:436:49: error: non-constant-expression cannot be narrowed from type 'ssize_t' (aka 'long') to 'int' in initializer list [-Wc++11-narrowing]. V1_stride0, V1_stride1, V1_stride2, V1_stride3, V1_stride4.                                                 ^~~~~~~~~~. /Users/aidasaglinskas/.theano/compiledir_Darwin-19.4.0-x86_64-i386-64bit-i386-3.7.7-64/tmp9__trek7/mod.cpp:436:49: note: insert an explicit cast to silence this issue. V1_stride0, V1_stride1, V1_stride2, V1_stride3, V1_stride4.                                                 ^~~~~~~~~~.                                                 static_cast<int>( ). 10 errors generated.. \", '[Elemwise{Cast{float64}}(TensorConstant{(1, 1, 1, .. 1) of 0.5})]')\n",
      "\n"
     ]
    },
    {
     "name": "stdout",
     "output_type": "stream",
     "text": [
      "\n",
      "You can find the C code in this temporary file: /var/folders/m7/h5wbg21x40sfshpzz979230c0000gn/T/theano_compilation_error_w9gld_wp\n"
     ]
    },
    {
     "name": "stderr",
     "output_type": "stream",
     "text": [
      "ERROR (theano.gof.opt): Optimization failure due to: constant_folding\n",
      "ERROR (theano.gof.opt): node: Elemwise{Cast{float64}}(TensorConstant{(1, 1) of 0.5})\n",
      "ERROR (theano.gof.opt): TRACEBACK:\n",
      "ERROR (theano.gof.opt): Traceback (most recent call last):\n",
      "  File \"/Users/aidasaglinskas/opt/anaconda3/envs/py3/lib/python3.7/site-packages/theano/gof/opt.py\", line 2034, in process_node\n",
      "    replacements = lopt.transform(node)\n",
      "  File \"/Users/aidasaglinskas/opt/anaconda3/envs/py3/lib/python3.7/site-packages/theano/tensor/opt.py\", line 6516, in constant_folding\n",
      "    no_recycling=[], impl=impl)\n",
      "  File \"/Users/aidasaglinskas/opt/anaconda3/envs/py3/lib/python3.7/site-packages/theano/gof/op.py\", line 955, in make_thunk\n",
      "    no_recycling)\n",
      "  File \"/Users/aidasaglinskas/opt/anaconda3/envs/py3/lib/python3.7/site-packages/theano/gof/op.py\", line 858, in make_c_thunk\n",
      "    output_storage=node_output_storage)\n",
      "  File \"/Users/aidasaglinskas/opt/anaconda3/envs/py3/lib/python3.7/site-packages/theano/gof/cc.py\", line 1217, in make_thunk\n",
      "    keep_lock=keep_lock)\n",
      "  File \"/Users/aidasaglinskas/opt/anaconda3/envs/py3/lib/python3.7/site-packages/theano/gof/cc.py\", line 1157, in __compile__\n",
      "    keep_lock=keep_lock)\n",
      "  File \"/Users/aidasaglinskas/opt/anaconda3/envs/py3/lib/python3.7/site-packages/theano/gof/cc.py\", line 1624, in cthunk_factory\n",
      "    key=key, lnk=self, keep_lock=keep_lock)\n",
      "  File \"/Users/aidasaglinskas/opt/anaconda3/envs/py3/lib/python3.7/site-packages/theano/gof/cmodule.py\", line 1189, in module_from_key\n",
      "    module = lnk.compile_cmodule(location)\n",
      "  File \"/Users/aidasaglinskas/opt/anaconda3/envs/py3/lib/python3.7/site-packages/theano/gof/cc.py\", line 1527, in compile_cmodule\n",
      "    preargs=preargs)\n",
      "  File \"/Users/aidasaglinskas/opt/anaconda3/envs/py3/lib/python3.7/site-packages/theano/gof/cmodule.py\", line 2411, in compile_str\n",
      "    (status, compile_stderr.replace('\\n', '. ')))\n",
      "Exception: (\"Compilation failed (return status=1): /Users/aidasaglinskas/.theano/compiledir_Darwin-19.4.0-x86_64-i386-64bit-i386-3.7.7-64/tmpfc2_x2vq/mod.cpp:360:27: error: non-constant-expression cannot be narrowed from type 'npy_intp' (aka 'long') to 'int' in initializer list [-Wc++11-narrowing].     int init_totals[2] = {V1_n0, V1_n1};.                           ^~~~~. /Users/aidasaglinskas/.theano/compiledir_Darwin-19.4.0-x86_64-i386-64bit-i386-3.7.7-64/tmpfc2_x2vq/mod.cpp:360:27: note: insert an explicit cast to silence this issue.     int init_totals[2] = {V1_n0, V1_n1};.                           ^~~~~.                           static_cast<int>( ). /Users/aidasaglinskas/.theano/compiledir_Darwin-19.4.0-x86_64-i386-64bit-i386-3.7.7-64/tmpfc2_x2vq/mod.cpp:360:34: error: non-constant-expression cannot be narrowed from type 'npy_intp' (aka 'long') to 'int' in initializer list [-Wc++11-narrowing].     int init_totals[2] = {V1_n0, V1_n1};.                                  ^~~~~. /Users/aidasaglinskas/.theano/compiledir_Darwin-19.4.0-x86_64-i386-64bit-i386-3.7.7-64/tmpfc2_x2vq/mod.cpp:360:34: note: insert an explicit cast to silence this issue.     int init_totals[2] = {V1_n0, V1_n1};.                                  ^~~~~.                                  static_cast<int>( ). /Users/aidasaglinskas/.theano/compiledir_Darwin-19.4.0-x86_64-i386-64bit-i386-3.7.7-64/tmpfc2_x2vq/mod.cpp:373:1: error: non-constant-expression cannot be narrowed from type 'ssize_t' (aka 'long') to 'int' in initializer list [-Wc++11-narrowing]. V1_stride0, V1_stride1. ^~~~~~~~~~. /Users/aidasaglinskas/.theano/compiledir_Darwin-19.4.0-x86_64-i386-64bit-i386-3.7.7-64/tmpfc2_x2vq/mod.cpp:373:1: note: insert an explicit cast to silence this issue. V1_stride0, V1_stride1. ^~~~~~~~~~. static_cast<int>( ). /Users/aidasaglinskas/.theano/compiledir_Darwin-19.4.0-x86_64-i386-64bit-i386-3.7.7-64/tmpfc2_x2vq/mod.cpp:373:13: error: non-constant-expression cannot be narrowed from type 'ssize_t' (aka 'long') to 'int' in initializer list [-Wc++11-narrowing]. V1_stride0, V1_stride1.             ^~~~~~~~~~. /Users/aidasaglinskas/.theano/compiledir_Darwin-19.4.0-x86_64-i386-64bit-i386-3.7.7-64/tmpfc2_x2vq/mod.cpp:373:13: note: insert an explicit cast to silence this issue. V1_stride0, V1_stride1.             ^~~~~~~~~~.             static_cast<int>( ). 4 errors generated.. \", '[Elemwise{Cast{float64}}(TensorConstant{(1, 1) of 0.5})]')\n",
      "\n"
     ]
    },
    {
     "name": "stdout",
     "output_type": "stream",
     "text": [
      "\n",
      "You can find the C code in this temporary file: /var/folders/m7/h5wbg21x40sfshpzz979230c0000gn/T/theano_compilation_error_x6jbssou\n"
     ]
    },
    {
     "name": "stderr",
     "output_type": "stream",
     "text": [
      "ERROR (theano.gof.opt): Optimization failure due to: constant_folding\n",
      "ERROR (theano.gof.opt): node: Elemwise{Cast{float64}}(TensorConstant{(1, 1, 1, .. 1) of 0.5})\n",
      "ERROR (theano.gof.opt): TRACEBACK:\n",
      "ERROR (theano.gof.opt): Traceback (most recent call last):\n",
      "  File \"/Users/aidasaglinskas/opt/anaconda3/envs/py3/lib/python3.7/site-packages/theano/gof/opt.py\", line 2034, in process_node\n",
      "    replacements = lopt.transform(node)\n",
      "  File \"/Users/aidasaglinskas/opt/anaconda3/envs/py3/lib/python3.7/site-packages/theano/tensor/opt.py\", line 6516, in constant_folding\n",
      "    no_recycling=[], impl=impl)\n",
      "  File \"/Users/aidasaglinskas/opt/anaconda3/envs/py3/lib/python3.7/site-packages/theano/gof/op.py\", line 955, in make_thunk\n",
      "    no_recycling)\n",
      "  File \"/Users/aidasaglinskas/opt/anaconda3/envs/py3/lib/python3.7/site-packages/theano/gof/op.py\", line 858, in make_c_thunk\n",
      "    output_storage=node_output_storage)\n",
      "  File \"/Users/aidasaglinskas/opt/anaconda3/envs/py3/lib/python3.7/site-packages/theano/gof/cc.py\", line 1217, in make_thunk\n",
      "    keep_lock=keep_lock)\n",
      "  File \"/Users/aidasaglinskas/opt/anaconda3/envs/py3/lib/python3.7/site-packages/theano/gof/cc.py\", line 1157, in __compile__\n",
      "    keep_lock=keep_lock)\n",
      "  File \"/Users/aidasaglinskas/opt/anaconda3/envs/py3/lib/python3.7/site-packages/theano/gof/cc.py\", line 1624, in cthunk_factory\n",
      "    key=key, lnk=self, keep_lock=keep_lock)\n",
      "  File \"/Users/aidasaglinskas/opt/anaconda3/envs/py3/lib/python3.7/site-packages/theano/gof/cmodule.py\", line 1189, in module_from_key\n",
      "    module = lnk.compile_cmodule(location)\n",
      "  File \"/Users/aidasaglinskas/opt/anaconda3/envs/py3/lib/python3.7/site-packages/theano/gof/cc.py\", line 1527, in compile_cmodule\n",
      "    preargs=preargs)\n",
      "  File \"/Users/aidasaglinskas/opt/anaconda3/envs/py3/lib/python3.7/site-packages/theano/gof/cmodule.py\", line 2411, in compile_str\n",
      "    (status, compile_stderr.replace('\\n', '. ')))\n",
      "Exception: (\"Compilation failed (return status=1): /Users/aidasaglinskas/.theano/compiledir_Darwin-19.4.0-x86_64-i386-64bit-i386-3.7.7-64/tmptx0o_1s8/mod.cpp:414:27: error: non-constant-expression cannot be narrowed from type 'npy_intp' (aka 'long') to 'int' in initializer list [-Wc++11-narrowing].     int init_totals[5] = {V1_n0, V1_n1, V1_n2, V1_n3, V1_n4};.                           ^~~~~. /Users/aidasaglinskas/.theano/compiledir_Darwin-19.4.0-x86_64-i386-64bit-i386-3.7.7-64/tmptx0o_1s8/mod.cpp:414:27: note: insert an explicit cast to silence this issue.     int init_totals[5] = {V1_n0, V1_n1, V1_n2, V1_n3, V1_n4};.                           ^~~~~.                           static_cast<int>( ). /Users/aidasaglinskas/.theano/compiledir_Darwin-19.4.0-x86_64-i386-64bit-i386-3.7.7-64/tmptx0o_1s8/mod.cpp:414:34: error: non-constant-expression cannot be narrowed from type 'npy_intp' (aka 'long') to 'int' in initializer list [-Wc++11-narrowing].     int init_totals[5] = {V1_n0, V1_n1, V1_n2, V1_n3, V1_n4};.                                  ^~~~~. /Users/aidasaglinskas/.theano/compiledir_Darwin-19.4.0-x86_64-i386-64bit-i386-3.7.7-64/tmptx0o_1s8/mod.cpp:414:34: note: insert an explicit cast to silence this issue.     int init_totals[5] = {V1_n0, V1_n1, V1_n2, V1_n3, V1_n4};.                                  ^~~~~.                                  static_cast<int>( ). /Users/aidasaglinskas/.theano/compiledir_Darwin-19.4.0-x86_64-i386-64bit-i386-3.7.7-64/tmptx0o_1s8/mod.cpp:414:41: error: non-constant-expression cannot be narrowed from type 'npy_intp' (aka 'long') to 'int' in initializer list [-Wc++11-narrowing].     int init_totals[5] = {V1_n0, V1_n1, V1_n2, V1_n3, V1_n4};.                                         ^~~~~. /Users/aidasaglinskas/.theano/compiledir_Darwin-19.4.0-x86_64-i386-64bit-i386-3.7.7-64/tmptx0o_1s8/mod.cpp:414:41: note: insert an explicit cast to silence this issue.     int init_totals[5] = {V1_n0, V1_n1, V1_n2, V1_n3, V1_n4};.                                         ^~~~~.                                         static_cast<int>( ). /Users/aidasaglinskas/.theano/compiledir_Darwin-19.4.0-x86_64-i386-64bit-i386-3.7.7-64/tmptx0o_1s8/mod.cpp:414:48: error: non-constant-expression cannot be narrowed from type 'npy_intp' (aka 'long') to 'int' in initializer list [-Wc++11-narrowing].     int init_totals[5] = {V1_n0, V1_n1, V1_n2, V1_n3, V1_n4};.                                                ^~~~~. /Users/aidasaglinskas/.theano/compiledir_Darwin-19.4.0-x86_64-i386-64bit-i386-3.7.7-64/tmptx0o_1s8/mod.cpp:414:48: note: insert an explicit cast to silence this issue.     int init_totals[5] = {V1_n0, V1_n1, V1_n2, V1_n3, V1_n4};.                                                ^~~~~.                                                static_cast<int>( ). /Users/aidasaglinskas/.theano/compiledir_Darwin-19.4.0-x86_64-i386-64bit-i386-3.7.7-64/tmptx0o_1s8/mod.cpp:414:55: error: non-constant-expression cannot be narrowed from type 'npy_intp' (aka 'long') to 'int' in initializer list [-Wc++11-narrowing].     int init_totals[5] = {V1_n0, V1_n1, V1_n2, V1_n3, V1_n4};.                                                       ^~~~~. /Users/aidasaglinskas/.theano/compiledir_Darwin-19.4.0-x86_64-i386-64bit-i386-3.7.7-64/tmptx0o_1s8/mod.cpp:414:55: note: insert an explicit cast to silence this issue.     int init_totals[5] = {V1_n0, V1_n1, V1_n2, V1_n3, V1_n4};.                                                       ^~~~~.                                                       static_cast<int>( ). /Users/aidasaglinskas/.theano/compiledir_Darwin-19.4.0-x86_64-i386-64bit-i386-3.7.7-64/tmptx0o_1s8/mod.cpp:436:1: error: non-constant-expression cannot be narrowed from type 'ssize_t' (aka 'long') to 'int' in initializer list [-Wc++11-narrowing]. V1_stride0, V1_stride1, V1_stride2, V1_stride3, V1_stride4. ^~~~~~~~~~. /Users/aidasaglinskas/.theano/compiledir_Darwin-19.4.0-x86_64-i386-64bit-i386-3.7.7-64/tmptx0o_1s8/mod.cpp:436:1: note: insert an explicit cast to silence this issue. V1_stride0, V1_stride1, V1_stride2, V1_stride3, V1_stride4. ^~~~~~~~~~. static_cast<int>( ). /Users/aidasaglinskas/.theano/compiledir_Darwin-19.4.0-x86_64-i386-64bit-i386-3.7.7-64/tmptx0o_1s8/mod.cpp:436:13: error: non-constant-expression cannot be narrowed from type 'ssize_t' (aka 'long') to 'int' in initializer list [-Wc++11-narrowing]. V1_stride0, V1_stride1, V1_stride2, V1_stride3, V1_stride4.             ^~~~~~~~~~. /Users/aidasaglinskas/.theano/compiledir_Darwin-19.4.0-x86_64-i386-64bit-i386-3.7.7-64/tmptx0o_1s8/mod.cpp:436:13: note: insert an explicit cast to silence this issue. V1_stride0, V1_stride1, V1_stride2, V1_stride3, V1_stride4.             ^~~~~~~~~~.             static_cast<int>( ). /Users/aidasaglinskas/.theano/compiledir_Darwin-19.4.0-x86_64-i386-64bit-i386-3.7.7-64/tmptx0o_1s8/mod.cpp:436:25: error: non-constant-expression cannot be narrowed from type 'ssize_t' (aka 'long') to 'int' in initializer list [-Wc++11-narrowing]. V1_stride0, V1_stride1, V1_stride2, V1_stride3, V1_stride4.                         ^~~~~~~~~~. /Users/aidasaglinskas/.theano/compiledir_Darwin-19.4.0-x86_64-i386-64bit-i386-3.7.7-64/tmptx0o_1s8/mod.cpp:436:25: note: insert an explicit cast to silence this issue. V1_stride0, V1_stride1, V1_stride2, V1_stride3, V1_stride4.                         ^~~~~~~~~~.                         static_cast<int>( ). /Users/aidasaglinskas/.theano/compiledir_Darwin-19.4.0-x86_64-i386-64bit-i386-3.7.7-64/tmptx0o_1s8/mod.cpp:436:37: error: non-constant-expression cannot be narrowed from type 'ssize_t' (aka 'long') to 'int' in initializer list [-Wc++11-narrowing]. V1_stride0, V1_stride1, V1_stride2, V1_stride3, V1_stride4.                                     ^~~~~~~~~~. /Users/aidasaglinskas/.theano/compiledir_Darwin-19.4.0-x86_64-i386-64bit-i386-3.7.7-64/tmptx0o_1s8/mod.cpp:436:37: note: insert an explicit cast to silence this issue. V1_stride0, V1_stride1, V1_stride2, V1_stride3, V1_stride4.                                     ^~~~~~~~~~.                                     static_cast<int>( ). /Users/aidasaglinskas/.theano/compiledir_Darwin-19.4.0-x86_64-i386-64bit-i386-3.7.7-64/tmptx0o_1s8/mod.cpp:436:49: error: non-constant-expression cannot be narrowed from type 'ssize_t' (aka 'long') to 'int' in initializer list [-Wc++11-narrowing]. V1_stride0, V1_stride1, V1_stride2, V1_stride3, V1_stride4.                                                 ^~~~~~~~~~. /Users/aidasaglinskas/.theano/compiledir_Darwin-19.4.0-x86_64-i386-64bit-i386-3.7.7-64/tmptx0o_1s8/mod.cpp:436:49: note: insert an explicit cast to silence this issue. V1_stride0, V1_stride1, V1_stride2, V1_stride3, V1_stride4.                                                 ^~~~~~~~~~.                                                 static_cast<int>( ). 10 errors generated.. \", '[Elemwise{Cast{float64}}(TensorConstant{(1, 1, 1, .. 1) of 0.5})]')\n",
      "\n"
     ]
    },
    {
     "name": "stdout",
     "output_type": "stream",
     "text": [
      "\n",
      "You can find the C code in this temporary file: /var/folders/m7/h5wbg21x40sfshpzz979230c0000gn/T/theano_compilation_error_6y48_n7e\n"
     ]
    },
    {
     "name": "stderr",
     "output_type": "stream",
     "text": [
      "ERROR (theano.gof.opt): Optimization failure due to: constant_folding\n",
      "ERROR (theano.gof.opt): node: Elemwise{Cast{float64}}(TensorConstant{(1, 1) of 0.5})\n",
      "ERROR (theano.gof.opt): TRACEBACK:\n",
      "ERROR (theano.gof.opt): Traceback (most recent call last):\n",
      "  File \"/Users/aidasaglinskas/opt/anaconda3/envs/py3/lib/python3.7/site-packages/theano/gof/opt.py\", line 2034, in process_node\n",
      "    replacements = lopt.transform(node)\n",
      "  File \"/Users/aidasaglinskas/opt/anaconda3/envs/py3/lib/python3.7/site-packages/theano/tensor/opt.py\", line 6516, in constant_folding\n",
      "    no_recycling=[], impl=impl)\n",
      "  File \"/Users/aidasaglinskas/opt/anaconda3/envs/py3/lib/python3.7/site-packages/theano/gof/op.py\", line 955, in make_thunk\n",
      "    no_recycling)\n",
      "  File \"/Users/aidasaglinskas/opt/anaconda3/envs/py3/lib/python3.7/site-packages/theano/gof/op.py\", line 858, in make_c_thunk\n",
      "    output_storage=node_output_storage)\n",
      "  File \"/Users/aidasaglinskas/opt/anaconda3/envs/py3/lib/python3.7/site-packages/theano/gof/cc.py\", line 1217, in make_thunk\n",
      "    keep_lock=keep_lock)\n",
      "  File \"/Users/aidasaglinskas/opt/anaconda3/envs/py3/lib/python3.7/site-packages/theano/gof/cc.py\", line 1157, in __compile__\n",
      "    keep_lock=keep_lock)\n",
      "  File \"/Users/aidasaglinskas/opt/anaconda3/envs/py3/lib/python3.7/site-packages/theano/gof/cc.py\", line 1624, in cthunk_factory\n",
      "    key=key, lnk=self, keep_lock=keep_lock)\n",
      "  File \"/Users/aidasaglinskas/opt/anaconda3/envs/py3/lib/python3.7/site-packages/theano/gof/cmodule.py\", line 1189, in module_from_key\n",
      "    module = lnk.compile_cmodule(location)\n",
      "  File \"/Users/aidasaglinskas/opt/anaconda3/envs/py3/lib/python3.7/site-packages/theano/gof/cc.py\", line 1527, in compile_cmodule\n",
      "    preargs=preargs)\n",
      "  File \"/Users/aidasaglinskas/opt/anaconda3/envs/py3/lib/python3.7/site-packages/theano/gof/cmodule.py\", line 2411, in compile_str\n",
      "    (status, compile_stderr.replace('\\n', '. ')))\n",
      "Exception: (\"Compilation failed (return status=1): /Users/aidasaglinskas/.theano/compiledir_Darwin-19.4.0-x86_64-i386-64bit-i386-3.7.7-64/tmpl5huiy_5/mod.cpp:360:27: error: non-constant-expression cannot be narrowed from type 'npy_intp' (aka 'long') to 'int' in initializer list [-Wc++11-narrowing].     int init_totals[2] = {V1_n0, V1_n1};.                           ^~~~~. /Users/aidasaglinskas/.theano/compiledir_Darwin-19.4.0-x86_64-i386-64bit-i386-3.7.7-64/tmpl5huiy_5/mod.cpp:360:27: note: insert an explicit cast to silence this issue.     int init_totals[2] = {V1_n0, V1_n1};.                           ^~~~~.                           static_cast<int>( ). /Users/aidasaglinskas/.theano/compiledir_Darwin-19.4.0-x86_64-i386-64bit-i386-3.7.7-64/tmpl5huiy_5/mod.cpp:360:34: error: non-constant-expression cannot be narrowed from type 'npy_intp' (aka 'long') to 'int' in initializer list [-Wc++11-narrowing].     int init_totals[2] = {V1_n0, V1_n1};.                                  ^~~~~. /Users/aidasaglinskas/.theano/compiledir_Darwin-19.4.0-x86_64-i386-64bit-i386-3.7.7-64/tmpl5huiy_5/mod.cpp:360:34: note: insert an explicit cast to silence this issue.     int init_totals[2] = {V1_n0, V1_n1};.                                  ^~~~~.                                  static_cast<int>( ). /Users/aidasaglinskas/.theano/compiledir_Darwin-19.4.0-x86_64-i386-64bit-i386-3.7.7-64/tmpl5huiy_5/mod.cpp:373:1: error: non-constant-expression cannot be narrowed from type 'ssize_t' (aka 'long') to 'int' in initializer list [-Wc++11-narrowing]. V1_stride0, V1_stride1. ^~~~~~~~~~. /Users/aidasaglinskas/.theano/compiledir_Darwin-19.4.0-x86_64-i386-64bit-i386-3.7.7-64/tmpl5huiy_5/mod.cpp:373:1: note: insert an explicit cast to silence this issue. V1_stride0, V1_stride1. ^~~~~~~~~~. static_cast<int>( ). /Users/aidasaglinskas/.theano/compiledir_Darwin-19.4.0-x86_64-i386-64bit-i386-3.7.7-64/tmpl5huiy_5/mod.cpp:373:13: error: non-constant-expression cannot be narrowed from type 'ssize_t' (aka 'long') to 'int' in initializer list [-Wc++11-narrowing]. V1_stride0, V1_stride1.             ^~~~~~~~~~. /Users/aidasaglinskas/.theano/compiledir_Darwin-19.4.0-x86_64-i386-64bit-i386-3.7.7-64/tmpl5huiy_5/mod.cpp:373:13: note: insert an explicit cast to silence this issue. V1_stride0, V1_stride1.             ^~~~~~~~~~.             static_cast<int>( ). 4 errors generated.. \", '[Elemwise{Cast{float64}}(TensorConstant{(1, 1) of 0.5})]')\n",
      "\n"
     ]
    },
    {
     "name": "stdout",
     "output_type": "stream",
     "text": [
      "\n",
      "You can find the C code in this temporary file: /var/folders/m7/h5wbg21x40sfshpzz979230c0000gn/T/theano_compilation_error_hwldpiyb\n"
     ]
    },
    {
     "name": "stderr",
     "output_type": "stream",
     "text": [
      "ERROR (theano.gof.opt): Optimization failure due to: constant_folding\n",
      "ERROR (theano.gof.opt): node: Elemwise{Cast{float64}}(TensorConstant{(1, 1, 1, .. 1) of 0.5})\n",
      "ERROR (theano.gof.opt): TRACEBACK:\n",
      "ERROR (theano.gof.opt): Traceback (most recent call last):\n",
      "  File \"/Users/aidasaglinskas/opt/anaconda3/envs/py3/lib/python3.7/site-packages/theano/gof/opt.py\", line 2034, in process_node\n",
      "    replacements = lopt.transform(node)\n",
      "  File \"/Users/aidasaglinskas/opt/anaconda3/envs/py3/lib/python3.7/site-packages/theano/tensor/opt.py\", line 6516, in constant_folding\n",
      "    no_recycling=[], impl=impl)\n",
      "  File \"/Users/aidasaglinskas/opt/anaconda3/envs/py3/lib/python3.7/site-packages/theano/gof/op.py\", line 955, in make_thunk\n",
      "    no_recycling)\n",
      "  File \"/Users/aidasaglinskas/opt/anaconda3/envs/py3/lib/python3.7/site-packages/theano/gof/op.py\", line 858, in make_c_thunk\n",
      "    output_storage=node_output_storage)\n",
      "  File \"/Users/aidasaglinskas/opt/anaconda3/envs/py3/lib/python3.7/site-packages/theano/gof/cc.py\", line 1217, in make_thunk\n",
      "    keep_lock=keep_lock)\n",
      "  File \"/Users/aidasaglinskas/opt/anaconda3/envs/py3/lib/python3.7/site-packages/theano/gof/cc.py\", line 1157, in __compile__\n",
      "    keep_lock=keep_lock)\n",
      "  File \"/Users/aidasaglinskas/opt/anaconda3/envs/py3/lib/python3.7/site-packages/theano/gof/cc.py\", line 1624, in cthunk_factory\n",
      "    key=key, lnk=self, keep_lock=keep_lock)\n",
      "  File \"/Users/aidasaglinskas/opt/anaconda3/envs/py3/lib/python3.7/site-packages/theano/gof/cmodule.py\", line 1189, in module_from_key\n",
      "    module = lnk.compile_cmodule(location)\n",
      "  File \"/Users/aidasaglinskas/opt/anaconda3/envs/py3/lib/python3.7/site-packages/theano/gof/cc.py\", line 1527, in compile_cmodule\n",
      "    preargs=preargs)\n",
      "  File \"/Users/aidasaglinskas/opt/anaconda3/envs/py3/lib/python3.7/site-packages/theano/gof/cmodule.py\", line 2411, in compile_str\n",
      "    (status, compile_stderr.replace('\\n', '. ')))\n",
      "Exception: (\"Compilation failed (return status=1): /Users/aidasaglinskas/.theano/compiledir_Darwin-19.4.0-x86_64-i386-64bit-i386-3.7.7-64/tmp2tryjt4i/mod.cpp:414:27: error: non-constant-expression cannot be narrowed from type 'npy_intp' (aka 'long') to 'int' in initializer list [-Wc++11-narrowing].     int init_totals[5] = {V1_n0, V1_n1, V1_n2, V1_n3, V1_n4};.                           ^~~~~. /Users/aidasaglinskas/.theano/compiledir_Darwin-19.4.0-x86_64-i386-64bit-i386-3.7.7-64/tmp2tryjt4i/mod.cpp:414:27: note: insert an explicit cast to silence this issue.     int init_totals[5] = {V1_n0, V1_n1, V1_n2, V1_n3, V1_n4};.                           ^~~~~.                           static_cast<int>( ). /Users/aidasaglinskas/.theano/compiledir_Darwin-19.4.0-x86_64-i386-64bit-i386-3.7.7-64/tmp2tryjt4i/mod.cpp:414:34: error: non-constant-expression cannot be narrowed from type 'npy_intp' (aka 'long') to 'int' in initializer list [-Wc++11-narrowing].     int init_totals[5] = {V1_n0, V1_n1, V1_n2, V1_n3, V1_n4};.                                  ^~~~~. /Users/aidasaglinskas/.theano/compiledir_Darwin-19.4.0-x86_64-i386-64bit-i386-3.7.7-64/tmp2tryjt4i/mod.cpp:414:34: note: insert an explicit cast to silence this issue.     int init_totals[5] = {V1_n0, V1_n1, V1_n2, V1_n3, V1_n4};.                                  ^~~~~.                                  static_cast<int>( ). /Users/aidasaglinskas/.theano/compiledir_Darwin-19.4.0-x86_64-i386-64bit-i386-3.7.7-64/tmp2tryjt4i/mod.cpp:414:41: error: non-constant-expression cannot be narrowed from type 'npy_intp' (aka 'long') to 'int' in initializer list [-Wc++11-narrowing].     int init_totals[5] = {V1_n0, V1_n1, V1_n2, V1_n3, V1_n4};.                                         ^~~~~. /Users/aidasaglinskas/.theano/compiledir_Darwin-19.4.0-x86_64-i386-64bit-i386-3.7.7-64/tmp2tryjt4i/mod.cpp:414:41: note: insert an explicit cast to silence this issue.     int init_totals[5] = {V1_n0, V1_n1, V1_n2, V1_n3, V1_n4};.                                         ^~~~~.                                         static_cast<int>( ). /Users/aidasaglinskas/.theano/compiledir_Darwin-19.4.0-x86_64-i386-64bit-i386-3.7.7-64/tmp2tryjt4i/mod.cpp:414:48: error: non-constant-expression cannot be narrowed from type 'npy_intp' (aka 'long') to 'int' in initializer list [-Wc++11-narrowing].     int init_totals[5] = {V1_n0, V1_n1, V1_n2, V1_n3, V1_n4};.                                                ^~~~~. /Users/aidasaglinskas/.theano/compiledir_Darwin-19.4.0-x86_64-i386-64bit-i386-3.7.7-64/tmp2tryjt4i/mod.cpp:414:48: note: insert an explicit cast to silence this issue.     int init_totals[5] = {V1_n0, V1_n1, V1_n2, V1_n3, V1_n4};.                                                ^~~~~.                                                static_cast<int>( ). /Users/aidasaglinskas/.theano/compiledir_Darwin-19.4.0-x86_64-i386-64bit-i386-3.7.7-64/tmp2tryjt4i/mod.cpp:414:55: error: non-constant-expression cannot be narrowed from type 'npy_intp' (aka 'long') to 'int' in initializer list [-Wc++11-narrowing].     int init_totals[5] = {V1_n0, V1_n1, V1_n2, V1_n3, V1_n4};.                                                       ^~~~~. /Users/aidasaglinskas/.theano/compiledir_Darwin-19.4.0-x86_64-i386-64bit-i386-3.7.7-64/tmp2tryjt4i/mod.cpp:414:55: note: insert an explicit cast to silence this issue.     int init_totals[5] = {V1_n0, V1_n1, V1_n2, V1_n3, V1_n4};.                                                       ^~~~~.                                                       static_cast<int>( ). /Users/aidasaglinskas/.theano/compiledir_Darwin-19.4.0-x86_64-i386-64bit-i386-3.7.7-64/tmp2tryjt4i/mod.cpp:436:1: error: non-constant-expression cannot be narrowed from type 'ssize_t' (aka 'long') to 'int' in initializer list [-Wc++11-narrowing]. V1_stride0, V1_stride1, V1_stride2, V1_stride3, V1_stride4. ^~~~~~~~~~. /Users/aidasaglinskas/.theano/compiledir_Darwin-19.4.0-x86_64-i386-64bit-i386-3.7.7-64/tmp2tryjt4i/mod.cpp:436:1: note: insert an explicit cast to silence this issue. V1_stride0, V1_stride1, V1_stride2, V1_stride3, V1_stride4. ^~~~~~~~~~. static_cast<int>( ). /Users/aidasaglinskas/.theano/compiledir_Darwin-19.4.0-x86_64-i386-64bit-i386-3.7.7-64/tmp2tryjt4i/mod.cpp:436:13: error: non-constant-expression cannot be narrowed from type 'ssize_t' (aka 'long') to 'int' in initializer list [-Wc++11-narrowing]. V1_stride0, V1_stride1, V1_stride2, V1_stride3, V1_stride4.             ^~~~~~~~~~. /Users/aidasaglinskas/.theano/compiledir_Darwin-19.4.0-x86_64-i386-64bit-i386-3.7.7-64/tmp2tryjt4i/mod.cpp:436:13: note: insert an explicit cast to silence this issue. V1_stride0, V1_stride1, V1_stride2, V1_stride3, V1_stride4.             ^~~~~~~~~~.             static_cast<int>( ). /Users/aidasaglinskas/.theano/compiledir_Darwin-19.4.0-x86_64-i386-64bit-i386-3.7.7-64/tmp2tryjt4i/mod.cpp:436:25: error: non-constant-expression cannot be narrowed from type 'ssize_t' (aka 'long') to 'int' in initializer list [-Wc++11-narrowing]. V1_stride0, V1_stride1, V1_stride2, V1_stride3, V1_stride4.                         ^~~~~~~~~~. /Users/aidasaglinskas/.theano/compiledir_Darwin-19.4.0-x86_64-i386-64bit-i386-3.7.7-64/tmp2tryjt4i/mod.cpp:436:25: note: insert an explicit cast to silence this issue. V1_stride0, V1_stride1, V1_stride2, V1_stride3, V1_stride4.                         ^~~~~~~~~~.                         static_cast<int>( ). /Users/aidasaglinskas/.theano/compiledir_Darwin-19.4.0-x86_64-i386-64bit-i386-3.7.7-64/tmp2tryjt4i/mod.cpp:436:37: error: non-constant-expression cannot be narrowed from type 'ssize_t' (aka 'long') to 'int' in initializer list [-Wc++11-narrowing]. V1_stride0, V1_stride1, V1_stride2, V1_stride3, V1_stride4.                                     ^~~~~~~~~~. /Users/aidasaglinskas/.theano/compiledir_Darwin-19.4.0-x86_64-i386-64bit-i386-3.7.7-64/tmp2tryjt4i/mod.cpp:436:37: note: insert an explicit cast to silence this issue. V1_stride0, V1_stride1, V1_stride2, V1_stride3, V1_stride4.                                     ^~~~~~~~~~.                                     static_cast<int>( ). /Users/aidasaglinskas/.theano/compiledir_Darwin-19.4.0-x86_64-i386-64bit-i386-3.7.7-64/tmp2tryjt4i/mod.cpp:436:49: error: non-constant-expression cannot be narrowed from type 'ssize_t' (aka 'long') to 'int' in initializer list [-Wc++11-narrowing]. V1_stride0, V1_stride1, V1_stride2, V1_stride3, V1_stride4.                                                 ^~~~~~~~~~. /Users/aidasaglinskas/.theano/compiledir_Darwin-19.4.0-x86_64-i386-64bit-i386-3.7.7-64/tmp2tryjt4i/mod.cpp:436:49: note: insert an explicit cast to silence this issue. V1_stride0, V1_stride1, V1_stride2, V1_stride3, V1_stride4.                                                 ^~~~~~~~~~.                                                 static_cast<int>( ). 10 errors generated.. \", '[Elemwise{Cast{float64}}(TensorConstant{(1, 1, 1, .. 1) of 0.5})]')\n",
      "\n"
     ]
    },
    {
     "name": "stdout",
     "output_type": "stream",
     "text": [
      "\n",
      "You can find the C code in this temporary file: /var/folders/m7/h5wbg21x40sfshpzz979230c0000gn/T/theano_compilation_error_pj_7h13y\n"
     ]
    },
    {
     "name": "stderr",
     "output_type": "stream",
     "text": [
      "ERROR (theano.gof.opt): Optimization failure due to: constant_folding\n",
      "ERROR (theano.gof.opt): node: Elemwise{Cast{float64}}(TensorConstant{(1, 1) of 0.5})\n",
      "ERROR (theano.gof.opt): TRACEBACK:\n",
      "ERROR (theano.gof.opt): Traceback (most recent call last):\n",
      "  File \"/Users/aidasaglinskas/opt/anaconda3/envs/py3/lib/python3.7/site-packages/theano/gof/opt.py\", line 2034, in process_node\n",
      "    replacements = lopt.transform(node)\n",
      "  File \"/Users/aidasaglinskas/opt/anaconda3/envs/py3/lib/python3.7/site-packages/theano/tensor/opt.py\", line 6516, in constant_folding\n",
      "    no_recycling=[], impl=impl)\n",
      "  File \"/Users/aidasaglinskas/opt/anaconda3/envs/py3/lib/python3.7/site-packages/theano/gof/op.py\", line 955, in make_thunk\n",
      "    no_recycling)\n",
      "  File \"/Users/aidasaglinskas/opt/anaconda3/envs/py3/lib/python3.7/site-packages/theano/gof/op.py\", line 858, in make_c_thunk\n",
      "    output_storage=node_output_storage)\n",
      "  File \"/Users/aidasaglinskas/opt/anaconda3/envs/py3/lib/python3.7/site-packages/theano/gof/cc.py\", line 1217, in make_thunk\n",
      "    keep_lock=keep_lock)\n",
      "  File \"/Users/aidasaglinskas/opt/anaconda3/envs/py3/lib/python3.7/site-packages/theano/gof/cc.py\", line 1157, in __compile__\n",
      "    keep_lock=keep_lock)\n",
      "  File \"/Users/aidasaglinskas/opt/anaconda3/envs/py3/lib/python3.7/site-packages/theano/gof/cc.py\", line 1624, in cthunk_factory\n",
      "    key=key, lnk=self, keep_lock=keep_lock)\n",
      "  File \"/Users/aidasaglinskas/opt/anaconda3/envs/py3/lib/python3.7/site-packages/theano/gof/cmodule.py\", line 1189, in module_from_key\n",
      "    module = lnk.compile_cmodule(location)\n",
      "  File \"/Users/aidasaglinskas/opt/anaconda3/envs/py3/lib/python3.7/site-packages/theano/gof/cc.py\", line 1527, in compile_cmodule\n",
      "    preargs=preargs)\n",
      "  File \"/Users/aidasaglinskas/opt/anaconda3/envs/py3/lib/python3.7/site-packages/theano/gof/cmodule.py\", line 2411, in compile_str\n",
      "    (status, compile_stderr.replace('\\n', '. ')))\n",
      "Exception: (\"Compilation failed (return status=1): /Users/aidasaglinskas/.theano/compiledir_Darwin-19.4.0-x86_64-i386-64bit-i386-3.7.7-64/tmpt0ln1vxg/mod.cpp:360:27: error: non-constant-expression cannot be narrowed from type 'npy_intp' (aka 'long') to 'int' in initializer list [-Wc++11-narrowing].     int init_totals[2] = {V1_n0, V1_n1};.                           ^~~~~. /Users/aidasaglinskas/.theano/compiledir_Darwin-19.4.0-x86_64-i386-64bit-i386-3.7.7-64/tmpt0ln1vxg/mod.cpp:360:27: note: insert an explicit cast to silence this issue.     int init_totals[2] = {V1_n0, V1_n1};.                           ^~~~~.                           static_cast<int>( ). /Users/aidasaglinskas/.theano/compiledir_Darwin-19.4.0-x86_64-i386-64bit-i386-3.7.7-64/tmpt0ln1vxg/mod.cpp:360:34: error: non-constant-expression cannot be narrowed from type 'npy_intp' (aka 'long') to 'int' in initializer list [-Wc++11-narrowing].     int init_totals[2] = {V1_n0, V1_n1};.                                  ^~~~~. /Users/aidasaglinskas/.theano/compiledir_Darwin-19.4.0-x86_64-i386-64bit-i386-3.7.7-64/tmpt0ln1vxg/mod.cpp:360:34: note: insert an explicit cast to silence this issue.     int init_totals[2] = {V1_n0, V1_n1};.                                  ^~~~~.                                  static_cast<int>( ). /Users/aidasaglinskas/.theano/compiledir_Darwin-19.4.0-x86_64-i386-64bit-i386-3.7.7-64/tmpt0ln1vxg/mod.cpp:373:1: error: non-constant-expression cannot be narrowed from type 'ssize_t' (aka 'long') to 'int' in initializer list [-Wc++11-narrowing]. V1_stride0, V1_stride1. ^~~~~~~~~~. /Users/aidasaglinskas/.theano/compiledir_Darwin-19.4.0-x86_64-i386-64bit-i386-3.7.7-64/tmpt0ln1vxg/mod.cpp:373:1: note: insert an explicit cast to silence this issue. V1_stride0, V1_stride1. ^~~~~~~~~~. static_cast<int>( ). /Users/aidasaglinskas/.theano/compiledir_Darwin-19.4.0-x86_64-i386-64bit-i386-3.7.7-64/tmpt0ln1vxg/mod.cpp:373:13: error: non-constant-expression cannot be narrowed from type 'ssize_t' (aka 'long') to 'int' in initializer list [-Wc++11-narrowing]. V1_stride0, V1_stride1.             ^~~~~~~~~~. /Users/aidasaglinskas/.theano/compiledir_Darwin-19.4.0-x86_64-i386-64bit-i386-3.7.7-64/tmpt0ln1vxg/mod.cpp:373:13: note: insert an explicit cast to silence this issue. V1_stride0, V1_stride1.             ^~~~~~~~~~.             static_cast<int>( ). 4 errors generated.. \", '[Elemwise{Cast{float64}}(TensorConstant{(1, 1) of 0.5})]')\n",
      "\n"
     ]
    },
    {
     "name": "stdout",
     "output_type": "stream",
     "text": [
      "\n",
      "You can find the C code in this temporary file: /var/folders/m7/h5wbg21x40sfshpzz979230c0000gn/T/theano_compilation_error_rd318yx4\n",
      "\n",
      "You can find the C code in this temporary file: /var/folders/m7/h5wbg21x40sfshpzz979230c0000gn/T/theano_compilation_error_kut3v0y_\n"
     ]
    },
    {
     "ename": "Exception",
     "evalue": "('The following error happened while compiling the node', Elemwise{Cast{float64}}(TensorConstant{(1, 1, 1, .. 1) of 0.5}), '\\n', \"Compilation failed (return status=1): /Users/aidasaglinskas/.theano/compiledir_Darwin-19.4.0-x86_64-i386-64bit-i386-3.7.7-64/tmp8i9f_zwb/mod.cpp:414:27: error: non-constant-expression cannot be narrowed from type 'npy_intp' (aka 'long') to 'int' in initializer list [-Wc++11-narrowing].     int init_totals[5] = {V1_n0, V1_n1, V1_n2, V1_n3, V1_n4};.                           ^~~~~. /Users/aidasaglinskas/.theano/compiledir_Darwin-19.4.0-x86_64-i386-64bit-i386-3.7.7-64/tmp8i9f_zwb/mod.cpp:414:27: note: insert an explicit cast to silence this issue.     int init_totals[5] = {V1_n0, V1_n1, V1_n2, V1_n3, V1_n4};.                           ^~~~~.                           static_cast<int>( ). /Users/aidasaglinskas/.theano/compiledir_Darwin-19.4.0-x86_64-i386-64bit-i386-3.7.7-64/tmp8i9f_zwb/mod.cpp:414:34: error: non-constant-expression cannot be narrowed from type 'npy_intp' (aka 'long') to 'int' in initializer list [-Wc++11-narrowing].     int init_totals[5] = {V1_n0, V1_n1, V1_n2, V1_n3, V1_n4};.                                  ^~~~~. /Users/aidasaglinskas/.theano/compiledir_Darwin-19.4.0-x86_64-i386-64bit-i386-3.7.7-64/tmp8i9f_zwb/mod.cpp:414:34: note: insert an explicit cast to silence this issue.     int init_totals[5] = {V1_n0, V1_n1, V1_n2, V1_n3, V1_n4};.                                  ^~~~~.                                  static_cast<int>( ). /Users/aidasaglinskas/.theano/compiledir_Darwin-19.4.0-x86_64-i386-64bit-i386-3.7.7-64/tmp8i9f_zwb/mod.cpp:414:41: error: non-constant-expression cannot be narrowed from type 'npy_intp' (aka 'long') to 'int' in initializer list [-Wc++11-narrowing].     int init_totals[5] = {V1_n0, V1_n1, V1_n2, V1_n3, V1_n4};.                                         ^~~~~. /Users/aidasaglinskas/.theano/compiledir_Darwin-19.4.0-x86_64-i386-64bit-i386-3.7.7-64/tmp8i9f_zwb/mod.cpp:414:41: note: insert an explicit cast to silence this issue.     int init_totals[5] = {V1_n0, V1_n1, V1_n2, V1_n3, V1_n4};.                                         ^~~~~.                                         static_cast<int>( ). /Users/aidasaglinskas/.theano/compiledir_Darwin-19.4.0-x86_64-i386-64bit-i386-3.7.7-64/tmp8i9f_zwb/mod.cpp:414:48: error: non-constant-expression cannot be narrowed from type 'npy_intp' (aka 'long') to 'int' in initializer list [-Wc++11-narrowing].     int init_totals[5] = {V1_n0, V1_n1, V1_n2, V1_n3, V1_n4};.                                                ^~~~~. /Users/aidasaglinskas/.theano/compiledir_Darwin-19.4.0-x86_64-i386-64bit-i386-3.7.7-64/tmp8i9f_zwb/mod.cpp:414:48: note: insert an explicit cast to silence this issue.     int init_totals[5] = {V1_n0, V1_n1, V1_n2, V1_n3, V1_n4};.                                                ^~~~~.                                                static_cast<int>( ). /Users/aidasaglinskas/.theano/compiledir_Darwin-19.4.0-x86_64-i386-64bit-i386-3.7.7-64/tmp8i9f_zwb/mod.cpp:414:55: error: non-constant-expression cannot be narrowed from type 'npy_intp' (aka 'long') to 'int' in initializer list [-Wc++11-narrowing].     int init_totals[5] = {V1_n0, V1_n1, V1_n2, V1_n3, V1_n4};.                                                       ^~~~~. /Users/aidasaglinskas/.theano/compiledir_Darwin-19.4.0-x86_64-i386-64bit-i386-3.7.7-64/tmp8i9f_zwb/mod.cpp:414:55: note: insert an explicit cast to silence this issue.     int init_totals[5] = {V1_n0, V1_n1, V1_n2, V1_n3, V1_n4};.                                                       ^~~~~.                                                       static_cast<int>( ). /Users/aidasaglinskas/.theano/compiledir_Darwin-19.4.0-x86_64-i386-64bit-i386-3.7.7-64/tmp8i9f_zwb/mod.cpp:436:1: error: non-constant-expression cannot be narrowed from type 'ssize_t' (aka 'long') to 'int' in initializer list [-Wc++11-narrowing]. V1_stride0, V1_stride1, V1_stride2, V1_stride3, V1_stride4. ^~~~~~~~~~. /Users/aidasaglinskas/.theano/compiledir_Darwin-19.4.0-x86_64-i386-64bit-i386-3.7.7-64/tmp8i9f_zwb/mod.cpp:436:1: note: insert an explicit cast to silence this issue. V1_stride0, V1_stride1, V1_stride2, V1_stride3, V1_stride4. ^~~~~~~~~~. static_cast<int>( ). /Users/aidasaglinskas/.theano/compiledir_Darwin-19.4.0-x86_64-i386-64bit-i386-3.7.7-64/tmp8i9f_zwb/mod.cpp:436:13: error: non-constant-expression cannot be narrowed from type 'ssize_t' (aka 'long') to 'int' in initializer list [-Wc++11-narrowing]. V1_stride0, V1_stride1, V1_stride2, V1_stride3, V1_stride4.             ^~~~~~~~~~. /Users/aidasaglinskas/.theano/compiledir_Darwin-19.4.0-x86_64-i386-64bit-i386-3.7.7-64/tmp8i9f_zwb/mod.cpp:436:13: note: insert an explicit cast to silence this issue. V1_stride0, V1_stride1, V1_stride2, V1_stride3, V1_stride4.             ^~~~~~~~~~.             static_cast<int>( ). /Users/aidasaglinskas/.theano/compiledir_Darwin-19.4.0-x86_64-i386-64bit-i386-3.7.7-64/tmp8i9f_zwb/mod.cpp:436:25: error: non-constant-expression cannot be narrowed from type 'ssize_t' (aka 'long') to 'int' in initializer list [-Wc++11-narrowing]. V1_stride0, V1_stride1, V1_stride2, V1_stride3, V1_stride4.                         ^~~~~~~~~~. /Users/aidasaglinskas/.theano/compiledir_Darwin-19.4.0-x86_64-i386-64bit-i386-3.7.7-64/tmp8i9f_zwb/mod.cpp:436:25: note: insert an explicit cast to silence this issue. V1_stride0, V1_stride1, V1_stride2, V1_stride3, V1_stride4.                         ^~~~~~~~~~.                         static_cast<int>( ). /Users/aidasaglinskas/.theano/compiledir_Darwin-19.4.0-x86_64-i386-64bit-i386-3.7.7-64/tmp8i9f_zwb/mod.cpp:436:37: error: non-constant-expression cannot be narrowed from type 'ssize_t' (aka 'long') to 'int' in initializer list [-Wc++11-narrowing]. V1_stride0, V1_stride1, V1_stride2, V1_stride3, V1_stride4.                                     ^~~~~~~~~~. /Users/aidasaglinskas/.theano/compiledir_Darwin-19.4.0-x86_64-i386-64bit-i386-3.7.7-64/tmp8i9f_zwb/mod.cpp:436:37: note: insert an explicit cast to silence this issue. V1_stride0, V1_stride1, V1_stride2, V1_stride3, V1_stride4.                                     ^~~~~~~~~~.                                     static_cast<int>( ). /Users/aidasaglinskas/.theano/compiledir_Darwin-19.4.0-x86_64-i386-64bit-i386-3.7.7-64/tmp8i9f_zwb/mod.cpp:436:49: error: non-constant-expression cannot be narrowed from type 'ssize_t' (aka 'long') to 'int' in initializer list [-Wc++11-narrowing]. V1_stride0, V1_stride1, V1_stride2, V1_stride3, V1_stride4.                                                 ^~~~~~~~~~. /Users/aidasaglinskas/.theano/compiledir_Darwin-19.4.0-x86_64-i386-64bit-i386-3.7.7-64/tmp8i9f_zwb/mod.cpp:436:49: note: insert an explicit cast to silence this issue. V1_stride0, V1_stride1, V1_stride2, V1_stride3, V1_stride4.                                                 ^~~~~~~~~~.                                                 static_cast<int>( ). 10 errors generated.. \", '[Elemwise{Cast{float64}}(TensorConstant{(1, 1, 1, .. 1) of 0.5})]')",
     "output_type": "error",
     "traceback": [
      "\u001b[0;31m---------------------------------------------------------------------------\u001b[0m",
      "\u001b[0;31mException\u001b[0m                                 Traceback (most recent call last)",
      "\u001b[0;32m<ipython-input-60-1c29742a503c>\u001b[0m in \u001b[0;36m<module>\u001b[0;34m\u001b[0m\n\u001b[1;32m      1\u001b[0m \u001b[0mtrainData\u001b[0m \u001b[0;34m=\u001b[0m \u001b[0mdataArr\u001b[0m\u001b[0;34m[\u001b[0m\u001b[0;36m1\u001b[0m\u001b[0;34m:\u001b[0m\u001b[0;36m100\u001b[0m\u001b[0;34m,\u001b[0m\u001b[0;34m:\u001b[0m\u001b[0;34m,\u001b[0m\u001b[0;34m:\u001b[0m\u001b[0;34m,\u001b[0m\u001b[0;34m:\u001b[0m\u001b[0;34m]\u001b[0m\u001b[0;34m\u001b[0m\u001b[0;34m\u001b[0m\u001b[0m\n\u001b[1;32m      2\u001b[0m \u001b[0mtestData\u001b[0m \u001b[0;34m=\u001b[0m \u001b[0mdataArr\u001b[0m\u001b[0;34m[\u001b[0m\u001b[0;36m100\u001b[0m\u001b[0;34m:\u001b[0m\u001b[0;36m130\u001b[0m\u001b[0;34m,\u001b[0m\u001b[0;34m:\u001b[0m\u001b[0;34m,\u001b[0m\u001b[0;34m:\u001b[0m\u001b[0;34m,\u001b[0m\u001b[0;34m:\u001b[0m\u001b[0;34m]\u001b[0m\u001b[0;34m\u001b[0m\u001b[0;34m\u001b[0m\u001b[0m\n\u001b[0;32m----> 3\u001b[0;31m \u001b[0mtrain\u001b[0m\u001b[0;34m(\u001b[0m \u001b[0mtrainData\u001b[0m\u001b[0;34m,\u001b[0m \u001b[0mtestData\u001b[0m\u001b[0;34m,\u001b[0m \u001b[0mnz\u001b[0m\u001b[0;34m=\u001b[0m\u001b[0;36m200\u001b[0m\u001b[0;34m,\u001b[0m \u001b[0malpha\u001b[0m\u001b[0;34m=\u001b[0m\u001b[0;36m0.00005\u001b[0m\u001b[0;34m,\u001b[0m \u001b[0mbeta\u001b[0m\u001b[0;34m=\u001b[0m\u001b[0;36m0.5\u001b[0m\u001b[0;34m,\u001b[0m \u001b[0mbatchSize\u001b[0m\u001b[0;34m=\u001b[0m\u001b[0;36m4\u001b[0m\u001b[0;34m,\u001b[0m \u001b[0mepoch\u001b[0m\u001b[0;34m=\u001b[0m\u001b[0;36m500\u001b[0m\u001b[0;34m)\u001b[0m\u001b[0;34m\u001b[0m\u001b[0;34m\u001b[0m\u001b[0m\n\u001b[0m",
      "\u001b[0;32m<ipython-input-26-d334448a8b6a>\u001b[0m in \u001b[0;36mtrain\u001b[0;34m(trainData, testData, nz, alpha, beta, batchSize, epoch)\u001b[0m\n\u001b[1;32m      1\u001b[0m \u001b[0;32mdef\u001b[0m \u001b[0mtrain\u001b[0m\u001b[0;34m(\u001b[0m \u001b[0mtrainData\u001b[0m\u001b[0;34m,\u001b[0m \u001b[0mtestData\u001b[0m\u001b[0;34m,\u001b[0m \u001b[0mnz\u001b[0m\u001b[0;34m=\u001b[0m\u001b[0;36m200\u001b[0m\u001b[0;34m,\u001b[0m \u001b[0malpha\u001b[0m\u001b[0;34m=\u001b[0m\u001b[0;36m0.00005\u001b[0m\u001b[0;34m,\u001b[0m \u001b[0mbeta\u001b[0m\u001b[0;34m=\u001b[0m\u001b[0;36m0.5\u001b[0m\u001b[0;34m,\u001b[0m \u001b[0mbatchSize\u001b[0m\u001b[0;34m=\u001b[0m\u001b[0;36m4\u001b[0m\u001b[0;34m,\u001b[0m \u001b[0mepoch\u001b[0m\u001b[0;34m=\u001b[0m\u001b[0;36m500\u001b[0m\u001b[0;34m)\u001b[0m\u001b[0;34m:\u001b[0m\u001b[0;34m\u001b[0m\u001b[0;34m\u001b[0m\u001b[0m\n\u001b[1;32m      2\u001b[0m \u001b[0;34m\u001b[0m\u001b[0m\n\u001b[0;32m----> 3\u001b[0;31m     \u001b[0mtrain\u001b[0m\u001b[0;34m,\u001b[0m \u001b[0mtest\u001b[0m\u001b[0;34m,\u001b[0m \u001b[0mrec\u001b[0m\u001b[0;34m,\u001b[0m \u001b[0mE\u001b[0m\u001b[0;34m,\u001b[0m \u001b[0mD\u001b[0m \u001b[0;34m=\u001b[0m \u001b[0mprep_train\u001b[0m\u001b[0;34m(\u001b[0m\u001b[0mnz\u001b[0m\u001b[0;34m=\u001b[0m\u001b[0mnz\u001b[0m\u001b[0;34m,\u001b[0m \u001b[0malpha\u001b[0m\u001b[0;34m=\u001b[0m\u001b[0malpha\u001b[0m\u001b[0;34m)\u001b[0m\u001b[0;34m\u001b[0m\u001b[0;34m\u001b[0m\u001b[0m\n\u001b[0m\u001b[1;32m      4\u001b[0m \u001b[0;34m\u001b[0m\u001b[0m\n\u001b[1;32m      5\u001b[0m     \u001b[0mprint\u001b[0m \u001b[0;34m(\u001b[0m\u001b[0mnp\u001b[0m\u001b[0;34m.\u001b[0m\u001b[0mshape\u001b[0m\u001b[0;34m(\u001b[0m\u001b[0mtrainData\u001b[0m\u001b[0;34m)\u001b[0m \u001b[0;34m)\u001b[0m\u001b[0;34m\u001b[0m\u001b[0;34m\u001b[0m\u001b[0m\n",
      "\u001b[0;32m<ipython-input-59-6df7266c2e58>\u001b[0m in \u001b[0;36mprep_train\u001b[0;34m(alpha, beta, nz)\u001b[0m\n\u001b[1;32m     31\u001b[0m     \u001b[0mupdates\u001b[0m \u001b[0;34m=\u001b[0m \u001b[0madam\u001b[0m\u001b[0;34m(\u001b[0m\u001b[0mgrad\u001b[0m\u001b[0;34m,\u001b[0m\u001b[0mparams\u001b[0m\u001b[0;34m,\u001b[0m \u001b[0mlearning_rate\u001b[0m\u001b[0;34m=\u001b[0m\u001b[0malpha\u001b[0m \u001b[0;34m,\u001b[0m \u001b[0mbeta1\u001b[0m\u001b[0;34m=\u001b[0m\u001b[0mbeta\u001b[0m\u001b[0;34m)\u001b[0m\u001b[0;34m\u001b[0m\u001b[0;34m\u001b[0m\u001b[0m\n\u001b[1;32m     32\u001b[0m \u001b[0;34m\u001b[0m\u001b[0m\n\u001b[0;32m---> 33\u001b[0;31m     \u001b[0mtrain\u001b[0m \u001b[0;34m=\u001b[0m \u001b[0mtheano\u001b[0m\u001b[0;34m.\u001b[0m\u001b[0mfunction\u001b[0m\u001b[0;34m(\u001b[0m\u001b[0minputs\u001b[0m\u001b[0;34m=\u001b[0m\u001b[0;34m[\u001b[0m\u001b[0mx\u001b[0m\u001b[0;34m]\u001b[0m\u001b[0;34m,\u001b[0m \u001b[0moutputs\u001b[0m\u001b[0;34m=\u001b[0m\u001b[0mcost\u001b[0m\u001b[0;34m,\u001b[0m \u001b[0mupdates\u001b[0m\u001b[0;34m=\u001b[0m\u001b[0mupdates\u001b[0m\u001b[0;34m)\u001b[0m\u001b[0;34m\u001b[0m\u001b[0;34m\u001b[0m\u001b[0m\n\u001b[0m\u001b[1;32m     34\u001b[0m \u001b[0;34m\u001b[0m\u001b[0m\n\u001b[1;32m     35\u001b[0m     \u001b[0mrec\u001b[0m \u001b[0;34m=\u001b[0m \u001b[0mtheano\u001b[0m\u001b[0;34m.\u001b[0m\u001b[0mfunction\u001b[0m\u001b[0;34m(\u001b[0m\u001b[0minputs\u001b[0m\u001b[0;34m=\u001b[0m\u001b[0;34m[\u001b[0m\u001b[0mx\u001b[0m\u001b[0;34m]\u001b[0m\u001b[0;34m,\u001b[0m \u001b[0moutputs\u001b[0m\u001b[0;34m=\u001b[0m\u001b[0mdecoding\u001b[0m\u001b[0;34m)\u001b[0m\u001b[0;34m\u001b[0m\u001b[0;34m\u001b[0m\u001b[0m\n",
      "\u001b[0;32m~/opt/anaconda3/envs/py3/lib/python3.7/site-packages/theano/compile/function.py\u001b[0m in \u001b[0;36mfunction\u001b[0;34m(inputs, outputs, mode, updates, givens, no_default_updates, accept_inplace, name, rebuild_strict, allow_input_downcast, profile, on_unused_input)\u001b[0m\n\u001b[1;32m    315\u001b[0m                    \u001b[0mon_unused_input\u001b[0m\u001b[0;34m=\u001b[0m\u001b[0mon_unused_input\u001b[0m\u001b[0;34m,\u001b[0m\u001b[0;34m\u001b[0m\u001b[0;34m\u001b[0m\u001b[0m\n\u001b[1;32m    316\u001b[0m                    \u001b[0mprofile\u001b[0m\u001b[0;34m=\u001b[0m\u001b[0mprofile\u001b[0m\u001b[0;34m,\u001b[0m\u001b[0;34m\u001b[0m\u001b[0;34m\u001b[0m\u001b[0m\n\u001b[0;32m--> 317\u001b[0;31m                    output_keys=output_keys)\n\u001b[0m\u001b[1;32m    318\u001b[0m     \u001b[0;32mreturn\u001b[0m \u001b[0mfn\u001b[0m\u001b[0;34m\u001b[0m\u001b[0;34m\u001b[0m\u001b[0m\n",
      "\u001b[0;32m~/opt/anaconda3/envs/py3/lib/python3.7/site-packages/theano/compile/pfunc.py\u001b[0m in \u001b[0;36mpfunc\u001b[0;34m(params, outputs, mode, updates, givens, no_default_updates, accept_inplace, name, rebuild_strict, allow_input_downcast, profile, on_unused_input, output_keys)\u001b[0m\n\u001b[1;32m    484\u001b[0m                          \u001b[0maccept_inplace\u001b[0m\u001b[0;34m=\u001b[0m\u001b[0maccept_inplace\u001b[0m\u001b[0;34m,\u001b[0m \u001b[0mname\u001b[0m\u001b[0;34m=\u001b[0m\u001b[0mname\u001b[0m\u001b[0;34m,\u001b[0m\u001b[0;34m\u001b[0m\u001b[0;34m\u001b[0m\u001b[0m\n\u001b[1;32m    485\u001b[0m                          \u001b[0mprofile\u001b[0m\u001b[0;34m=\u001b[0m\u001b[0mprofile\u001b[0m\u001b[0;34m,\u001b[0m \u001b[0mon_unused_input\u001b[0m\u001b[0;34m=\u001b[0m\u001b[0mon_unused_input\u001b[0m\u001b[0;34m,\u001b[0m\u001b[0;34m\u001b[0m\u001b[0;34m\u001b[0m\u001b[0m\n\u001b[0;32m--> 486\u001b[0;31m                          output_keys=output_keys)\n\u001b[0m\u001b[1;32m    487\u001b[0m \u001b[0;34m\u001b[0m\u001b[0m\n\u001b[1;32m    488\u001b[0m \u001b[0;34m\u001b[0m\u001b[0m\n",
      "\u001b[0;32m~/opt/anaconda3/envs/py3/lib/python3.7/site-packages/theano/compile/function_module.py\u001b[0m in \u001b[0;36morig_function\u001b[0;34m(inputs, outputs, mode, accept_inplace, name, profile, on_unused_input, output_keys)\u001b[0m\n\u001b[1;32m   1839\u001b[0m                   name=name)\n\u001b[1;32m   1840\u001b[0m         \u001b[0;32mwith\u001b[0m \u001b[0mtheano\u001b[0m\u001b[0;34m.\u001b[0m\u001b[0mchange_flags\u001b[0m\u001b[0;34m(\u001b[0m\u001b[0mcompute_test_value\u001b[0m\u001b[0;34m=\u001b[0m\u001b[0;34m\"off\"\u001b[0m\u001b[0;34m)\u001b[0m\u001b[0;34m:\u001b[0m\u001b[0;34m\u001b[0m\u001b[0;34m\u001b[0m\u001b[0m\n\u001b[0;32m-> 1841\u001b[0;31m             \u001b[0mfn\u001b[0m \u001b[0;34m=\u001b[0m \u001b[0mm\u001b[0m\u001b[0;34m.\u001b[0m\u001b[0mcreate\u001b[0m\u001b[0;34m(\u001b[0m\u001b[0mdefaults\u001b[0m\u001b[0;34m)\u001b[0m\u001b[0;34m\u001b[0m\u001b[0;34m\u001b[0m\u001b[0m\n\u001b[0m\u001b[1;32m   1842\u001b[0m     \u001b[0;32mfinally\u001b[0m\u001b[0;34m:\u001b[0m\u001b[0;34m\u001b[0m\u001b[0;34m\u001b[0m\u001b[0m\n\u001b[1;32m   1843\u001b[0m         \u001b[0mt2\u001b[0m \u001b[0;34m=\u001b[0m \u001b[0mtime\u001b[0m\u001b[0;34m.\u001b[0m\u001b[0mtime\u001b[0m\u001b[0;34m(\u001b[0m\u001b[0;34m)\u001b[0m\u001b[0;34m\u001b[0m\u001b[0;34m\u001b[0m\u001b[0m\n",
      "\u001b[0;32m~/opt/anaconda3/envs/py3/lib/python3.7/site-packages/theano/compile/function_module.py\u001b[0m in \u001b[0;36mcreate\u001b[0;34m(self, input_storage, trustme, storage_map)\u001b[0m\n\u001b[1;32m   1713\u001b[0m             \u001b[0mtheano\u001b[0m\u001b[0;34m.\u001b[0m\u001b[0mconfig\u001b[0m\u001b[0;34m.\u001b[0m\u001b[0mtraceback\u001b[0m\u001b[0;34m.\u001b[0m\u001b[0mlimit\u001b[0m \u001b[0;34m=\u001b[0m \u001b[0mtheano\u001b[0m\u001b[0;34m.\u001b[0m\u001b[0mconfig\u001b[0m\u001b[0;34m.\u001b[0m\u001b[0mtraceback\u001b[0m\u001b[0;34m.\u001b[0m\u001b[0mcompile_limit\u001b[0m\u001b[0;34m\u001b[0m\u001b[0;34m\u001b[0m\u001b[0m\n\u001b[1;32m   1714\u001b[0m             _fn, _i, _o = self.linker.make_thunk(\n\u001b[0;32m-> 1715\u001b[0;31m                 input_storage=input_storage_lists, storage_map=storage_map)\n\u001b[0m\u001b[1;32m   1716\u001b[0m         \u001b[0;32mfinally\u001b[0m\u001b[0;34m:\u001b[0m\u001b[0;34m\u001b[0m\u001b[0;34m\u001b[0m\u001b[0m\n\u001b[1;32m   1717\u001b[0m             \u001b[0mtheano\u001b[0m\u001b[0;34m.\u001b[0m\u001b[0mconfig\u001b[0m\u001b[0;34m.\u001b[0m\u001b[0mtraceback\u001b[0m\u001b[0;34m.\u001b[0m\u001b[0mlimit\u001b[0m \u001b[0;34m=\u001b[0m \u001b[0mlimit_orig\u001b[0m\u001b[0;34m\u001b[0m\u001b[0;34m\u001b[0m\u001b[0m\n",
      "\u001b[0;32m~/opt/anaconda3/envs/py3/lib/python3.7/site-packages/theano/gof/link.py\u001b[0m in \u001b[0;36mmake_thunk\u001b[0;34m(self, input_storage, output_storage, storage_map)\u001b[0m\n\u001b[1;32m    697\u001b[0m         return self.make_all(input_storage=input_storage,\n\u001b[1;32m    698\u001b[0m                              \u001b[0moutput_storage\u001b[0m\u001b[0;34m=\u001b[0m\u001b[0moutput_storage\u001b[0m\u001b[0;34m,\u001b[0m\u001b[0;34m\u001b[0m\u001b[0;34m\u001b[0m\u001b[0m\n\u001b[0;32m--> 699\u001b[0;31m                              storage_map=storage_map)[:3]\n\u001b[0m\u001b[1;32m    700\u001b[0m \u001b[0;34m\u001b[0m\u001b[0m\n\u001b[1;32m    701\u001b[0m     \u001b[0;32mdef\u001b[0m \u001b[0mmake_all\u001b[0m\u001b[0;34m(\u001b[0m\u001b[0mself\u001b[0m\u001b[0;34m,\u001b[0m \u001b[0minput_storage\u001b[0m\u001b[0;34m,\u001b[0m \u001b[0moutput_storage\u001b[0m\u001b[0;34m)\u001b[0m\u001b[0;34m:\u001b[0m\u001b[0;34m\u001b[0m\u001b[0;34m\u001b[0m\u001b[0m\n",
      "\u001b[0;32m~/opt/anaconda3/envs/py3/lib/python3.7/site-packages/theano/gof/vm.py\u001b[0m in \u001b[0;36mmake_all\u001b[0;34m(self, profiler, input_storage, output_storage, storage_map)\u001b[0m\n\u001b[1;32m   1089\u001b[0m                                                  \u001b[0mcompute_map\u001b[0m\u001b[0;34m,\u001b[0m\u001b[0;34m\u001b[0m\u001b[0;34m\u001b[0m\u001b[0m\n\u001b[1;32m   1090\u001b[0m                                                  \u001b[0;34m[\u001b[0m\u001b[0;34m]\u001b[0m\u001b[0;34m,\u001b[0m\u001b[0;34m\u001b[0m\u001b[0;34m\u001b[0m\u001b[0m\n\u001b[0;32m-> 1091\u001b[0;31m                                                  impl=impl))\n\u001b[0m\u001b[1;32m   1092\u001b[0m                 \u001b[0mlinker_make_thunk_time\u001b[0m\u001b[0;34m[\u001b[0m\u001b[0mnode\u001b[0m\u001b[0;34m]\u001b[0m \u001b[0;34m=\u001b[0m \u001b[0mtime\u001b[0m\u001b[0;34m.\u001b[0m\u001b[0mtime\u001b[0m\u001b[0;34m(\u001b[0m\u001b[0;34m)\u001b[0m \u001b[0;34m-\u001b[0m \u001b[0mthunk_start\u001b[0m\u001b[0;34m\u001b[0m\u001b[0;34m\u001b[0m\u001b[0m\n\u001b[1;32m   1093\u001b[0m                 \u001b[0;32mif\u001b[0m \u001b[0;32mnot\u001b[0m \u001b[0mhasattr\u001b[0m\u001b[0;34m(\u001b[0m\u001b[0mthunks\u001b[0m\u001b[0;34m[\u001b[0m\u001b[0;34m-\u001b[0m\u001b[0;36m1\u001b[0m\u001b[0;34m]\u001b[0m\u001b[0;34m,\u001b[0m \u001b[0;34m'lazy'\u001b[0m\u001b[0;34m)\u001b[0m\u001b[0;34m:\u001b[0m\u001b[0;34m\u001b[0m\u001b[0;34m\u001b[0m\u001b[0m\n",
      "\u001b[0;32m~/opt/anaconda3/envs/py3/lib/python3.7/site-packages/theano/gof/op.py\u001b[0m in \u001b[0;36mmake_thunk\u001b[0;34m(self, node, storage_map, compute_map, no_recycling, impl)\u001b[0m\n\u001b[1;32m    953\u001b[0m             \u001b[0;32mtry\u001b[0m\u001b[0;34m:\u001b[0m\u001b[0;34m\u001b[0m\u001b[0;34m\u001b[0m\u001b[0m\n\u001b[1;32m    954\u001b[0m                 return self.make_c_thunk(node, storage_map, compute_map,\n\u001b[0;32m--> 955\u001b[0;31m                                          no_recycling)\n\u001b[0m\u001b[1;32m    956\u001b[0m             \u001b[0;32mexcept\u001b[0m \u001b[0;34m(\u001b[0m\u001b[0mNotImplementedError\u001b[0m\u001b[0;34m,\u001b[0m \u001b[0mutils\u001b[0m\u001b[0;34m.\u001b[0m\u001b[0mMethodNotDefined\u001b[0m\u001b[0;34m)\u001b[0m\u001b[0;34m:\u001b[0m\u001b[0;34m\u001b[0m\u001b[0;34m\u001b[0m\u001b[0m\n\u001b[1;32m    957\u001b[0m                 \u001b[0;31m# We requested the c code, so don't catch the error.\u001b[0m\u001b[0;34m\u001b[0m\u001b[0;34m\u001b[0m\u001b[0;34m\u001b[0m\u001b[0m\n",
      "\u001b[0;32m~/opt/anaconda3/envs/py3/lib/python3.7/site-packages/theano/gof/op.py\u001b[0m in \u001b[0;36mmake_c_thunk\u001b[0;34m(self, node, storage_map, compute_map, no_recycling)\u001b[0m\n\u001b[1;32m    856\u001b[0m         \u001b[0m_logger\u001b[0m\u001b[0;34m.\u001b[0m\u001b[0mdebug\u001b[0m\u001b[0;34m(\u001b[0m\u001b[0;34m'Trying CLinker.make_thunk'\u001b[0m\u001b[0;34m)\u001b[0m\u001b[0;34m\u001b[0m\u001b[0;34m\u001b[0m\u001b[0m\n\u001b[1;32m    857\u001b[0m         outputs = cl.make_thunk(input_storage=node_input_storage,\n\u001b[0;32m--> 858\u001b[0;31m                                 output_storage=node_output_storage)\n\u001b[0m\u001b[1;32m    859\u001b[0m         \u001b[0mthunk\u001b[0m\u001b[0;34m,\u001b[0m \u001b[0mnode_input_filters\u001b[0m\u001b[0;34m,\u001b[0m \u001b[0mnode_output_filters\u001b[0m \u001b[0;34m=\u001b[0m \u001b[0moutputs\u001b[0m\u001b[0;34m\u001b[0m\u001b[0;34m\u001b[0m\u001b[0m\n\u001b[1;32m    860\u001b[0m \u001b[0;34m\u001b[0m\u001b[0m\n",
      "\u001b[0;32m~/opt/anaconda3/envs/py3/lib/python3.7/site-packages/theano/gof/cc.py\u001b[0m in \u001b[0;36mmake_thunk\u001b[0;34m(self, input_storage, output_storage, storage_map, keep_lock)\u001b[0m\n\u001b[1;32m   1215\u001b[0m         cthunk, module, in_storage, out_storage, error_storage = self.__compile__(\n\u001b[1;32m   1216\u001b[0m             \u001b[0minput_storage\u001b[0m\u001b[0;34m,\u001b[0m \u001b[0moutput_storage\u001b[0m\u001b[0;34m,\u001b[0m \u001b[0mstorage_map\u001b[0m\u001b[0;34m,\u001b[0m\u001b[0;34m\u001b[0m\u001b[0;34m\u001b[0m\u001b[0m\n\u001b[0;32m-> 1217\u001b[0;31m             keep_lock=keep_lock)\n\u001b[0m\u001b[1;32m   1218\u001b[0m \u001b[0;34m\u001b[0m\u001b[0m\n\u001b[1;32m   1219\u001b[0m         \u001b[0mres\u001b[0m \u001b[0;34m=\u001b[0m \u001b[0m_CThunk\u001b[0m\u001b[0;34m(\u001b[0m\u001b[0mcthunk\u001b[0m\u001b[0;34m,\u001b[0m \u001b[0minit_tasks\u001b[0m\u001b[0;34m,\u001b[0m \u001b[0mtasks\u001b[0m\u001b[0;34m,\u001b[0m \u001b[0merror_storage\u001b[0m\u001b[0;34m,\u001b[0m \u001b[0mmodule\u001b[0m\u001b[0;34m)\u001b[0m\u001b[0;34m\u001b[0m\u001b[0;34m\u001b[0m\u001b[0m\n",
      "\u001b[0;32m~/opt/anaconda3/envs/py3/lib/python3.7/site-packages/theano/gof/cc.py\u001b[0m in \u001b[0;36m__compile__\u001b[0;34m(self, input_storage, output_storage, storage_map, keep_lock)\u001b[0m\n\u001b[1;32m   1155\u001b[0m                                             \u001b[0moutput_storage\u001b[0m\u001b[0;34m,\u001b[0m\u001b[0;34m\u001b[0m\u001b[0;34m\u001b[0m\u001b[0m\n\u001b[1;32m   1156\u001b[0m                                             \u001b[0mstorage_map\u001b[0m\u001b[0;34m,\u001b[0m\u001b[0;34m\u001b[0m\u001b[0;34m\u001b[0m\u001b[0m\n\u001b[0;32m-> 1157\u001b[0;31m                                             keep_lock=keep_lock)\n\u001b[0m\u001b[1;32m   1158\u001b[0m         return (thunk,\n\u001b[1;32m   1159\u001b[0m                 \u001b[0mmodule\u001b[0m\u001b[0;34m,\u001b[0m\u001b[0;34m\u001b[0m\u001b[0;34m\u001b[0m\u001b[0m\n",
      "\u001b[0;32m~/opt/anaconda3/envs/py3/lib/python3.7/site-packages/theano/gof/cc.py\u001b[0m in \u001b[0;36mcthunk_factory\u001b[0;34m(self, error_storage, in_storage, out_storage, storage_map, keep_lock)\u001b[0m\n\u001b[1;32m   1622\u001b[0m                 \u001b[0mnode\u001b[0m\u001b[0;34m.\u001b[0m\u001b[0mop\u001b[0m\u001b[0;34m.\u001b[0m\u001b[0mprepare_node\u001b[0m\u001b[0;34m(\u001b[0m\u001b[0mnode\u001b[0m\u001b[0;34m,\u001b[0m \u001b[0mstorage_map\u001b[0m\u001b[0;34m,\u001b[0m \u001b[0;32mNone\u001b[0m\u001b[0;34m,\u001b[0m \u001b[0;34m'c'\u001b[0m\u001b[0;34m)\u001b[0m\u001b[0;34m\u001b[0m\u001b[0;34m\u001b[0m\u001b[0m\n\u001b[1;32m   1623\u001b[0m             module = get_module_cache().module_from_key(\n\u001b[0;32m-> 1624\u001b[0;31m                 key=key, lnk=self, keep_lock=keep_lock)\n\u001b[0m\u001b[1;32m   1625\u001b[0m \u001b[0;34m\u001b[0m\u001b[0m\n\u001b[1;32m   1626\u001b[0m         \u001b[0mvars\u001b[0m \u001b[0;34m=\u001b[0m \u001b[0mself\u001b[0m\u001b[0;34m.\u001b[0m\u001b[0minputs\u001b[0m \u001b[0;34m+\u001b[0m \u001b[0mself\u001b[0m\u001b[0;34m.\u001b[0m\u001b[0moutputs\u001b[0m \u001b[0;34m+\u001b[0m \u001b[0mself\u001b[0m\u001b[0;34m.\u001b[0m\u001b[0morphans\u001b[0m\u001b[0;34m\u001b[0m\u001b[0;34m\u001b[0m\u001b[0m\n",
      "\u001b[0;32m~/opt/anaconda3/envs/py3/lib/python3.7/site-packages/theano/gof/cmodule.py\u001b[0m in \u001b[0;36mmodule_from_key\u001b[0;34m(self, key, lnk, keep_lock)\u001b[0m\n\u001b[1;32m   1187\u001b[0m             \u001b[0;32mtry\u001b[0m\u001b[0;34m:\u001b[0m\u001b[0;34m\u001b[0m\u001b[0;34m\u001b[0m\u001b[0m\n\u001b[1;32m   1188\u001b[0m                 \u001b[0mlocation\u001b[0m \u001b[0;34m=\u001b[0m \u001b[0mdlimport_workdir\u001b[0m\u001b[0;34m(\u001b[0m\u001b[0mself\u001b[0m\u001b[0;34m.\u001b[0m\u001b[0mdirname\u001b[0m\u001b[0;34m)\u001b[0m\u001b[0;34m\u001b[0m\u001b[0;34m\u001b[0m\u001b[0m\n\u001b[0;32m-> 1189\u001b[0;31m                 \u001b[0mmodule\u001b[0m \u001b[0;34m=\u001b[0m \u001b[0mlnk\u001b[0m\u001b[0;34m.\u001b[0m\u001b[0mcompile_cmodule\u001b[0m\u001b[0;34m(\u001b[0m\u001b[0mlocation\u001b[0m\u001b[0;34m)\u001b[0m\u001b[0;34m\u001b[0m\u001b[0;34m\u001b[0m\u001b[0m\n\u001b[0m\u001b[1;32m   1190\u001b[0m                 \u001b[0mname\u001b[0m \u001b[0;34m=\u001b[0m \u001b[0mmodule\u001b[0m\u001b[0;34m.\u001b[0m\u001b[0m__file__\u001b[0m\u001b[0;34m\u001b[0m\u001b[0;34m\u001b[0m\u001b[0m\n\u001b[1;32m   1191\u001b[0m                 \u001b[0;32massert\u001b[0m \u001b[0mname\u001b[0m\u001b[0;34m.\u001b[0m\u001b[0mstartswith\u001b[0m\u001b[0;34m(\u001b[0m\u001b[0mlocation\u001b[0m\u001b[0;34m)\u001b[0m\u001b[0;34m\u001b[0m\u001b[0;34m\u001b[0m\u001b[0m\n",
      "\u001b[0;32m~/opt/anaconda3/envs/py3/lib/python3.7/site-packages/theano/gof/cc.py\u001b[0m in \u001b[0;36mcompile_cmodule\u001b[0;34m(self, location)\u001b[0m\n\u001b[1;32m   1525\u001b[0m                 \u001b[0mlib_dirs\u001b[0m\u001b[0;34m=\u001b[0m\u001b[0mself\u001b[0m\u001b[0;34m.\u001b[0m\u001b[0mlib_dirs\u001b[0m\u001b[0;34m(\u001b[0m\u001b[0;34m)\u001b[0m\u001b[0;34m,\u001b[0m\u001b[0;34m\u001b[0m\u001b[0;34m\u001b[0m\u001b[0m\n\u001b[1;32m   1526\u001b[0m                 \u001b[0mlibs\u001b[0m\u001b[0;34m=\u001b[0m\u001b[0mlibs\u001b[0m\u001b[0;34m,\u001b[0m\u001b[0;34m\u001b[0m\u001b[0;34m\u001b[0m\u001b[0m\n\u001b[0;32m-> 1527\u001b[0;31m                 preargs=preargs)\n\u001b[0m\u001b[1;32m   1528\u001b[0m         \u001b[0;32mexcept\u001b[0m \u001b[0mException\u001b[0m \u001b[0;32mas\u001b[0m \u001b[0me\u001b[0m\u001b[0;34m:\u001b[0m\u001b[0;34m\u001b[0m\u001b[0;34m\u001b[0m\u001b[0m\n\u001b[1;32m   1529\u001b[0m             \u001b[0me\u001b[0m\u001b[0;34m.\u001b[0m\u001b[0margs\u001b[0m \u001b[0;34m+=\u001b[0m \u001b[0;34m(\u001b[0m\u001b[0mstr\u001b[0m\u001b[0;34m(\u001b[0m\u001b[0mself\u001b[0m\u001b[0;34m.\u001b[0m\u001b[0mfgraph\u001b[0m\u001b[0;34m)\u001b[0m\u001b[0;34m,\u001b[0m\u001b[0;34m)\u001b[0m\u001b[0;34m\u001b[0m\u001b[0;34m\u001b[0m\u001b[0m\n",
      "\u001b[0;32m~/opt/anaconda3/envs/py3/lib/python3.7/site-packages/theano/gof/cmodule.py\u001b[0m in \u001b[0;36mcompile_str\u001b[0;34m(module_name, src_code, location, include_dirs, lib_dirs, libs, preargs, py_module, hide_symbols)\u001b[0m\n\u001b[1;32m   2409\u001b[0m             \u001b[0;31m# difficult to read.\u001b[0m\u001b[0;34m\u001b[0m\u001b[0;34m\u001b[0m\u001b[0;34m\u001b[0m\u001b[0m\n\u001b[1;32m   2410\u001b[0m             raise Exception('Compilation failed (return status=%s): %s' %\n\u001b[0;32m-> 2411\u001b[0;31m                             (status, compile_stderr.replace('\\n', '. ')))\n\u001b[0m\u001b[1;32m   2412\u001b[0m         \u001b[0;32melif\u001b[0m \u001b[0mconfig\u001b[0m\u001b[0;34m.\u001b[0m\u001b[0mcmodule\u001b[0m\u001b[0;34m.\u001b[0m\u001b[0mcompilation_warning\u001b[0m \u001b[0;32mand\u001b[0m \u001b[0mcompile_stderr\u001b[0m\u001b[0;34m:\u001b[0m\u001b[0;34m\u001b[0m\u001b[0;34m\u001b[0m\u001b[0m\n\u001b[1;32m   2413\u001b[0m             \u001b[0;31m# Print errors just below the command line.\u001b[0m\u001b[0;34m\u001b[0m\u001b[0;34m\u001b[0m\u001b[0;34m\u001b[0m\u001b[0m\n",
      "\u001b[0;31mException\u001b[0m: ('The following error happened while compiling the node', Elemwise{Cast{float64}}(TensorConstant{(1, 1, 1, .. 1) of 0.5}), '\\n', \"Compilation failed (return status=1): /Users/aidasaglinskas/.theano/compiledir_Darwin-19.4.0-x86_64-i386-64bit-i386-3.7.7-64/tmp8i9f_zwb/mod.cpp:414:27: error: non-constant-expression cannot be narrowed from type 'npy_intp' (aka 'long') to 'int' in initializer list [-Wc++11-narrowing].     int init_totals[5] = {V1_n0, V1_n1, V1_n2, V1_n3, V1_n4};.                           ^~~~~. /Users/aidasaglinskas/.theano/compiledir_Darwin-19.4.0-x86_64-i386-64bit-i386-3.7.7-64/tmp8i9f_zwb/mod.cpp:414:27: note: insert an explicit cast to silence this issue.     int init_totals[5] = {V1_n0, V1_n1, V1_n2, V1_n3, V1_n4};.                           ^~~~~.                           static_cast<int>( ). /Users/aidasaglinskas/.theano/compiledir_Darwin-19.4.0-x86_64-i386-64bit-i386-3.7.7-64/tmp8i9f_zwb/mod.cpp:414:34: error: non-constant-expression cannot be narrowed from type 'npy_intp' (aka 'long') to 'int' in initializer list [-Wc++11-narrowing].     int init_totals[5] = {V1_n0, V1_n1, V1_n2, V1_n3, V1_n4};.                                  ^~~~~. /Users/aidasaglinskas/.theano/compiledir_Darwin-19.4.0-x86_64-i386-64bit-i386-3.7.7-64/tmp8i9f_zwb/mod.cpp:414:34: note: insert an explicit cast to silence this issue.     int init_totals[5] = {V1_n0, V1_n1, V1_n2, V1_n3, V1_n4};.                                  ^~~~~.                                  static_cast<int>( ). /Users/aidasaglinskas/.theano/compiledir_Darwin-19.4.0-x86_64-i386-64bit-i386-3.7.7-64/tmp8i9f_zwb/mod.cpp:414:41: error: non-constant-expression cannot be narrowed from type 'npy_intp' (aka 'long') to 'int' in initializer list [-Wc++11-narrowing].     int init_totals[5] = {V1_n0, V1_n1, V1_n2, V1_n3, V1_n4};.                                         ^~~~~. /Users/aidasaglinskas/.theano/compiledir_Darwin-19.4.0-x86_64-i386-64bit-i386-3.7.7-64/tmp8i9f_zwb/mod.cpp:414:41: note: insert an explicit cast to silence this issue.     int init_totals[5] = {V1_n0, V1_n1, V1_n2, V1_n3, V1_n4};.                                         ^~~~~.                                         static_cast<int>( ). /Users/aidasaglinskas/.theano/compiledir_Darwin-19.4.0-x86_64-i386-64bit-i386-3.7.7-64/tmp8i9f_zwb/mod.cpp:414:48: error: non-constant-expression cannot be narrowed from type 'npy_intp' (aka 'long') to 'int' in initializer list [-Wc++11-narrowing].     int init_totals[5] = {V1_n0, V1_n1, V1_n2, V1_n3, V1_n4};.                                                ^~~~~. /Users/aidasaglinskas/.theano/compiledir_Darwin-19.4.0-x86_64-i386-64bit-i386-3.7.7-64/tmp8i9f_zwb/mod.cpp:414:48: note: insert an explicit cast to silence this issue.     int init_totals[5] = {V1_n0, V1_n1, V1_n2, V1_n3, V1_n4};.                                                ^~~~~.                                                static_cast<int>( ). /Users/aidasaglinskas/.theano/compiledir_Darwin-19.4.0-x86_64-i386-64bit-i386-3.7.7-64/tmp8i9f_zwb/mod.cpp:414:55: error: non-constant-expression cannot be narrowed from type 'npy_intp' (aka 'long') to 'int' in initializer list [-Wc++11-narrowing].     int init_totals[5] = {V1_n0, V1_n1, V1_n2, V1_n3, V1_n4};.                                                       ^~~~~. /Users/aidasaglinskas/.theano/compiledir_Darwin-19.4.0-x86_64-i386-64bit-i386-3.7.7-64/tmp8i9f_zwb/mod.cpp:414:55: note: insert an explicit cast to silence this issue.     int init_totals[5] = {V1_n0, V1_n1, V1_n2, V1_n3, V1_n4};.                                                       ^~~~~.                                                       static_cast<int>( ). /Users/aidasaglinskas/.theano/compiledir_Darwin-19.4.0-x86_64-i386-64bit-i386-3.7.7-64/tmp8i9f_zwb/mod.cpp:436:1: error: non-constant-expression cannot be narrowed from type 'ssize_t' (aka 'long') to 'int' in initializer list [-Wc++11-narrowing]. V1_stride0, V1_stride1, V1_stride2, V1_stride3, V1_stride4. ^~~~~~~~~~. /Users/aidasaglinskas/.theano/compiledir_Darwin-19.4.0-x86_64-i386-64bit-i386-3.7.7-64/tmp8i9f_zwb/mod.cpp:436:1: note: insert an explicit cast to silence this issue. V1_stride0, V1_stride1, V1_stride2, V1_stride3, V1_stride4. ^~~~~~~~~~. static_cast<int>( ). /Users/aidasaglinskas/.theano/compiledir_Darwin-19.4.0-x86_64-i386-64bit-i386-3.7.7-64/tmp8i9f_zwb/mod.cpp:436:13: error: non-constant-expression cannot be narrowed from type 'ssize_t' (aka 'long') to 'int' in initializer list [-Wc++11-narrowing]. V1_stride0, V1_stride1, V1_stride2, V1_stride3, V1_stride4.             ^~~~~~~~~~. /Users/aidasaglinskas/.theano/compiledir_Darwin-19.4.0-x86_64-i386-64bit-i386-3.7.7-64/tmp8i9f_zwb/mod.cpp:436:13: note: insert an explicit cast to silence this issue. V1_stride0, V1_stride1, V1_stride2, V1_stride3, V1_stride4.             ^~~~~~~~~~.             static_cast<int>( ). /Users/aidasaglinskas/.theano/compiledir_Darwin-19.4.0-x86_64-i386-64bit-i386-3.7.7-64/tmp8i9f_zwb/mod.cpp:436:25: error: non-constant-expression cannot be narrowed from type 'ssize_t' (aka 'long') to 'int' in initializer list [-Wc++11-narrowing]. V1_stride0, V1_stride1, V1_stride2, V1_stride3, V1_stride4.                         ^~~~~~~~~~. /Users/aidasaglinskas/.theano/compiledir_Darwin-19.4.0-x86_64-i386-64bit-i386-3.7.7-64/tmp8i9f_zwb/mod.cpp:436:25: note: insert an explicit cast to silence this issue. V1_stride0, V1_stride1, V1_stride2, V1_stride3, V1_stride4.                         ^~~~~~~~~~.                         static_cast<int>( ). /Users/aidasaglinskas/.theano/compiledir_Darwin-19.4.0-x86_64-i386-64bit-i386-3.7.7-64/tmp8i9f_zwb/mod.cpp:436:37: error: non-constant-expression cannot be narrowed from type 'ssize_t' (aka 'long') to 'int' in initializer list [-Wc++11-narrowing]. V1_stride0, V1_stride1, V1_stride2, V1_stride3, V1_stride4.                                     ^~~~~~~~~~. /Users/aidasaglinskas/.theano/compiledir_Darwin-19.4.0-x86_64-i386-64bit-i386-3.7.7-64/tmp8i9f_zwb/mod.cpp:436:37: note: insert an explicit cast to silence this issue. V1_stride0, V1_stride1, V1_stride2, V1_stride3, V1_stride4.                                     ^~~~~~~~~~.                                     static_cast<int>( ). /Users/aidasaglinskas/.theano/compiledir_Darwin-19.4.0-x86_64-i386-64bit-i386-3.7.7-64/tmp8i9f_zwb/mod.cpp:436:49: error: non-constant-expression cannot be narrowed from type 'ssize_t' (aka 'long') to 'int' in initializer list [-Wc++11-narrowing]. V1_stride0, V1_stride1, V1_stride2, V1_stride3, V1_stride4.                                                 ^~~~~~~~~~. /Users/aidasaglinskas/.theano/compiledir_Darwin-19.4.0-x86_64-i386-64bit-i386-3.7.7-64/tmp8i9f_zwb/mod.cpp:436:49: note: insert an explicit cast to silence this issue. V1_stride0, V1_stride1, V1_stride2, V1_stride3, V1_stride4.                                                 ^~~~~~~~~~.                                                 static_cast<int>( ). 10 errors generated.. \", '[Elemwise{Cast{float64}}(TensorConstant{(1, 1, 1, .. 1) of 0.5})]')"
     ]
    }
   ],
   "source": [
    "trainData = dataArr[1:100,:,:,:]\n",
    "testData = dataArr[100:130,:,:,:]\n",
    "train( trainData, testData, nz=200, alpha=0.00005, beta=0.5, batchSize=4, epoch=500)"
   ]
  },
  {
   "cell_type": "code",
   "execution_count": null,
   "metadata": {},
   "outputs": [],
   "source": []
  },
  {
   "cell_type": "code",
   "execution_count": null,
   "metadata": {},
   "outputs": [],
   "source": []
  },
  {
   "cell_type": "code",
   "execution_count": null,
   "metadata": {},
   "outputs": [],
   "source": []
  },
  {
   "cell_type": "code",
   "execution_count": null,
   "metadata": {},
   "outputs": [],
   "source": []
  },
  {
   "cell_type": "code",
   "execution_count": null,
   "metadata": {},
   "outputs": [],
   "source": []
  },
  {
   "cell_type": "code",
   "execution_count": null,
   "metadata": {},
   "outputs": [],
   "source": []
  },
  {
   "cell_type": "code",
   "execution_count": null,
   "metadata": {},
   "outputs": [],
   "source": []
  },
  {
   "cell_type": "code",
   "execution_count": null,
   "metadata": {},
   "outputs": [],
   "source": []
  },
  {
   "cell_type": "code",
   "execution_count": null,
   "metadata": {},
   "outputs": [],
   "source": []
  },
  {
   "cell_type": "code",
   "execution_count": null,
   "metadata": {},
   "outputs": [],
   "source": []
  },
  {
   "cell_type": "code",
   "execution_count": null,
   "metadata": {},
   "outputs": [],
   "source": []
  },
  {
   "cell_type": "code",
   "execution_count": null,
   "metadata": {},
   "outputs": [],
   "source": []
  },
  {
   "cell_type": "code",
   "execution_count": null,
   "metadata": {},
   "outputs": [],
   "source": []
  },
  {
   "cell_type": "code",
   "execution_count": null,
   "metadata": {},
   "outputs": [],
   "source": []
  },
  {
   "cell_type": "code",
   "execution_count": null,
   "metadata": {},
   "outputs": [],
   "source": []
  },
  {
   "cell_type": "code",
   "execution_count": null,
   "metadata": {},
   "outputs": [],
   "source": []
  },
  {
   "cell_type": "code",
   "execution_count": null,
   "metadata": {},
   "outputs": [],
   "source": []
  },
  {
   "cell_type": "code",
   "execution_count": null,
   "metadata": {},
   "outputs": [],
   "source": []
  },
  {
   "cell_type": "code",
   "execution_count": null,
   "metadata": {},
   "outputs": [],
   "source": []
  },
  {
   "cell_type": "code",
   "execution_count": null,
   "metadata": {},
   "outputs": [],
   "source": []
  },
  {
   "cell_type": "code",
   "execution_count": null,
   "metadata": {},
   "outputs": [],
   "source": []
  },
  {
   "cell_type": "code",
   "execution_count": null,
   "metadata": {},
   "outputs": [],
   "source": []
  },
  {
   "cell_type": "code",
   "execution_count": null,
   "metadata": {},
   "outputs": [],
   "source": []
  },
  {
   "cell_type": "code",
   "execution_count": null,
   "metadata": {},
   "outputs": [],
   "source": []
  },
  {
   "cell_type": "code",
   "execution_count": null,
   "metadata": {},
   "outputs": [],
   "source": []
  }
 ],
 "metadata": {
  "kernelspec": {
   "display_name": "Python 3",
   "language": "python",
   "name": "python3"
  },
  "language_info": {
   "codemirror_mode": {
    "name": "ipython",
    "version": 3
   },
   "file_extension": ".py",
   "mimetype": "text/x-python",
   "name": "python",
   "nbconvert_exporter": "python",
   "pygments_lexer": "ipython3",
   "version": "3.7.7"
  }
 },
 "nbformat": 4,
 "nbformat_minor": 4
}
