{
 "cells": [
  {
   "cell_type": "code",
   "execution_count": 3,
   "metadata": {},
   "outputs": [],
   "source": [
    "import pandas as pd\n",
    "import numpy as np\n",
    "#from nilearn.input_data import *\n",
    "import ants\n",
    "from matplotlib import pyplot as plt\n",
    "import seaborn as sns\n",
    "#(106, 51, 51, 51)\n",
    "\n",
    "from sklearn.linear_model import *\n",
    "from sklearn.multioutput import MultiOutputRegressor\n",
    "\n",
    "import os\n",
    "\n",
    "from datetime import datetime\n",
    "now = datetime.now\n"
   ]
  },
  {
   "cell_type": "code",
   "execution_count": 4,
   "metadata": {},
   "outputs": [],
   "source": [
    "nrois = 51"
   ]
  },
  {
   "cell_type": "code",
   "execution_count": 5,
   "metadata": {},
   "outputs": [],
   "source": [
    "csv_fn = '/Users/aidasaglinskas/Desktop/subsFinal.csv'\n",
    "df = pd.read_csv(csv_fn)\n",
    "subs = np.array(df['BIDS ID'])\n",
    "nsubs = len(subs)"
   ]
  },
  {
   "cell_type": "code",
   "execution_count": 6,
   "metadata": {},
   "outputs": [],
   "source": [
    "#f = 0\n",
    "#s = 0\n",
    "#m = 1\n",
    "#sub = subs[s]"
   ]
  },
  {
   "cell_type": "code",
   "execution_count": 7,
   "metadata": {},
   "outputs": [],
   "source": [
    "# Get maskList\n",
    "maskList = ['pmask_3001_{:05d}.nii'.format(i) for i in range(50+1)]\n",
    "maskList[0] = 'imask.nii'\n",
    "maskList\n",
    "nmasks = len(maskList)"
   ]
  },
  {
   "cell_type": "code",
   "execution_count": 8,
   "metadata": {},
   "outputs": [],
   "source": [
    "def getFNs(sub,f,m):\n",
    "    root = '/Volumes/Samsung_T5/DS-use-new-atlas/'\n",
    "    fileList = ['{}_task-face_run-1',\n",
    "    '{}_task-lang_run-1',\n",
    "    '{}_task-lang_run-2',\n",
    "    '{}_task-rest_run-1',\n",
    "    '{}_task-rest_run-2']\n",
    "\n",
    "    mask_fn_temp = os.path.join(root,'{}/atlas/{}')\n",
    "    data_fn_temp = os.path.join(root,'{}/func/rr{}_bold.nii')\n",
    "    rp_fn_temp = os.path.join(root,'{}/func/rp_{}_bold.txt')\n",
    "\n",
    "    mask_fn = mask_fn_temp.format(sub,maskList[m])\n",
    "    data_fn = data_fn_temp.format(sub,fileList[f].format(sub))\n",
    "    rp_fn = rp_fn_temp.format(sub,fileList[f].format(sub))\n",
    "    \n",
    "    return data_fn,mask_fn,rp_fn"
   ]
  },
  {
   "cell_type": "code",
   "execution_count": null,
   "metadata": {},
   "outputs": [],
   "source": []
  },
  {
   "cell_type": "code",
   "execution_count": 9,
   "metadata": {},
   "outputs": [],
   "source": [
    "# Gray Matter IDX\n",
    "def get_GMidx(sub):\n",
    "    data_fn,mask_fn,rp_fn = getFNs(sub,0,0)\n",
    "    mask = ants.image_read(mask_fn)\n",
    "    maskArr = mask.numpy()\n",
    "    GM_idx = maskArr>=1\n",
    "    return GM_idx"
   ]
  },
  {
   "cell_type": "code",
   "execution_count": 10,
   "metadata": {},
   "outputs": [],
   "source": [
    "def get_data(data_fn,rp,GM_idx):\n",
    "    \n",
    "    data = ants.image_read(data_fn) # ANTS obj\n",
    "    dataArr = data.numpy() # 4d arr\n",
    "    dataFlat = dataArr[GM_idx] # 2d array\n",
    "    \n",
    "    # Regress out movement\n",
    "    X = rp\n",
    "    Y = dataFlat.transpose()\n",
    "    clf = MultiOutputRegressor(LinearRegression(copy_X=True)).fit(X,Y)\n",
    "    Y_hat = clf.predict(X)\n",
    "    resid = Y-Y_hat\n",
    "    \n",
    "    return {'resid' : resid, 'Y_hat' : Y_hat, 'Y' : Y, 'X' : X}"
   ]
  },
  {
   "cell_type": "code",
   "execution_count": 11,
   "metadata": {},
   "outputs": [],
   "source": [
    "def get_maskMat(sub,GM_idx):\n",
    "    m = 0\n",
    "    mask_fn = getFNs(sub,0,m)[1]\n",
    "    mask = ants.image_read(mask_fn)\n",
    "    maskArr = mask.numpy()\n",
    "    maskMat = maskArr[GM_idx]\n",
    "\n",
    "    for m in np.arange(1,nmasks):\n",
    "        mask_fn = getFNs(sub,0,m)[1]\n",
    "        mask = ants.image_read(mask_fn)\n",
    "        maskArr = mask.numpy()\n",
    "        #maskMat = maskArr[GM_idx]\n",
    "        maskMat = np.vstack((maskMat,maskArr[GM_idx]))\n",
    "    return maskMat"
   ]
  },
  {
   "cell_type": "code",
   "execution_count": 16,
   "metadata": {},
   "outputs": [],
   "source": [
    "# f = 4\n",
    "# s = 104\n",
    "# m = 0\n",
    "# sub = subs[s];sub\n",
    "\n",
    "# data_fn,mask_fn,rp_fn = getFNs(sub,f,m)\n",
    "# rp = np.array(pd.read_csv(rp_fn,sep='\\s+',header=None))\n",
    "# GM_idx = get_GMidx(sub)\n",
    "# get_data(data_fn,rp,GM_idx)"
   ]
  },
  {
   "cell_type": "code",
   "execution_count": 19,
   "metadata": {},
   "outputs": [
    {
     "data": {
      "text/plain": [
       "array(['sub-004', 'sub-012', 'sub-014', 'sub-018', 'sub-025', 'sub-029',\n",
       "       'sub-030', 'sub-039', 'sub-042', 'sub-043', 'sub-044', 'sub-058',\n",
       "       'sub-064', 'sub-066', 'sub-074', 'sub-076', 'sub-090', 'sub-091',\n",
       "       'sub-097', 'sub-098', 'sub-101', 'sub-120', 'sub-122', 'sub-125',\n",
       "       'sub-133', 'sub-142', 'sub-143', 'sub-144', 'sub-145', 'sub-148',\n",
       "       'sub-153', 'sub-154', 'sub-155', 'sub-158', 'sub-159', 'sub-160',\n",
       "       'sub-162', 'sub-163', 'sub-166', 'sub-167', 'sub-171', 'sub-175',\n",
       "       'sub-177', 'sub-178', 'sub-181', 'sub-190', 'sub-191', 'sub-201',\n",
       "       'sub-203', 'sub-204', 'sub-205', 'sub-207', 'sub-212', 'sub-226',\n",
       "       'sub-227', 'sub-228', 'sub-229', 'sub-230', 'sub-237', 'sub-238',\n",
       "       'sub-239', 'sub-240', 'sub-242', 'sub-244', 'sub-245', 'sub-252',\n",
       "       'sub-253', 'sub-257', 'sub-258', 'sub-259', 'sub-262', 'sub-264',\n",
       "       'sub-270', 'sub-272', 'sub-273', 'sub-274', 'sub-275', 'sub-276',\n",
       "       'sub-279', 'sub-280', 'sub-284', 'sub-285', 'sub-286', 'sub-287',\n",
       "       'sub-290', 'sub-294', 'sub-295', 'sub-296', 'sub-300', 'sub-309',\n",
       "       'sub-313', 'sub-315', 'sub-316', 'sub-317', 'sub-318', 'sub-320',\n",
       "       'sub-323', 'sub-324', 'sub-326', 'sub-329', 'sub-332', 'sub-333',\n",
       "       'sub-335', 'sub-336', 'sub-337', 'sub-338'], dtype=object)"
      ]
     },
     "execution_count": 19,
     "metadata": {},
     "output_type": "execute_result"
    }
   ],
   "source": [
    "subs"
   ]
  },
  {
   "cell_type": "code",
   "execution_count": 17,
   "metadata": {},
   "outputs": [],
   "source": [
    "#overlap = np.array([sum(maskMat[0,:]==maskMat[r,:]) / maskMat.shape[1] for r in range(maskMat.shape[0])]);"
   ]
  },
  {
   "cell_type": "code",
   "execution_count": 18,
   "metadata": {},
   "outputs": [
    {
     "name": "stdout",
     "output_type": "stream",
     "text": [
      "started: 2020-07-04 15:21:47.557491\n",
      "0/106\n",
      "1/106\n",
      "2/106\n",
      "3/106\n",
      "4/106\n",
      "5/106\n",
      "6/106\n",
      "7/106\n",
      "8/106\n",
      "9/106\n",
      "10/106\n",
      "11/106\n",
      "12/106\n",
      "13/106\n",
      "14/106\n",
      "15/106\n",
      "16/106\n",
      "17/106\n",
      "18/106\n",
      "19/106\n",
      "20/106\n",
      "21/106\n",
      "22/106\n",
      "23/106\n",
      "24/106\n",
      "25/106\n",
      "26/106\n",
      "27/106\n",
      "28/106\n",
      "29/106\n",
      "30/106\n",
      "31/106\n",
      "32/106\n",
      "33/106\n",
      "34/106\n",
      "35/106\n",
      "36/106\n",
      "37/106\n",
      "38/106\n",
      "39/106\n",
      "40/106\n",
      "41/106\n",
      "42/106\n",
      "43/106\n",
      "44/106\n",
      "45/106\n",
      "46/106\n",
      "47/106\n",
      "48/106\n",
      "49/106\n",
      "50/106\n",
      "51/106\n",
      "52/106\n",
      "53/106\n",
      "54/106\n",
      "55/106\n",
      "56/106\n",
      "57/106\n",
      "58/106\n",
      "59/106\n",
      "60/106\n",
      "61/106\n",
      "62/106\n",
      "63/106\n",
      "64/106\n",
      "65/106\n",
      "66/106\n",
      "67/106\n",
      "68/106\n",
      "69/106\n",
      "70/106\n",
      "71/106\n",
      "72/106\n",
      "73/106\n",
      "74/106\n",
      "75/106\n",
      "76/106\n",
      "77/106\n",
      "78/106\n",
      "79/106\n",
      "80/106\n",
      "81/106\n",
      "82/106\n",
      "83/106\n",
      "84/106\n",
      "85/106\n",
      "86/106\n",
      "87/106\n",
      "88/106\n",
      "89/106\n",
      "90/106\n",
      "91/106\n",
      "92/106\n",
      "93/106\n",
      "94/106\n",
      "95/106\n",
      "96/106\n",
      "97/106\n",
      "98/106\n",
      "99/106\n",
      "100/106\n",
      "101/106\n",
      "102/106\n",
      "103/106\n",
      "104/106\n",
      "finished: 2020-07-04 16:05:19.980511\n"
     ]
    }
   ],
   "source": [
    "f = 4\n",
    "Biggie = np.zeros( (nsubs,nmasks,nrois,nrois) ) # Pre-allocate\n",
    "print('started: {}'.format(now() ))\n",
    "for s in np.arange(nsubs-1):\n",
    "    print('{}/{}'.format(s,nsubs))\n",
    "    sub = subs[s];sub\n",
    "    data_fn,mask_fn,rp_fn = getFNs(sub,f,0)\n",
    "    rp = np.array(pd.read_csv(rp_fn,sep='\\s+',header=None))\n",
    "    GM_idx = get_GMidx(sub)\n",
    "\n",
    "    # Get Cleaned Data\n",
    "    data = get_data(data_fn,rp,GM_idx)\n",
    "\n",
    "    # Get all Masks\n",
    "    maskMat = get_maskMat(sub,GM_idx)\n",
    "\n",
    "    for m in np.arange(nmasks):\n",
    "        parcelMat = np.array([data['resid'][:,maskMat[m,:]==r].mean(axis=1) for r in np.arange(1,nrois+1)])\n",
    "        cmat = np.corrcoef(parcelMat)\n",
    "        Biggie[s,m,:,:] = cmat\n",
    "\n",
    "print('finished: {}'.format(now() ))"
   ]
  },
  {
   "cell_type": "code",
   "execution_count": 25,
   "metadata": {},
   "outputs": [
    {
     "data": {
      "text/plain": [
       "array([[0., 0., 0., ..., 0., 0., 0.],\n",
       "       [0., 0., 0., ..., 0., 0., 0.],\n",
       "       [0., 0., 0., ..., 0., 0., 0.],\n",
       "       ...,\n",
       "       [0., 0., 0., ..., 0., 0., 0.],\n",
       "       [0., 0., 0., ..., 0., 0., 0.],\n",
       "       [0., 0., 0., ..., 0., 0., 0.]])"
      ]
     },
     "execution_count": 25,
     "metadata": {},
     "output_type": "execute_result"
    }
   ],
   "source": [
    "Biggie[105,0,:,:]"
   ]
  },
  {
   "cell_type": "code",
   "execution_count": null,
   "metadata": {},
   "outputs": [],
   "source": []
  },
  {
   "cell_type": "code",
   "execution_count": 26,
   "metadata": {},
   "outputs": [
    {
     "name": "stdout",
     "output_type": "stream",
     "text": [
      "/Volumes/Samsung_T5/DS-use-new-atlas/sub-337/func/rrsub-337_task-rest_run-2_bold.nii\n"
     ]
    }
   ],
   "source": [
    "print(data_fn)"
   ]
  },
  {
   "cell_type": "code",
   "execution_count": 27,
   "metadata": {},
   "outputs": [
    {
     "name": "stdout",
     "output_type": "stream",
     "text": [
      "/Users/aidasaglinskas/Desktop/task-rest_run-2\n"
     ]
    }
   ],
   "source": [
    "nm='task-rest_run-2'\n",
    "ofn='/Users/aidasaglinskas/Desktop/{}'.format(nm)\n",
    "print(ofn)"
   ]
  },
  {
   "cell_type": "code",
   "execution_count": 28,
   "metadata": {},
   "outputs": [],
   "source": [
    "np.save(ofn,Biggie)"
   ]
  },
  {
   "cell_type": "code",
   "execution_count": null,
   "metadata": {},
   "outputs": [],
   "source": [
    "\n",
    "#ofn = '/Users/aidasaglinskas/Desktop/anatomical.npy'"
   ]
  },
  {
   "cell_type": "code",
   "execution_count": null,
   "metadata": {},
   "outputs": [],
   "source": []
  },
  {
   "cell_type": "code",
   "execution_count": null,
   "metadata": {},
   "outputs": [],
   "source": []
  },
  {
   "cell_type": "code",
   "execution_count": null,
   "metadata": {},
   "outputs": [],
   "source": []
  },
  {
   "cell_type": "code",
   "execution_count": null,
   "metadata": {},
   "outputs": [],
   "source": []
  },
  {
   "cell_type": "code",
   "execution_count": null,
   "metadata": {},
   "outputs": [],
   "source": []
  },
  {
   "cell_type": "code",
   "execution_count": null,
   "metadata": {},
   "outputs": [],
   "source": [
    "def flatten_C(C):\n",
    "    nsubs = C.shape[0]\n",
    "    ndim = C.shape[1]\n",
    "    s = 0\n",
    "    conn = C[s,:,:][np.triu_indices(ndim,1)]\n",
    "    for s in range(1,nsubs):\n",
    "        conn = np.vstack((conn,C[s,:,:][np.triu_indices(ndim,1)]))\n",
    "    return conn"
   ]
  },
  {
   "cell_type": "code",
   "execution_count": null,
   "metadata": {},
   "outputs": [],
   "source": [
    "# Sanity Checks\n",
    "#overlap = np.array([sum(maskMat[0,:]==maskMat[r,:]) / maskMat.shape[1] for r in range(maskMat.shape[0])]);"
   ]
  },
  {
   "cell_type": "code",
   "execution_count": null,
   "metadata": {},
   "outputs": [],
   "source": [
    "#plt.plot(overlap)\n",
    "#sns.distplot(  np.array(flatten_C(Biggie[:,0,:,:])   -   flatten_C(Biggie[:,50,:,:]))  )"
   ]
  },
  {
   "cell_type": "code",
   "execution_count": null,
   "metadata": {},
   "outputs": [],
   "source": []
  },
  {
   "cell_type": "code",
   "execution_count": null,
   "metadata": {},
   "outputs": [],
   "source": []
  },
  {
   "cell_type": "code",
   "execution_count": null,
   "metadata": {},
   "outputs": [],
   "source": []
  },
  {
   "cell_type": "code",
   "execution_count": null,
   "metadata": {},
   "outputs": [],
   "source": []
  },
  {
   "cell_type": "code",
   "execution_count": null,
   "metadata": {},
   "outputs": [],
   "source": []
  },
  {
   "cell_type": "code",
   "execution_count": null,
   "metadata": {},
   "outputs": [],
   "source": []
  }
 ],
 "metadata": {
  "kernelspec": {
   "display_name": "Python 3",
   "language": "python",
   "name": "python3"
  },
  "language_info": {
   "codemirror_mode": {
    "name": "ipython",
    "version": 3
   },
   "file_extension": ".py",
   "mimetype": "text/x-python",
   "name": "python",
   "nbconvert_exporter": "python",
   "pygments_lexer": "ipython3",
   "version": "3.7.7"
  }
 },
 "nbformat": 4,
 "nbformat_minor": 4
}
