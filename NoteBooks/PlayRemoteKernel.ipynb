{
 "cells": [
  {
   "cell_type": "code",
   "execution_count": 2,
   "metadata": {},
   "outputs": [
    {
     "name": "stdout",
     "output_type": "stream",
     "text": [
      "hello\n"
     ]
    }
   ],
   "source": [
    "print('hello')"
   ]
  },
  {
   "cell_type": "code",
   "execution_count": 3,
   "metadata": {},
   "outputs": [
    {
     "data": {
      "text/plain": [
       "'/gsfs0/data/aglinsai'"
      ]
     },
     "execution_count": 3,
     "metadata": {},
     "output_type": "execute_result"
    }
   ],
   "source": [
    "pwd"
   ]
  },
  {
   "cell_type": "code",
   "execution_count": null,
   "metadata": {},
   "outputs": [],
   "source": [
    "#!ps  -ef | grep $$ | grep -v grep"
   ]
  },
  {
   "cell_type": "code",
   "execution_count": 5,
   "metadata": {},
   "outputs": [],
   "source": [
    "import os\n",
    "import numpy as np\n",
    "#import ants\n",
    "from matplotlib import pyplot as plt\n",
    "from nilearn.input_data import NiftiMasker\n",
    "\n",
    "import datetime\n",
    "now = datetime.datetime.now"
   ]
  },
  {
   "cell_type": "code",
   "execution_count": 6,
   "metadata": {},
   "outputs": [],
   "source": [
    "bids_dir= '/gsfs0/data/aglinsai/fMRI_InData/DS-use-new-atlas'"
   ]
  },
  {
   "cell_type": "code",
   "execution_count": 7,
   "metadata": {},
   "outputs": [],
   "source": [
    "subs = [sub for sub in os.listdir(bids_dir) if 'sub-' in sub]\n",
    "subs.sort()"
   ]
  },
  {
   "cell_type": "code",
   "execution_count": 8,
   "metadata": {},
   "outputs": [],
   "source": [
    "#s = 0;mtemp='mv2Mask_3001'\n",
    "def is_50(s,mtemp):\n",
    "    sdir=os.path.join(bids_dir,subs[s])\n",
    "    sadir=os.path.join(sdir,'atlas')\n",
    "    conts = os.listdir(sadir);conts.sort()\n",
    "    files = [c for c in conts if mtemp in c and '.nii' in c];files.sort()\n",
    "    return len(files)==50\n",
    "\n",
    "#done_subs = np.argwhere([is_50(s,mtemp) for s in range(len(subs))])\n",
    "#len(done_subs)"
   ]
  },
  {
   "cell_type": "code",
   "execution_count": 12,
   "metadata": {},
   "outputs": [
    {
     "data": {
      "text/plain": [
       "15"
      ]
     },
     "execution_count": 12,
     "metadata": {},
     "output_type": "execute_result"
    }
   ],
   "source": [
    "#mtemp = 'rfx2Mask_3001'\n",
    "mtemp='rfx2Mask_3001'\n",
    "done_subs = np.argwhere([is_50(s,mtemp) for s in range(len(subs))])\n",
    "len(done_subs)"
   ]
  },
  {
   "cell_type": "code",
   "execution_count": null,
   "metadata": {},
   "outputs": [],
   "source": [
    "def get_ch_vec(s,mtemp):\n",
    "    #s = 1\n",
    "    sdir=os.path.join(bids_dir,subs[s])\n",
    "    sadir=os.path.join(sdir,'atlas')\n",
    "    conts = os.listdir(sadir);conts.sort()\n",
    "\n",
    "    nifti_masker = NiftiMasker(mask_img=os.path.join(sadir,'epimask.nii'),)\n",
    "\n",
    "    #mtemp='mv2Mask_3001'\n",
    "    files = [c for c in conts if mtemp in c and '.nii' in c];files.sort()\n",
    "\n",
    "    data0 = nifti_masker.fit_transform(os.path.join(sadir,'imask.nii'))\n",
    "    data1 = nifti_masker.fit_transform(os.path.join(sadir,files[0]))\n",
    "    for i in range(1,len(files)):\n",
    "        t = nifti_masker.fit_transform(os.path.join(sadir,files[i]))\n",
    "        data1 = np.vstack((data1,t))\n",
    "\n",
    "    ch_vec = np.array(data1==data0).sum(axis=1)/data1.shape[1]\n",
    "\n",
    "    return ch_vec"
   ]
  },
  {
   "cell_type": "code",
   "execution_count": null,
   "metadata": {},
   "outputs": [],
   "source": [
    "mtemp='mv2Mask_3001'\n",
    "\n",
    "done_subs = np.argwhere([is_50(s,mtemp) for s in range(len(subs))])\n",
    "len(done_subs)\n",
    "\n",
    "print(now())\n",
    "print('stacking');\n",
    "ch_vecs=get_ch_vec(int(done_subs[0]),mtemp)\n",
    "for i in done_subs[1::]:\n",
    "    ch_vecs = np.vstack(  (ch_vecs,get_ch_vec(int(i),mtemp)) )\n",
    "    print('{}/{}'.format(ch_vecs.shape[0],len(done_subs[1::])))\n",
    "print(now())\n",
    "\n",
    "plt.figure(figsize=(10,7.5))\n",
    "plt.plot(ch_vecs.transpose());"
   ]
  },
  {
   "cell_type": "code",
   "execution_count": null,
   "metadata": {},
   "outputs": [],
   "source": [
    "plt.hist(ch_vecs[:,0],alpha=.5)\n",
    "plt.hist(ch_vecs[:,-1],alpha=.5)\n",
    "plt.legend(['0','50'])"
   ]
  },
  {
   "cell_type": "code",
   "execution_count": null,
   "metadata": {},
   "outputs": [],
   "source": [
    "mtemp='rfx2Mask_3001'\n",
    "\n",
    "done_subs = np.argwhere([is_50(s,mtemp) for s in range(len(subs))])\n",
    "len(done_subs)\n",
    "\n",
    "print(now())\n",
    "print('stacking');\n",
    "ch_vecs=get_ch_vec(int(done_subs[0]),mtemp)\n",
    "for i in done_subs[1::]:\n",
    "    ch_vecs = np.vstack(  (ch_vecs,get_ch_vec(int(i),mtemp)) )\n",
    "    print('{}/{}'.format(ch_vecs.shape[0],len(done_subs[1::])))\n",
    "print(now())\n",
    "\n",
    "plt.figure(figsize=(10,7.5))\n",
    "plt.plot(ch_vecs.transpose());"
   ]
  },
  {
   "cell_type": "code",
   "execution_count": null,
   "metadata": {},
   "outputs": [],
   "source": [
    "plt.hist(ch_vecs[:,0],alpha=.5)\n",
    "plt.hist(ch_vecs[:,-1],alpha=.5)\n",
    "plt.legend(['0','50'])"
   ]
  },
  {
   "cell_type": "code",
   "execution_count": null,
   "metadata": {},
   "outputs": [],
   "source": []
  },
  {
   "cell_type": "code",
   "execution_count": 14,
   "metadata": {},
   "outputs": [],
   "source": [
    "#plt.bar(np.arange(ch_vecs.shape[0]),ch_vecs[:,0])\n",
    "#plt.bar(np.arange(ch_vecs.shape[0]),ch_vecs[:,49])"
   ]
  },
  {
   "cell_type": "code",
   "execution_count": null,
   "metadata": {},
   "outputs": [],
   "source": []
  },
  {
   "cell_type": "code",
   "execution_count": null,
   "metadata": {},
   "outputs": [],
   "source": []
  },
  {
   "cell_type": "code",
   "execution_count": null,
   "metadata": {},
   "outputs": [],
   "source": []
  },
  {
   "cell_type": "code",
   "execution_count": null,
   "metadata": {},
   "outputs": [],
   "source": []
  },
  {
   "cell_type": "code",
   "execution_count": null,
   "metadata": {},
   "outputs": [],
   "source": []
  },
  {
   "cell_type": "code",
   "execution_count": null,
   "metadata": {},
   "outputs": [],
   "source": []
  },
  {
   "cell_type": "code",
   "execution_count": null,
   "metadata": {},
   "outputs": [],
   "source": []
  },
  {
   "cell_type": "code",
   "execution_count": null,
   "metadata": {},
   "outputs": [],
   "source": []
  }
 ],
 "metadata": {
  "kernelspec": {
   "display_name": "RemotePython",
   "language": "python",
   "name": "template"
  },
  "language_info": {
   "codemirror_mode": {
    "name": "ipython",
    "version": 3
   },
   "file_extension": ".py",
   "mimetype": "text/x-python",
   "name": "python",
   "nbconvert_exporter": "python",
   "pygments_lexer": "ipython3",
   "version": "3.7.6"
  }
 },
 "nbformat": 4,
 "nbformat_minor": 4
}
