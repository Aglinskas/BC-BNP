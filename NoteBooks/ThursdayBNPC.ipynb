{
 "cells": [
  {
   "cell_type": "code",
   "execution_count": 29,
   "metadata": {},
   "outputs": [],
   "source": [
    "import numpy as np\n",
    "from matplotlib import pyplot as plt\n",
    "from scipy.special import digamma, gammaln\n",
    "from sklearn.cluster import KMeans\n",
    "from scipy.stats import beta,norm,multinomial"
   ]
  },
  {
   "cell_type": "code",
   "execution_count": 2,
   "metadata": {},
   "outputs": [
    {
     "data": {
      "image/png": "[encoded data removed]",
      "text/plain": [
       "<Figure size 432x288 with 1 Axes>"
      ]
     },
     "metadata": {
      "needs_background": "light"
     },
     "output_type": "display_data"
    }
   ],
   "source": [
    "m = np.array((-8,0,8));m\n",
    "ndim = 2;\n",
    "nclust = len(m)\n",
    "clustn = 100\n",
    "n = (nclust*clustn)\n",
    "\n",
    "#data = np.zeros((n,ndim))\n",
    "#c0 = np.zeros(n)\n",
    "cid = 0\n",
    "data = np.random.multivariate_normal(mean=np.repeat(m[cid],ndim), cov=np.eye(ndim), size=clustn, check_valid='warn', tol=1e-8)\n",
    "c0 = np.repeat(cid,clustn)\n",
    "for cid in range(1,nclust):\n",
    "    data = np.vstack((data,np.random.multivariate_normal(mean=np.repeat(m[cid],ndim), cov=np.eye(ndim), size=clustn, check_valid='warn', tol=1e-8)))\n",
    "    c0 = np.hstack((c0,np.repeat(cid,clustn)))\n",
    "    \n",
    "plt.scatter(x=data[:,0],y=data[:,1],c=c0);"
   ]
  },
  {
   "cell_type": "code",
   "execution_count": null,
   "metadata": {},
   "outputs": [],
   "source": []
  },
  {
   "cell_type": "code",
   "execution_count": 8,
   "metadata": {},
   "outputs": [],
   "source": [
    "T = 5 # Truncation\n",
    "alpha=1\n",
    "lambda1 = 1\n",
    "lambda2 = 1\n",
    "X = data\n",
    "N,P = X.shape"
   ]
  },
  {
   "cell_type": "code",
   "execution_count": null,
   "metadata": {},
   "outputs": [],
   "source": []
  },
  {
   "cell_type": "code",
   "execution_count": 9,
   "metadata": {},
   "outputs": [],
   "source": [
    "# Initialise\n",
    "mean_mu = KMeans(n_clusters=T).fit(X).cluster_centers_[::-1]\n",
    "cov_mu = np.empty((T, P, P))\n",
    "for i in range(T):\n",
    "    cov_mu[i,:,:] = np.eye(P)\n",
    "\n",
    "gamma1= alpha * np.ones(T)\n",
    "gamma2 = alpha * np.ones(T)\n",
    "tau1= np.ones(T)\n",
    "tau2=np.ones(T)\n",
    "phi = np.ones((T, N)) / T"
   ]
  },
  {
   "cell_type": "code",
   "execution_count": 10,
   "metadata": {},
   "outputs": [],
   "source": [
    "Nt = np.sum(phi, axis = 1)"
   ]
  },
  {
   "cell_type": "code",
   "execution_count": 11,
   "metadata": {},
   "outputs": [],
   "source": [
    "def update_gamma1(gamma1):\n",
    "    gamma1 = 1 + phi.sum(axis=1)\n",
    "    return gamma1\n",
    "\n",
    "def update_gamma2(gamma2):\n",
    "    gamma2 = [alpha + phi[np.arange(t+1,T),:].sum() for t in range(T)]\n",
    "    gamma2 = np.array(gamma2)\n",
    "    return gamma2\n",
    "\n",
    "def update_tau1(tau1):\n",
    "    pass\n",
    "\n",
    "def update_tau2(tau1):\n",
    "    pass\n",
    "\n",
    "def update_phi(phi):\n",
    "    for t in np.arange(T):\n",
    "        Eq_logVi = gamma1[t]-digamma(gamma1[t]+gamma2[t])\n",
    "        Eq_log_1minusVi = gamma2[t]-digamma(gamma1[t]+gamma2[t])"
   ]
  },
  {
   "cell_type": "code",
   "execution_count": 18,
   "metadata": {},
   "outputs": [],
   "source": [
    "for t in np.arange(T):\n",
    "    Eq_logVi = gamma1[t]-digamma(gamma1[t]+gamma2[t])\n",
    "    Eq_log_1minusVi = gamma2[t]-digamma(gamma1[t]+gamma2[t])"
   ]
  },
  {
   "cell_type": "code",
   "execution_count": 22,
   "metadata": {},
   "outputs": [],
   "source": [
    "#lowerbound\n",
    "Eq_logP_V_alpha = 1"
   ]
  },
  {
   "cell_type": "code",
   "execution_count": 62,
   "metadata": {},
   "outputs": [
    {
     "data": {
      "text/plain": [
       "(array([ 8., 15.,  4.,  9., 12.,  7.,  9.,  9., 15., 12.]),\n",
       " array([5.84305540e-04, 1.00377241e-01, 2.00170177e-01, 2.99963112e-01,\n",
       "        3.99756048e-01, 4.99548984e-01, 5.99341919e-01, 6.99134855e-01,\n",
       "        7.98927790e-01, 8.98720726e-01, 9.98513662e-01]),\n",
       " <a list of 10 Patch objects>)"
      ]
     },
     "execution_count": 62,
     "metadata": {},
     "output_type": "execute_result"
    },
    {
     "data": {
      "image/png": "[encoded data removed]",
      "text/plain": [
       "<Figure size 432x288 with 1 Axes>"
      ]
     },
     "metadata": {
      "needs_background": "light"
     },
     "output_type": "display_data"
    }
   ],
   "source": [
    "q_gamma = [beta(gamma1[t],gamma2[t]) for t in range(T)]\n",
    "\n",
    "#plt.hist([q_gamma[0].rvs() for _ in range(100)])"
   ]
  },
  {
   "cell_type": "code",
   "execution_count": null,
   "metadata": {},
   "outputs": [],
   "source": []
  },
  {
   "cell_type": "code",
   "execution_count": null,
   "metadata": {},
   "outputs": [],
   "source": []
  },
  {
   "cell_type": "code",
   "execution_count": null,
   "metadata": {},
   "outputs": [],
   "source": []
  },
  {
   "cell_type": "code",
   "execution_count": null,
   "metadata": {},
   "outputs": [],
   "source": []
  },
  {
   "cell_type": "code",
   "execution_count": null,
   "metadata": {},
   "outputs": [],
   "source": []
  },
  {
   "cell_type": "code",
   "execution_count": null,
   "metadata": {},
   "outputs": [],
   "source": []
  },
  {
   "cell_type": "code",
   "execution_count": null,
   "metadata": {},
   "outputs": [],
   "source": []
  },
  {
   "cell_type": "code",
   "execution_count": null,
   "metadata": {},
   "outputs": [],
   "source": []
  },
  {
   "cell_type": "code",
   "execution_count": null,
   "metadata": {},
   "outputs": [],
   "source": []
  },
  {
   "cell_type": "code",
   "execution_count": null,
   "metadata": {},
   "outputs": [],
   "source": []
  },
  {
   "cell_type": "code",
   "execution_count": null,
   "metadata": {},
   "outputs": [],
   "source": []
  },
  {
   "cell_type": "code",
   "execution_count": null,
   "metadata": {},
   "outputs": [],
   "source": []
  },
  {
   "cell_type": "code",
   "execution_count": null,
   "metadata": {},
   "outputs": [],
   "source": []
  },
  {
   "cell_type": "code",
   "execution_count": 204,
   "metadata": {},
   "outputs": [],
   "source": [
    "\n"
   ]
  },
  {
   "cell_type": "code",
   "execution_count": null,
   "metadata": {},
   "outputs": [],
   "source": []
  }
 ],
 "metadata": {
  "kernelspec": {
   "display_name": "Python 3",
   "language": "python",
   "name": "python3"
  },
  "language_info": {
   "codemirror_mode": {
    "name": "ipython",
    "version": 3
   },
   "file_extension": ".py",
   "mimetype": "text/x-python",
   "name": "python",
   "nbconvert_exporter": "python",
   "pygments_lexer": "ipython3",
   "version": "3.7.7"
  }
 },
 "nbformat": 4,
 "nbformat_minor": 4
}
