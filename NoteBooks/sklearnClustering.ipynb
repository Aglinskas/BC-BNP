{
 "cells": [
  {
   "cell_type": "code",
   "execution_count": 1,
   "metadata": {},
   "outputs": [
    {
     "name": "stdout",
     "output_type": "stream",
     "text": [
      "Running on PyMC3 v3.8\n",
      "hello\n",
      "2020-02-27 12:32:31.016227\n",
      "numcores: 8\n"
     ]
    }
   ],
   "source": [
    "import theano\n",
    "import pymc3 as pm\n",
    "import numpy as np\n",
    "import theano.tensor as tt\n",
    "from matplotlib import pyplot as plt\n",
    "\n",
    "print('Running on PyMC3 v{}'.format(pm.__version__))\n",
    "\n",
    "from datetime import datetime\n",
    "import pickle # python3\n",
    "import os\n",
    "now = datetime.now\n",
    "\n",
    "t_start = now()\n",
    "print('hello')\n",
    "print(t_start)\n",
    "\n",
    "import multiprocessing\n",
    "ncores = multiprocessing.cpu_count()\n",
    "print('numcores: {}'.format(ncores))\n",
    "#%%"
   ]
  },
  {
   "cell_type": "code",
   "execution_count": 2,
   "metadata": {},
   "outputs": [
    {
     "name": "stdout",
     "output_type": "stream",
     "text": [
      "/Users/aidasaglinskas/Desktop/BC-BNP/NoteBooks\n",
      "Im on local\n",
      "/Users/aidasaglinskas/Desktop/roi_paper_data/\n"
     ]
    }
   ],
   "source": [
    "print(os.getcwd())\n",
    "if 'aglinsai' in os.getcwd():\n",
    "    in_dir='/gsfs0/data/aglinsai/roi_paper_data'\n",
    "    print('Im on cluster')\n",
    "elif 'aidasaglinskas' in os.getcwd():\n",
    "    in_dir='/Users/aidasaglinskas/Desktop/roi_paper_data/'\n",
    "    print('Im on local')\n",
    "else:\n",
    "    raise(Exception('I dont know where I am'))\n",
    "\n",
    "print(in_dir)"
   ]
  },
  {
   "cell_type": "code",
   "execution_count": 3,
   "metadata": {},
   "outputs": [
    {
     "name": "stdout",
     "output_type": "stream",
     "text": [
      "pmask2_3001_cmats_121_task-rest.npz\n",
      "pmask_3001_cmats_127_task-face.npz\n",
      "pmask_3001_cmats_127_task-rest.npz\n",
      "rMask_3001_cmats_105_task-rest.npz\n",
      "rfx2Mask_501_cmats_16_task-face.npz\n",
      "rfx2Mask_501_cmats_16_task-rest.npz\n",
      "rfx2Mask_501_cmats_20_task-face.npz\n",
      "______\n",
      "pmask2_3001_proportionMat_121_task-rest.npz\n",
      "pmask_3001_proportionMat_127_task-face.npz\n",
      "pmask_3001_proportionMat_127_task-rest.npz\n",
      "rMask_3001_proportionMat_105_task-rest.npz\n",
      "rfx2Mask_501_proportionMat_16_task-face.npz\n",
      "rfx2Mask_501_proportionMat_16_task-rest.npz\n",
      "rfx2Mask_501_proportionMat_20_task-face.npz\n",
      "______\n",
      "pmask2_3001_subs_121_task-rest.npz\n",
      "pmask_3001_subs_127_task-face.npz\n",
      "pmask_3001_subs_127_task-rest.npz\n",
      "rMask_3001_subs_105_task-rest.npz\n",
      "rfx2Mask_501_subs_16_task-face.npz\n",
      "rfx2Mask_501_subs_16_task-rest.npz\n",
      "rfx2Mask_501_subs_20_task-face.npz\n",
      "/Users/aidasaglinskas/Desktop/roi_paper_data/pmask2_3001_cmats_121_task-rest.npz\n",
      "(121, 51, 51, 51)\n",
      "/Users/aidasaglinskas/Desktop/roi_paper_data/pmask2_3001_proportionMat_121_task-rest.npz\n",
      "(121, 51, 51)\n",
      "/Users/aidasaglinskas/Desktop/roi_paper_data/pmask2_3001_subs_121_task-rest.npz\n",
      "(121,)\n",
      "conn shape\n",
      "(121, 51, 1275)\n"
     ]
    }
   ],
   "source": [
    "i = 0\n",
    "\n",
    "temp = os.listdir(in_dir)\n",
    "cmat_files = [file for file in temp if 'cmat' in file]\n",
    "proportion_files = [file for file in temp if 'proportion' in file]\n",
    "subs_files = [file for file in temp if 'subs' in file]\n",
    "cmat_files.sort()\n",
    "proportion_files.sort()\n",
    "subs_files.sort()\n",
    "\n",
    "[print(file) for file in cmat_files]\n",
    "print('______')\n",
    "[print(file) for file in proportion_files]\n",
    "print('______')\n",
    "[print(file) for file in subs_files]\n",
    "\n",
    "\n",
    "cmat_fn = os.path.join(in_dir,cmat_files[i])\n",
    "proportionMat_fn = os.path.join(in_dir,proportion_files[i])\n",
    "subs_fn = os.path.join(in_dir,subs_files[i])\n",
    "cmats = np.load(cmat_fn)\n",
    "proportionMat = np.load(proportionMat_fn)\n",
    "subs = np.load(subs_fn)\n",
    "\n",
    "subs=subs['arr_0']\n",
    "proportionMat = proportionMat['arr_0']\n",
    "cmats = cmats['arr_0']\n",
    "\n",
    "nsubs=cmats.shape[0]\n",
    "nmasks=cmats.shape[1]\n",
    "conn=np.zeros((nsubs,nmasks,1275))\n",
    "\n",
    "for s in range(nsubs):\n",
    "    for m in range(nmasks):\n",
    "        conn[s,m,:]=cmats[s,m,:,:][np.triu_indices(51,1)]\n",
    "\n",
    "print(cmat_fn)\n",
    "print(cmats.shape)\n",
    "print(proportionMat_fn)\n",
    "print(proportionMat.shape)\n",
    "print(subs_fn)\n",
    "print(subs.shape)\n",
    "print('conn shape')\n",
    "print(conn.shape)\n",
    "\n",
    "#proportionMat[s,m,:] = perc\n",
    "#cmat[s,m,:,:]"
   ]
  },
  {
   "cell_type": "code",
   "execution_count": 4,
   "metadata": {},
   "outputs": [],
   "source": [
    "from sklearn import mixture\n"
   ]
  },
  {
   "cell_type": "code",
   "execution_count": 8,
   "metadata": {},
   "outputs": [],
   "source": [
    "model = mixture.BayesianGaussianMixture(max_iter=100000,\n",
    "                                      n_components=121,covariance_type='tied',\n",
    "                                      init_params='random',tol=0.001,\n",
    "                                      weight_concentration_prior_type='dirichlet_process',weight_concentration_prior=1,mean_precision_prior=None)\n",
    "\n",
    "z = model.fit_predict(conn[:,0,:])"
   ]
  },
  {
   "cell_type": "code",
   "execution_count": 11,
   "metadata": {},
   "outputs": [
    {
     "name": "stdout",
     "output_type": "stream",
     "text": [
      "[ 84  56 113 113  29  26  45  35 105  28  17  44  44 104  62   1  56  89\n",
      "  29 120  54  47  85  56 117  68  10  26   0  63  31  88  35  56  39  45\n",
      " 113  49  26  14   1  64 116 110  92  88  72  45  88  54   8  94 105  49\n",
      "  26   3 115  99   0  45   4  60 120 114  10  35  35  35  27  14  31  56\n",
      "  54  20  89  35  63  20   7  89   2   3  73   2  56  91   0  96  89  67\n",
      "  23  35   8  57  74  25  37 103  19  67 104  92   4  26  35 113  83  33\n",
      " 106  28  43  95  29  87  34   0  34  11  98  91  31]\n"
     ]
    },
    {
     "data": {
      "image/png": "[encoded data removed]",
      "text/plain": [
       "<Figure size 432x288 with 1 Axes>"
      ]
     },
     "metadata": {
      "needs_background": "light"
     },
     "output_type": "display_data"
    }
   ],
   "source": [
    "print(z)\n",
    "plt.hist(z);"
   ]
  },
  {
   "cell_type": "code",
   "execution_count": 70,
   "metadata": {},
   "outputs": [
    {
     "name": "stdout",
     "output_type": "stream",
     "text": [
      "2020-02-24 18:30:50.725193\n",
      "2020-02-24 18:41:29.927089\n"
     ]
    },
    {
     "data": {
      "image/png": "[encoded data removed]",
      "text/plain": [
       "<Figure size 432x288 with 1 Axes>"
      ]
     },
     "metadata": {
      "needs_background": "light"
     },
     "output_type": "display_data"
    }
   ],
   "source": [
    "model = mixture.BayesianGaussianMixture(max_iter=100000,\n",
    "                                      n_components=121,covariance_type='tied',\n",
    "                                      init_params='random',tol=0.001,\n",
    "                                      weight_concentration_prior_type='dirichlet_process',weight_concentration_prior=1,mean_precision_prior=None)\n",
    "\n",
    "print(now())\n",
    "vec1=[len(np.unique(np.unique(model.fit_predict(conn[:,0,:])))) for _ in range(100)]\n",
    "vec2=[len(np.unique(np.unique(model.fit_predict(conn[:,50,:])))) for _ in range(100)]\n",
    "\n",
    "plt.hist(vec1,alpha=.5)\n",
    "plt.hist(vec2,alpha=.5)\n",
    "plt.legend(['1','50'])\n",
    "print(now())"
   ]
  },
  {
   "cell_type": "code",
   "execution_count": 68,
   "metadata": {},
   "outputs": [
    {
     "name": "stdout",
     "output_type": "stream",
     "text": [
      "60.4\n",
      "60.91\n"
     ]
    }
   ],
   "source": [
    "print(np.mean(vec1))\n",
    "print(np.mean(vec2))"
   ]
  },
  {
   "cell_type": "code",
   "execution_count": 63,
   "metadata": {},
   "outputs": [
    {
     "name": "stdout",
     "output_type": "stream",
     "text": [
      "2020-02-24 15:49:18.571188\n",
      "2020-02-24 15:49:59.201572\n"
     ]
    },
    {
     "data": {
      "image/png": "[encoded data removed]",
      "text/plain": [
       "<Figure size 432x288 with 1 Axes>"
      ]
     },
     "metadata": {
      "needs_background": "light"
     },
     "output_type": "display_data"
    }
   ],
   "source": [
    "model = mixture.BayesianGaussianMixture(max_iter=100000,\n",
    "                                      n_components=121,covariance_type='tied',\n",
    "                                      init_params='random',tol=0.001,\n",
    "                                      weight_concentration_prior_type='dirichlet_process',weight_concentration_prior=None,mean_precision_prior=None)\n",
    "\n",
    "print(now())\n",
    "vec1=[len(np.unique(np.unique(model.fit_predict(proportionMat[:,0,:])))) for _ in range(500)]\n",
    "vec2=[len(np.unique(np.unique(model.fit_predict(proportionMat[:,50,:])))) for _ in range(500)]\n",
    "\n",
    "plt.hist(vec1,alpha=.5)\n",
    "plt.hist(vec2,alpha=.5)\n",
    "plt.legend(['1','50'])\n",
    "print(now())\n",
    "\n",
    "print(np.mean(vec1))\n",
    "print(np.mean(vec2))"
   ]
  },
  {
   "cell_type": "code",
   "execution_count": null,
   "metadata": {},
   "outputs": [],
   "source": []
  },
  {
   "cell_type": "code",
   "execution_count": null,
   "metadata": {},
   "outputs": [],
   "source": []
  },
  {
   "cell_type": "code",
   "execution_count": null,
   "metadata": {},
   "outputs": [],
   "source": []
  },
  {
   "cell_type": "code",
   "execution_count": null,
   "metadata": {},
   "outputs": [],
   "source": []
  },
  {
   "cell_type": "code",
   "execution_count": null,
   "metadata": {},
   "outputs": [],
   "source": []
  },
  {
   "cell_type": "code",
   "execution_count": null,
   "metadata": {},
   "outputs": [],
   "source": []
  },
  {
   "cell_type": "code",
   "execution_count": null,
   "metadata": {},
   "outputs": [],
   "source": []
  },
  {
   "cell_type": "code",
   "execution_count": null,
   "metadata": {},
   "outputs": [],
   "source": []
  },
  {
   "cell_type": "code",
   "execution_count": null,
   "metadata": {},
   "outputs": [],
   "source": []
  }
 ],
 "metadata": {
  "kernelspec": {
   "display_name": "Python 3",
   "language": "python",
   "name": "python3"
  },
  "language_info": {
   "codemirror_mode": {
    "name": "ipython",
    "version": 3
   },
   "file_extension": ".py",
   "mimetype": "text/x-python",
   "name": "python",
   "nbconvert_exporter": "python",
   "pygments_lexer": "ipython3",
   "version": "3.7.7"
  }
 },
 "nbformat": 4,
 "nbformat_minor": 4
}
